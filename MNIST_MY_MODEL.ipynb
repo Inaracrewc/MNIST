{
  "nbformat": 4,
  "nbformat_minor": 0,
  "metadata": {
    "colab": {
      "name": "MNIST MY MODEL.ipynb",
      "provenance": [],
      "collapsed_sections": [],
      "authorship_tag": "ABX9TyO7H5V+2jlbLBywcuti6eZT",
      "include_colab_link": true
    },
    "kernelspec": {
      "name": "python3",
      "display_name": "Python 3"
    },
    "accelerator": "GPU"
  },
  "cells": [
    {
      "cell_type": "markdown",
      "metadata": {
        "id": "view-in-github",
        "colab_type": "text"
      },
      "source": [
        "<a href=\"https://colab.research.google.com/github/Inaracrewc/MNIST/blob/main/MNIST_MY_MODEL.ipynb\" target=\"_parent\"><img src=\"https://colab.research.google.com/assets/colab-badge.svg\" alt=\"Open In Colab\"/></a>"
      ]
    },
    {
      "cell_type": "code",
      "metadata": {
        "id": "tvGNtBN_UeUf"
      },
      "source": [
        "!pip install -Uqq fastbook\n",
        "import fastbook\n",
        "fastbook.setup_book()"
      ],
      "execution_count": 154,
      "outputs": []
    },
    {
      "cell_type": "code",
      "metadata": {
        "id": "3VMcaCkCVDux"
      },
      "source": [
        "from fastai.vision.all import *\n",
        "from fastbook import *\n",
        "matplotlib.rc('image', cmap='Blues')"
      ],
      "execution_count": 155,
      "outputs": []
    },
    {
      "cell_type": "code",
      "metadata": {
        "id": "073U4oeBVIJx"
      },
      "source": [
        "path = untar_data(URLs.MNIST)"
      ],
      "execution_count": 156,
      "outputs": []
    },
    {
      "cell_type": "code",
      "metadata": {
        "colab": {
          "base_uri": "https://localhost:8080/"
        },
        "id": "BnlfJ16eV_dh",
        "outputId": "f9af1848-7582-4677-a011-f5a81381f35d"
      },
      "source": [
        "path.ls()"
      ],
      "execution_count": 157,
      "outputs": [
        {
          "output_type": "execute_result",
          "data": {
            "text/plain": [
              "(#2) [Path('/root/.fastai/data/mnist_png/testing'),Path('/root/.fastai/data/mnist_png/training')]"
            ]
          },
          "metadata": {
            "tags": []
          },
          "execution_count": 157
        }
      ]
    },
    {
      "cell_type": "code",
      "metadata": {
        "colab": {
          "base_uri": "https://localhost:8080/"
        },
        "id": "frsesnwAV1mV",
        "outputId": "a2ee3cc9-9772-4ac3-c69d-4f2fc1b23bf9"
      },
      "source": [
        "fns = get_image_files(path)\n",
        "fns"
      ],
      "execution_count": 158,
      "outputs": [
        {
          "output_type": "execute_result",
          "data": {
            "text/plain": [
              "(#70000) [Path('/root/.fastai/data/mnist_png/testing/3/4044.png'),Path('/root/.fastai/data/mnist_png/testing/3/1205.png'),Path('/root/.fastai/data/mnist_png/testing/3/3916.png'),Path('/root/.fastai/data/mnist_png/testing/3/2522.png'),Path('/root/.fastai/data/mnist_png/testing/3/1265.png'),Path('/root/.fastai/data/mnist_png/testing/3/2086.png'),Path('/root/.fastai/data/mnist_png/testing/3/3177.png'),Path('/root/.fastai/data/mnist_png/testing/3/4469.png'),Path('/root/.fastai/data/mnist_png/testing/3/2229.png'),Path('/root/.fastai/data/mnist_png/testing/3/7350.png')...]"
            ]
          },
          "metadata": {
            "tags": []
          },
          "execution_count": 158
        }
      ]
    },
    {
      "cell_type": "code",
      "metadata": {
        "colab": {
          "base_uri": "https://localhost:8080/"
        },
        "id": "W_mzWvHaWW3i",
        "outputId": "c6efe37d-1681-48c7-92a9-1fd2fb189095"
      },
      "source": [
        "(path).ls()"
      ],
      "execution_count": 159,
      "outputs": [
        {
          "output_type": "execute_result",
          "data": {
            "text/plain": [
              "(#2) [Path('/root/.fastai/data/mnist_png/testing'),Path('/root/.fastai/data/mnist_png/training')]"
            ]
          },
          "metadata": {
            "tags": []
          },
          "execution_count": 159
        }
      ]
    },
    {
      "cell_type": "code",
      "metadata": {
        "id": "Kd5zTD_yWXoo"
      },
      "source": [
        "ones = (path/'training'/'1').ls().sorted()\n",
        "deuces = (path/'training'/'2').ls().sorted()\n",
        "threes = (path/'training'/'3').ls().sorted()\n",
        "fours = (path/'training'/'4').ls().sorted()\n",
        "fives = (path/'training'/'5').ls().sorted()\n",
        "sixes = (path/'training'/'6').ls().sorted()\n",
        "sevens = (path/'training'/'7').ls().sorted()\n",
        "eights = (path/'training'/'8').ls().sorted()\n",
        "nines = (path/'training'/'9').ls().sorted()\n",
        "zeros =(path/'training'/'0').ls().sorted()\n"
      ],
      "execution_count": 160,
      "outputs": []
    },
    {
      "cell_type": "code",
      "metadata": {
        "colab": {
          "base_uri": "https://localhost:8080/",
          "height": 45
        },
        "id": "kMFg8fXFax2j",
        "outputId": "46b7e742-5056-4ac1-e15f-fececd5a4bd7"
      },
      "source": [
        "im3_path = zeros[1]\n",
        "im3 = Image.open(im3_path)\n",
        "im3"
      ],
      "execution_count": 161,
      "outputs": [
        {
          "output_type": "execute_result",
          "data": {
            "image/png": "[encoded data removed]",
            "text/plain": [
              "<PIL.PngImagePlugin.PngImageFile image mode=L size=28x28 at 0x7FA8CA8FDF28>"
            ]
          },
          "metadata": {
            "tags": []
          },
          "execution_count": 161
        }
      ]
    },
    {
      "cell_type": "code",
      "metadata": {
        "colab": {
          "base_uri": "https://localhost:8080/",
          "height": 45
        },
        "id": "tXyeT8Bsachq",
        "outputId": "882f3d37-3ab8-488c-d695-97b9830db937"
      },
      "source": [
        "im3_path = nines[1]\n",
        "im3 = Image.open(im3_path)\n",
        "im3"
      ],
      "execution_count": 162,
      "outputs": [
        {
          "output_type": "execute_result",
          "data": {
            "image/png": "[encoded data removed]",
            "text/plain": [
              "<PIL.PngImagePlugin.PngImageFile image mode=L size=28x28 at 0x7FA8CA865D68>"
            ]
          },
          "metadata": {
            "tags": []
          },
          "execution_count": 162
        }
      ]
    },
    {
      "cell_type": "code",
      "metadata": {
        "colab": {
          "base_uri": "https://localhost:8080/",
          "height": 45
        },
        "id": "SHEDjxDuZejE",
        "outputId": "f0c4d1eb-b4b8-4164-f7d3-7dfc6d10e863"
      },
      "source": [
        "im3_path = ones[1]\n",
        "im3 = Image.open(im3_path)\n",
        "im3"
      ],
      "execution_count": 163,
      "outputs": [
        {
          "output_type": "execute_result",
          "data": {
            "image/png": "[encoded data removed]",
            "text/plain": [
              "<PIL.PngImagePlugin.PngImageFile image mode=L size=28x28 at 0x7FA8CA8654E0>"
            ]
          },
          "metadata": {
            "tags": []
          },
          "execution_count": 163
        }
      ]
    },
    {
      "cell_type": "code",
      "metadata": {
        "colab": {
          "base_uri": "https://localhost:8080/",
          "height": 45
        },
        "id": "H7ChuMCfZUIZ",
        "outputId": "50f03490-2a11-4dfa-aea9-a5549d6d4241"
      },
      "source": [
        "im3_path = threes[1]\n",
        "im3 = Image.open(im3_path)\n",
        "im3"
      ],
      "execution_count": 164,
      "outputs": [
        {
          "output_type": "execute_result",
          "data": {
            "image/png": "[encoded data removed]",
            "text/plain": [
              "<PIL.PngImagePlugin.PngImageFile image mode=L size=28x28 at 0x7FA8CA875EB8>"
            ]
          },
          "metadata": {
            "tags": []
          },
          "execution_count": 164
        }
      ]
    },
    {
      "cell_type": "code",
      "metadata": {
        "colab": {
          "base_uri": "https://localhost:8080/"
        },
        "id": "lYD9g_umc3sD",
        "outputId": "fb8368b9-1a1b-4f6e-fbde-735306e9b121"
      },
      "source": [
        "files = get_image_files(path/'training')\n",
        "len(files)"
      ],
      "execution_count": 165,
      "outputs": [
        {
          "output_type": "execute_result",
          "data": {
            "text/plain": [
              "60000"
            ]
          },
          "metadata": {
            "tags": []
          },
          "execution_count": 165
        }
      ]
    },
    {
      "cell_type": "code",
      "metadata": {
        "colab": {
          "base_uri": "https://localhost:8080/",
          "height": 37
        },
        "id": "EvGgKIrBd7zV",
        "outputId": "17b22495-804e-43dc-93db-01156e8df07e"
      },
      "source": [
        "files[1].name"
      ],
      "execution_count": 166,
      "outputs": [
        {
          "output_type": "execute_result",
          "data": {
            "application/vnd.google.colaboratory.intrinsic+json": {
              "type": "string"
            },
            "text/plain": [
              "'56234.png'"
            ]
          },
          "metadata": {
            "tags": []
          },
          "execution_count": 166
        }
      ]
    },
    {
      "cell_type": "code",
      "metadata": {
        "colab": {
          "base_uri": "https://localhost:8080/"
        },
        "id": "fuJZkr57fg_B",
        "outputId": "dcc1a1c7-a7dd-4621-9173-201e6298495d"
      },
      "source": [
        "array(im3)[1:6]"
      ],
      "execution_count": 167,
      "outputs": [
        {
          "output_type": "execute_result",
          "data": {
            "text/plain": [
              "array([[  0,   0,   0,   0,   0,   0,   0,   0,   0,   0,   0,   0,   0,   0,   0,   0,   0,   0,   0,   0,   0,   0,   0,   0,   0,   0,   0,   0],\n",
              "       [  0,   0,   0,   0,   0,   0,   0,   0,   0,   0,   0,   0,   0,   0,   0,   0,   0,   0,   0,   0,   0,   0,   0,   0,   0,   0,   0,   0],\n",
              "       [  0,   0,   0,   0,   0,   0,   0,   0,   0,   0,   0,   0,   0,   0,   0,   0,   0,   0,   0,   0,   0,   0,   0,   0,   0,   0,   0,   0],\n",
              "       [  0,   0,   0,   0,   0,   0,   0,   0,   0,   0,   0,   0,   0,   0,   0,   0,   0,   0,   0,   0,   0,   0,   0,   0,   0,   0,   0,   0],\n",
              "       [  0,   0,   0,   0,   0,   0,   0,   0,   0,  29, 150, 195, 254, 255, 254, 176, 193, 150,  96,   0,   0,   0,   0,   0,   0,   0,   0,   0]], dtype=uint8)"
            ]
          },
          "metadata": {
            "tags": []
          },
          "execution_count": 167
        }
      ]
    },
    {
      "cell_type": "code",
      "metadata": {
        "colab": {
          "base_uri": "https://localhost:8080/"
        },
        "id": "kB8dnUKif8A1",
        "outputId": "92f0348f-94a1-4da7-b1c4-7e680c816c42"
      },
      "source": [
        "tensor(im3)[1:6]"
      ],
      "execution_count": 168,
      "outputs": [
        {
          "output_type": "execute_result",
          "data": {
            "text/plain": [
              "tensor([[  0,   0,   0,   0,   0,   0,   0,   0,   0,   0,   0,   0,   0,   0,   0,   0,   0,   0,   0,   0,   0,   0,   0,   0,   0,   0,   0,   0],\n",
              "        [  0,   0,   0,   0,   0,   0,   0,   0,   0,   0,   0,   0,   0,   0,   0,   0,   0,   0,   0,   0,   0,   0,   0,   0,   0,   0,   0,   0],\n",
              "        [  0,   0,   0,   0,   0,   0,   0,   0,   0,   0,   0,   0,   0,   0,   0,   0,   0,   0,   0,   0,   0,   0,   0,   0,   0,   0,   0,   0],\n",
              "        [  0,   0,   0,   0,   0,   0,   0,   0,   0,   0,   0,   0,   0,   0,   0,   0,   0,   0,   0,   0,   0,   0,   0,   0,   0,   0,   0,   0],\n",
              "        [  0,   0,   0,   0,   0,   0,   0,   0,   0,  29, 150, 195, 254, 255, 254, 176, 193, 150,  96,   0,   0,   0,   0,   0,   0,   0,   0,   0]], dtype=torch.uint8)"
            ]
          },
          "metadata": {
            "tags": []
          },
          "execution_count": 168
        }
      ]
    },
    {
      "cell_type": "code",
      "metadata": {
        "colab": {
          "base_uri": "https://localhost:8080/",
          "height": 628
        },
        "id": "qoQfDzPDgLME",
        "outputId": "19903425-f3ff-4645-aaa9-be440a8e3177"
      },
      "source": [
        "im3_t = tensor(im3)\n",
        "df = pd.DataFrame(im3_t)\n",
        "df.style.set_properties(**{'font-size':'6pt'}).background_gradient('Blues')"
      ],
      "execution_count": 169,
      "outputs": [
        {
          "output_type": "execute_result",
          "data": {
            "text/html": [
              "<style  type=\"text/css\" >\n",
              "#T_94795a26_48c3_11eb_9927_0242ac1c0002row0_col0,#T_94795a26_48c3_11eb_9927_0242ac1c0002row0_col1,#T_94795a26_48c3_11eb_9927_0242ac1c0002row0_col2,#T_94795a26_48c3_11eb_9927_0242ac1c0002row0_col3,#T_94795a26_48c3_11eb_9927_0242ac1c0002row0_col4,#T_94795a26_48c3_11eb_9927_0242ac1c0002row0_col5,#T_94795a26_48c3_11eb_9927_0242ac1c0002row0_col6,#T_94795a26_48c3_11eb_9927_0242ac1c0002row0_col7,#T_94795a26_48c3_11eb_9927_0242ac1c0002row0_col8,#T_94795a26_48c3_11eb_9927_0242ac1c0002row0_col9,#T_94795a26_48c3_11eb_9927_0242ac1c0002row0_col10,#T_94795a26_48c3_11eb_9927_0242ac1c0002row0_col11,#T_94795a26_48c3_11eb_9927_0242ac1c0002row0_col12,#T_94795a26_48c3_11eb_9927_0242ac1c0002row0_col13,#T_94795a26_48c3_11eb_9927_0242ac1c0002row0_col14,#T_94795a26_48c3_11eb_9927_0242ac1c0002row0_col15,#T_94795a26_48c3_11eb_9927_0242ac1c0002row0_col16,#T_94795a26_48c3_11eb_9927_0242ac1c0002row0_col17,#T_94795a26_48c3_11eb_9927_0242ac1c0002row0_col18,#T_94795a26_48c3_11eb_9927_0242ac1c0002row0_col19,#T_94795a26_48c3_11eb_9927_0242ac1c0002row0_col20,#T_94795a26_48c3_11eb_9927_0242ac1c0002row0_col21,#T_94795a26_48c3_11eb_9927_0242ac1c0002row0_col22,#T_94795a26_48c3_11eb_9927_0242ac1c0002row0_col23,#T_94795a26_48c3_11eb_9927_0242ac1c0002row0_col24,#T_94795a26_48c3_11eb_9927_0242ac1c0002row0_col25,#T_94795a26_48c3_11eb_9927_0242ac1c0002row0_col26,#T_94795a26_48c3_11eb_9927_0242ac1c0002row0_col27,#T_94795a26_48c3_11eb_9927_0242ac1c0002row1_col0,#T_94795a26_48c3_11eb_9927_0242ac1c0002row1_col1,#T_94795a26_48c3_11eb_9927_0242ac1c0002row1_col2,#T_94795a26_48c3_11eb_9927_0242ac1c0002row1_col3,#T_94795a26_48c3_11eb_9927_0242ac1c0002row1_col4,#T_94795a26_48c3_11eb_9927_0242ac1c0002row1_col5,#T_94795a26_48c3_11eb_9927_0242ac1c0002row1_col6,#T_94795a26_48c3_11eb_9927_0242ac1c0002row1_col7,#T_94795a26_48c3_11eb_9927_0242ac1c0002row1_col8,#T_94795a26_48c3_11eb_9927_0242ac1c0002row1_col9,#T_94795a26_48c3_11eb_9927_0242ac1c0002row1_col10,#T_94795a26_48c3_11eb_9927_0242ac1c0002row1_col11,#T_94795a26_48c3_11eb_9927_0242ac1c0002row1_col12,#T_94795a26_48c3_11eb_9927_0242ac1c0002row1_col13,#T_94795a26_48c3_11eb_9927_0242ac1c0002row1_col14,#T_94795a26_48c3_11eb_9927_0242ac1c0002row1_col15,#T_94795a26_48c3_11eb_9927_0242ac1c0002row1_col16,#T_94795a26_48c3_11eb_9927_0242ac1c0002row1_col17,#T_94795a26_48c3_11eb_9927_0242ac1c0002row1_col18,#T_94795a26_48c3_11eb_9927_0242ac1c0002row1_col19,#T_94795a26_48c3_11eb_9927_0242ac1c0002row1_col20,#T_94795a26_48c3_11eb_9927_0242ac1c0002row1_col21,#T_94795a26_48c3_11eb_9927_0242ac1c0002row1_col22,#T_94795a26_48c3_11eb_9927_0242ac1c0002row1_col23,#T_94795a26_48c3_11eb_9927_0242ac1c0002row1_col24,#T_94795a26_48c3_11eb_9927_0242ac1c0002row1_col25,#T_94795a26_48c3_11eb_9927_0242ac1c0002row1_col26,#T_94795a26_48c3_11eb_9927_0242ac1c0002row1_col27,#T_94795a26_48c3_11eb_9927_0242ac1c0002row2_col0,#T_94795a26_48c3_11eb_9927_0242ac1c0002row2_col1,#T_94795a26_48c3_11eb_9927_0242ac1c0002row2_col2,#T_94795a26_48c3_11eb_9927_0242ac1c0002row2_col3,#T_94795a26_48c3_11eb_9927_0242ac1c0002row2_col4,#T_94795a26_48c3_11eb_9927_0242ac1c0002row2_col5,#T_94795a26_48c3_11eb_9927_0242ac1c0002row2_col6,#T_94795a26_48c3_11eb_9927_0242ac1c0002row2_col7,#T_94795a26_48c3_11eb_9927_0242ac1c0002row2_col8,#T_94795a26_48c3_11eb_9927_0242ac1c0002row2_col9,#T_94795a26_48c3_11eb_9927_0242ac1c0002row2_col10,#T_94795a26_48c3_11eb_9927_0242ac1c0002row2_col11,#T_94795a26_48c3_11eb_9927_0242ac1c0002row2_col12,#T_94795a26_48c3_11eb_9927_0242ac1c0002row2_col13,#T_94795a26_48c3_11eb_9927_0242ac1c0002row2_col14,#T_94795a26_48c3_11eb_9927_0242ac1c0002row2_col15,#T_94795a26_48c3_11eb_9927_0242ac1c0002row2_col16,#T_94795a26_48c3_11eb_9927_0242ac1c0002row2_col17,#T_94795a26_48c3_11eb_9927_0242ac1c0002row2_col18,#T_94795a26_48c3_11eb_9927_0242ac1c0002row2_col19,#T_94795a26_48c3_11eb_9927_0242ac1c0002row2_col20,#T_94795a26_48c3_11eb_9927_0242ac1c0002row2_col21,#T_94795a26_48c3_11eb_9927_0242ac1c0002row2_col22,#T_94795a26_48c3_11eb_9927_0242ac1c0002row2_col23,#T_94795a26_48c3_11eb_9927_0242ac1c0002row2_col24,#T_94795a26_48c3_11eb_9927_0242ac1c0002row2_col25,#T_94795a26_48c3_11eb_9927_0242ac1c0002row2_col26,#T_94795a26_48c3_11eb_9927_0242ac1c0002row2_col27,#T_94795a26_48c3_11eb_9927_0242ac1c0002row3_col0,#T_94795a26_48c3_11eb_9927_0242ac1c0002row3_col1,#T_94795a26_48c3_11eb_9927_0242ac1c0002row3_col2,#T_94795a26_48c3_11eb_9927_0242ac1c0002row3_col3,#T_94795a26_48c3_11eb_9927_0242ac1c0002row3_col4,#T_94795a26_48c3_11eb_9927_0242ac1c0002row3_col5,#T_94795a26_48c3_11eb_9927_0242ac1c0002row3_col6,#T_94795a26_48c3_11eb_9927_0242ac1c0002row3_col7,#T_94795a26_48c3_11eb_9927_0242ac1c0002row3_col8,#T_94795a26_48c3_11eb_9927_0242ac1c0002row3_col9,#T_94795a26_48c3_11eb_9927_0242ac1c0002row3_col10,#T_94795a26_48c3_11eb_9927_0242ac1c0002row3_col11,#T_94795a26_48c3_11eb_9927_0242ac1c0002row3_col12,#T_94795a26_48c3_11eb_9927_0242ac1c0002row3_col13,#T_94795a26_48c3_11eb_9927_0242ac1c0002row3_col14,#T_94795a26_48c3_11eb_9927_0242ac1c0002row3_col15,#T_94795a26_48c3_11eb_9927_0242ac1c0002row3_col16,#T_94795a26_48c3_11eb_9927_0242ac1c0002row3_col17,#T_94795a26_48c3_11eb_9927_0242ac1c0002row3_col18,#T_94795a26_48c3_11eb_9927_0242ac1c0002row3_col19,#T_94795a26_48c3_11eb_9927_0242ac1c0002row3_col20,#T_94795a26_48c3_11eb_9927_0242ac1c0002row3_col21,#T_94795a26_48c3_11eb_9927_0242ac1c0002row3_col22,#T_94795a26_48c3_11eb_9927_0242ac1c0002row3_col23,#T_94795a26_48c3_11eb_9927_0242ac1c0002row3_col24,#T_94795a26_48c3_11eb_9927_0242ac1c0002row3_col25,#T_94795a26_48c3_11eb_9927_0242ac1c0002row3_col26,#T_94795a26_48c3_11eb_9927_0242ac1c0002row3_col27,#T_94795a26_48c3_11eb_9927_0242ac1c0002row4_col0,#T_94795a26_48c3_11eb_9927_0242ac1c0002row4_col1,#T_94795a26_48c3_11eb_9927_0242ac1c0002row4_col2,#T_94795a26_48c3_11eb_9927_0242ac1c0002row4_col3,#T_94795a26_48c3_11eb_9927_0242ac1c0002row4_col4,#T_94795a26_48c3_11eb_9927_0242ac1c0002row4_col5,#T_94795a26_48c3_11eb_9927_0242ac1c0002row4_col6,#T_94795a26_48c3_11eb_9927_0242ac1c0002row4_col7,#T_94795a26_48c3_11eb_9927_0242ac1c0002row4_col8,#T_94795a26_48c3_11eb_9927_0242ac1c0002row4_col9,#T_94795a26_48c3_11eb_9927_0242ac1c0002row4_col10,#T_94795a26_48c3_11eb_9927_0242ac1c0002row4_col11,#T_94795a26_48c3_11eb_9927_0242ac1c0002row4_col12,#T_94795a26_48c3_11eb_9927_0242ac1c0002row4_col13,#T_94795a26_48c3_11eb_9927_0242ac1c0002row4_col14,#T_94795a26_48c3_11eb_9927_0242ac1c0002row4_col15,#T_94795a26_48c3_11eb_9927_0242ac1c0002row4_col16,#T_94795a26_48c3_11eb_9927_0242ac1c0002row4_col17,#T_94795a26_48c3_11eb_9927_0242ac1c0002row4_col18,#T_94795a26_48c3_11eb_9927_0242ac1c0002row4_col19,#T_94795a26_48c3_11eb_9927_0242ac1c0002row4_col20,#T_94795a26_48c3_11eb_9927_0242ac1c0002row4_col21,#T_94795a26_48c3_11eb_9927_0242ac1c0002row4_col22,#T_94795a26_48c3_11eb_9927_0242ac1c0002row4_col23,#T_94795a26_48c3_11eb_9927_0242ac1c0002row4_col24,#T_94795a26_48c3_11eb_9927_0242ac1c0002row4_col25,#T_94795a26_48c3_11eb_9927_0242ac1c0002row4_col26,#T_94795a26_48c3_11eb_9927_0242ac1c0002row4_col27,#T_94795a26_48c3_11eb_9927_0242ac1c0002row5_col0,#T_94795a26_48c3_11eb_9927_0242ac1c0002row5_col1,#T_94795a26_48c3_11eb_9927_0242ac1c0002row5_col2,#T_94795a26_48c3_11eb_9927_0242ac1c0002row5_col3,#T_94795a26_48c3_11eb_9927_0242ac1c0002row5_col4,#T_94795a26_48c3_11eb_9927_0242ac1c0002row5_col5,#T_94795a26_48c3_11eb_9927_0242ac1c0002row5_col6,#T_94795a26_48c3_11eb_9927_0242ac1c0002row5_col7,#T_94795a26_48c3_11eb_9927_0242ac1c0002row5_col8,#T_94795a26_48c3_11eb_9927_0242ac1c0002row5_col19,#T_94795a26_48c3_11eb_9927_0242ac1c0002row5_col20,#T_94795a26_48c3_11eb_9927_0242ac1c0002row5_col21,#T_94795a26_48c3_11eb_9927_0242ac1c0002row5_col22,#T_94795a26_48c3_11eb_9927_0242ac1c0002row5_col23,#T_94795a26_48c3_11eb_9927_0242ac1c0002row5_col24,#T_94795a26_48c3_11eb_9927_0242ac1c0002row5_col25,#T_94795a26_48c3_11eb_9927_0242ac1c0002row5_col26,#T_94795a26_48c3_11eb_9927_0242ac1c0002row5_col27,#T_94795a26_48c3_11eb_9927_0242ac1c0002row6_col0,#T_94795a26_48c3_11eb_9927_0242ac1c0002row6_col1,#T_94795a26_48c3_11eb_9927_0242ac1c0002row6_col2,#T_94795a26_48c3_11eb_9927_0242ac1c0002row6_col3,#T_94795a26_48c3_11eb_9927_0242ac1c0002row6_col4,#T_94795a26_48c3_11eb_9927_0242ac1c0002row6_col5,#T_94795a26_48c3_11eb_9927_0242ac1c0002row6_col6,#T_94795a26_48c3_11eb_9927_0242ac1c0002row6_col19,#T_94795a26_48c3_11eb_9927_0242ac1c0002row6_col20,#T_94795a26_48c3_11eb_9927_0242ac1c0002row6_col21,#T_94795a26_48c3_11eb_9927_0242ac1c0002row6_col22,#T_94795a26_48c3_11eb_9927_0242ac1c0002row6_col23,#T_94795a26_48c3_11eb_9927_0242ac1c0002row6_col24,#T_94795a26_48c3_11eb_9927_0242ac1c0002row6_col25,#T_94795a26_48c3_11eb_9927_0242ac1c0002row6_col26,#T_94795a26_48c3_11eb_9927_0242ac1c0002row6_col27,#T_94795a26_48c3_11eb_9927_0242ac1c0002row7_col0,#T_94795a26_48c3_11eb_9927_0242ac1c0002row7_col1,#T_94795a26_48c3_11eb_9927_0242ac1c0002row7_col2,#T_94795a26_48c3_11eb_9927_0242ac1c0002row7_col3,#T_94795a26_48c3_11eb_9927_0242ac1c0002row7_col4,#T_94795a26_48c3_11eb_9927_0242ac1c0002row7_col19,#T_94795a26_48c3_11eb_9927_0242ac1c0002row7_col20,#T_94795a26_48c3_11eb_9927_0242ac1c0002row7_col21,#T_94795a26_48c3_11eb_9927_0242ac1c0002row7_col22,#T_94795a26_48c3_11eb_9927_0242ac1c0002row7_col23,#T_94795a26_48c3_11eb_9927_0242ac1c0002row7_col24,#T_94795a26_48c3_11eb_9927_0242ac1c0002row7_col25,#T_94795a26_48c3_11eb_9927_0242ac1c0002row7_col26,#T_94795a26_48c3_11eb_9927_0242ac1c0002row7_col27,#T_94795a26_48c3_11eb_9927_0242ac1c0002row8_col0,#T_94795a26_48c3_11eb_9927_0242ac1c0002row8_col1,#T_94795a26_48c3_11eb_9927_0242ac1c0002row8_col2,#T_94795a26_48c3_11eb_9927_0242ac1c0002row8_col3,#T_94795a26_48c3_11eb_9927_0242ac1c0002row8_col4,#T_94795a26_48c3_11eb_9927_0242ac1c0002row8_col10,#T_94795a26_48c3_11eb_9927_0242ac1c0002row8_col11,#T_94795a26_48c3_11eb_9927_0242ac1c0002row8_col12,#T_94795a26_48c3_11eb_9927_0242ac1c0002row8_col13,#T_94795a26_48c3_11eb_9927_0242ac1c0002row8_col14,#T_94795a26_48c3_11eb_9927_0242ac1c0002row8_col19,#T_94795a26_48c3_11eb_9927_0242ac1c0002row8_col20,#T_94795a26_48c3_11eb_9927_0242ac1c0002row8_col21,#T_94795a26_48c3_11eb_9927_0242ac1c0002row8_col22,#T_94795a26_48c3_11eb_9927_0242ac1c0002row8_col23,#T_94795a26_48c3_11eb_9927_0242ac1c0002row8_col24,#T_94795a26_48c3_11eb_9927_0242ac1c0002row8_col25,#T_94795a26_48c3_11eb_9927_0242ac1c0002row8_col26,#T_94795a26_48c3_11eb_9927_0242ac1c0002row8_col27,#T_94795a26_48c3_11eb_9927_0242ac1c0002row9_col0,#T_94795a26_48c3_11eb_9927_0242ac1c0002row9_col1,#T_94795a26_48c3_11eb_9927_0242ac1c0002row9_col2,#T_94795a26_48c3_11eb_9927_0242ac1c0002row9_col3,#T_94795a26_48c3_11eb_9927_0242ac1c0002row9_col4,#T_94795a26_48c3_11eb_9927_0242ac1c0002row9_col9,#T_94795a26_48c3_11eb_9927_0242ac1c0002row9_col10,#T_94795a26_48c3_11eb_9927_0242ac1c0002row9_col11,#T_94795a26_48c3_11eb_9927_0242ac1c0002row9_col12,#T_94795a26_48c3_11eb_9927_0242ac1c0002row9_col13,#T_94795a26_48c3_11eb_9927_0242ac1c0002row9_col19,#T_94795a26_48c3_11eb_9927_0242ac1c0002row9_col20,#T_94795a26_48c3_11eb_9927_0242ac1c0002row9_col21,#T_94795a26_48c3_11eb_9927_0242ac1c0002row9_col22,#T_94795a26_48c3_11eb_9927_0242ac1c0002row9_col23,#T_94795a26_48c3_11eb_9927_0242ac1c0002row9_col24,#T_94795a26_48c3_11eb_9927_0242ac1c0002row9_col25,#T_94795a26_48c3_11eb_9927_0242ac1c0002row9_col26,#T_94795a26_48c3_11eb_9927_0242ac1c0002row9_col27,#T_94795a26_48c3_11eb_9927_0242ac1c0002row10_col0,#T_94795a26_48c3_11eb_9927_0242ac1c0002row10_col1,#T_94795a26_48c3_11eb_9927_0242ac1c0002row10_col2,#T_94795a26_48c3_11eb_9927_0242ac1c0002row10_col3,#T_94795a26_48c3_11eb_9927_0242ac1c0002row10_col4,#T_94795a26_48c3_11eb_9927_0242ac1c0002row10_col5,#T_94795a26_48c3_11eb_9927_0242ac1c0002row10_col6,#T_94795a26_48c3_11eb_9927_0242ac1c0002row10_col7,#T_94795a26_48c3_11eb_9927_0242ac1c0002row10_col8,#T_94795a26_48c3_11eb_9927_0242ac1c0002row10_col9,#T_94795a26_48c3_11eb_9927_0242ac1c0002row10_col10,#T_94795a26_48c3_11eb_9927_0242ac1c0002row10_col11,#T_94795a26_48c3_11eb_9927_0242ac1c0002row10_col12,#T_94795a26_48c3_11eb_9927_0242ac1c0002row10_col13,#T_94795a26_48c3_11eb_9927_0242ac1c0002row10_col18,#T_94795a26_48c3_11eb_9927_0242ac1c0002row10_col19,#T_94795a26_48c3_11eb_9927_0242ac1c0002row10_col20,#T_94795a26_48c3_11eb_9927_0242ac1c0002row10_col21,#T_94795a26_48c3_11eb_9927_0242ac1c0002row10_col22,#T_94795a26_48c3_11eb_9927_0242ac1c0002row10_col23,#T_94795a26_48c3_11eb_9927_0242ac1c0002row10_col24,#T_94795a26_48c3_11eb_9927_0242ac1c0002row10_col25,#T_94795a26_48c3_11eb_9927_0242ac1c0002row10_col26,#T_94795a26_48c3_11eb_9927_0242ac1c0002row10_col27,#T_94795a26_48c3_11eb_9927_0242ac1c0002row11_col0,#T_94795a26_48c3_11eb_9927_0242ac1c0002row11_col1,#T_94795a26_48c3_11eb_9927_0242ac1c0002row11_col2,#T_94795a26_48c3_11eb_9927_0242ac1c0002row11_col3,#T_94795a26_48c3_11eb_9927_0242ac1c0002row11_col4,#T_94795a26_48c3_11eb_9927_0242ac1c0002row11_col5,#T_94795a26_48c3_11eb_9927_0242ac1c0002row11_col6,#T_94795a26_48c3_11eb_9927_0242ac1c0002row11_col7,#T_94795a26_48c3_11eb_9927_0242ac1c0002row11_col8,#T_94795a26_48c3_11eb_9927_0242ac1c0002row11_col9,#T_94795a26_48c3_11eb_9927_0242ac1c0002row11_col10,#T_94795a26_48c3_11eb_9927_0242ac1c0002row11_col17,#T_94795a26_48c3_11eb_9927_0242ac1c0002row11_col18,#T_94795a26_48c3_11eb_9927_0242ac1c0002row11_col19,#T_94795a26_48c3_11eb_9927_0242ac1c0002row11_col20,#T_94795a26_48c3_11eb_9927_0242ac1c0002row11_col21,#T_94795a26_48c3_11eb_9927_0242ac1c0002row11_col22,#T_94795a26_48c3_11eb_9927_0242ac1c0002row11_col23,#T_94795a26_48c3_11eb_9927_0242ac1c0002row11_col24,#T_94795a26_48c3_11eb_9927_0242ac1c0002row11_col25,#T_94795a26_48c3_11eb_9927_0242ac1c0002row11_col26,#T_94795a26_48c3_11eb_9927_0242ac1c0002row11_col27,#T_94795a26_48c3_11eb_9927_0242ac1c0002row12_col0,#T_94795a26_48c3_11eb_9927_0242ac1c0002row12_col1,#T_94795a26_48c3_11eb_9927_0242ac1c0002row12_col2,#T_94795a26_48c3_11eb_9927_0242ac1c0002row12_col3,#T_94795a26_48c3_11eb_9927_0242ac1c0002row12_col4,#T_94795a26_48c3_11eb_9927_0242ac1c0002row12_col5,#T_94795a26_48c3_11eb_9927_0242ac1c0002row12_col6,#T_94795a26_48c3_11eb_9927_0242ac1c0002row12_col7,#T_94795a26_48c3_11eb_9927_0242ac1c0002row12_col8,#T_94795a26_48c3_11eb_9927_0242ac1c0002row12_col17,#T_94795a26_48c3_11eb_9927_0242ac1c0002row12_col18,#T_94795a26_48c3_11eb_9927_0242ac1c0002row12_col19,#T_94795a26_48c3_11eb_9927_0242ac1c0002row12_col20,#T_94795a26_48c3_11eb_9927_0242ac1c0002row12_col21,#T_94795a26_48c3_11eb_9927_0242ac1c0002row12_col22,#T_94795a26_48c3_11eb_9927_0242ac1c0002row12_col23,#T_94795a26_48c3_11eb_9927_0242ac1c0002row12_col24,#T_94795a26_48c3_11eb_9927_0242ac1c0002row12_col25,#T_94795a26_48c3_11eb_9927_0242ac1c0002row12_col26,#T_94795a26_48c3_11eb_9927_0242ac1c0002row12_col27,#T_94795a26_48c3_11eb_9927_0242ac1c0002row13_col0,#T_94795a26_48c3_11eb_9927_0242ac1c0002row13_col1,#T_94795a26_48c3_11eb_9927_0242ac1c0002row13_col2,#T_94795a26_48c3_11eb_9927_0242ac1c0002row13_col3,#T_94795a26_48c3_11eb_9927_0242ac1c0002row13_col4,#T_94795a26_48c3_11eb_9927_0242ac1c0002row13_col5,#T_94795a26_48c3_11eb_9927_0242ac1c0002row13_col6,#T_94795a26_48c3_11eb_9927_0242ac1c0002row13_col7,#T_94795a26_48c3_11eb_9927_0242ac1c0002row13_col8,#T_94795a26_48c3_11eb_9927_0242ac1c0002row13_col20,#T_94795a26_48c3_11eb_9927_0242ac1c0002row13_col21,#T_94795a26_48c3_11eb_9927_0242ac1c0002row13_col22,#T_94795a26_48c3_11eb_9927_0242ac1c0002row13_col23,#T_94795a26_48c3_11eb_9927_0242ac1c0002row13_col24,#T_94795a26_48c3_11eb_9927_0242ac1c0002row13_col25,#T_94795a26_48c3_11eb_9927_0242ac1c0002row13_col26,#T_94795a26_48c3_11eb_9927_0242ac1c0002row13_col27,#T_94795a26_48c3_11eb_9927_0242ac1c0002row14_col0,#T_94795a26_48c3_11eb_9927_0242ac1c0002row14_col1,#T_94795a26_48c3_11eb_9927_0242ac1c0002row14_col2,#T_94795a26_48c3_11eb_9927_0242ac1c0002row14_col3,#T_94795a26_48c3_11eb_9927_0242ac1c0002row14_col4,#T_94795a26_48c3_11eb_9927_0242ac1c0002row14_col5,#T_94795a26_48c3_11eb_9927_0242ac1c0002row14_col6,#T_94795a26_48c3_11eb_9927_0242ac1c0002row14_col7,#T_94795a26_48c3_11eb_9927_0242ac1c0002row14_col8,#T_94795a26_48c3_11eb_9927_0242ac1c0002row14_col9,#T_94795a26_48c3_11eb_9927_0242ac1c0002row14_col10,#T_94795a26_48c3_11eb_9927_0242ac1c0002row14_col21,#T_94795a26_48c3_11eb_9927_0242ac1c0002row14_col22,#T_94795a26_48c3_11eb_9927_0242ac1c0002row14_col23,#T_94795a26_48c3_11eb_9927_0242ac1c0002row14_col24,#T_94795a26_48c3_11eb_9927_0242ac1c0002row14_col25,#T_94795a26_48c3_11eb_9927_0242ac1c0002row14_col26,#T_94795a26_48c3_11eb_9927_0242ac1c0002row14_col27,#T_94795a26_48c3_11eb_9927_0242ac1c0002row15_col0,#T_94795a26_48c3_11eb_9927_0242ac1c0002row15_col1,#T_94795a26_48c3_11eb_9927_0242ac1c0002row15_col2,#T_94795a26_48c3_11eb_9927_0242ac1c0002row15_col3,#T_94795a26_48c3_11eb_9927_0242ac1c0002row15_col4,#T_94795a26_48c3_11eb_9927_0242ac1c0002row15_col5,#T_94795a26_48c3_11eb_9927_0242ac1c0002row15_col6,#T_94795a26_48c3_11eb_9927_0242ac1c0002row15_col7,#T_94795a26_48c3_11eb_9927_0242ac1c0002row15_col8,#T_94795a26_48c3_11eb_9927_0242ac1c0002row15_col9,#T_94795a26_48c3_11eb_9927_0242ac1c0002row15_col10,#T_94795a26_48c3_11eb_9927_0242ac1c0002row15_col11,#T_94795a26_48c3_11eb_9927_0242ac1c0002row15_col12,#T_94795a26_48c3_11eb_9927_0242ac1c0002row15_col13,#T_94795a26_48c3_11eb_9927_0242ac1c0002row15_col21,#T_94795a26_48c3_11eb_9927_0242ac1c0002row15_col22,#T_94795a26_48c3_11eb_9927_0242ac1c0002row15_col23,#T_94795a26_48c3_11eb_9927_0242ac1c0002row15_col24,#T_94795a26_48c3_11eb_9927_0242ac1c0002row15_col25,#T_94795a26_48c3_11eb_9927_0242ac1c0002row15_col26,#T_94795a26_48c3_11eb_9927_0242ac1c0002row15_col27,#T_94795a26_48c3_11eb_9927_0242ac1c0002row16_col0,#T_94795a26_48c3_11eb_9927_0242ac1c0002row16_col1,#T_94795a26_48c3_11eb_9927_0242ac1c0002row16_col2,#T_94795a26_48c3_11eb_9927_0242ac1c0002row16_col3,#T_94795a26_48c3_11eb_9927_0242ac1c0002row16_col4,#T_94795a26_48c3_11eb_9927_0242ac1c0002row16_col5,#T_94795a26_48c3_11eb_9927_0242ac1c0002row16_col6,#T_94795a26_48c3_11eb_9927_0242ac1c0002row16_col7,#T_94795a26_48c3_11eb_9927_0242ac1c0002row16_col8,#T_94795a26_48c3_11eb_9927_0242ac1c0002row16_col9,#T_94795a26_48c3_11eb_9927_0242ac1c0002row16_col10,#T_94795a26_48c3_11eb_9927_0242ac1c0002row16_col11,#T_94795a26_48c3_11eb_9927_0242ac1c0002row16_col12,#T_94795a26_48c3_11eb_9927_0242ac1c0002row16_col13,#T_94795a26_48c3_11eb_9927_0242ac1c0002row16_col14,#T_94795a26_48c3_11eb_9927_0242ac1c0002row16_col15,#T_94795a26_48c3_11eb_9927_0242ac1c0002row16_col21,#T_94795a26_48c3_11eb_9927_0242ac1c0002row16_col22,#T_94795a26_48c3_11eb_9927_0242ac1c0002row16_col23,#T_94795a26_48c3_11eb_9927_0242ac1c0002row16_col24,#T_94795a26_48c3_11eb_9927_0242ac1c0002row16_col25,#T_94795a26_48c3_11eb_9927_0242ac1c0002row16_col26,#T_94795a26_48c3_11eb_9927_0242ac1c0002row16_col27,#T_94795a26_48c3_11eb_9927_0242ac1c0002row17_col0,#T_94795a26_48c3_11eb_9927_0242ac1c0002row17_col1,#T_94795a26_48c3_11eb_9927_0242ac1c0002row17_col2,#T_94795a26_48c3_11eb_9927_0242ac1c0002row17_col3,#T_94795a26_48c3_11eb_9927_0242ac1c0002row17_col4,#T_94795a26_48c3_11eb_9927_0242ac1c0002row17_col5,#T_94795a26_48c3_11eb_9927_0242ac1c0002row17_col6,#T_94795a26_48c3_11eb_9927_0242ac1c0002row17_col7,#T_94795a26_48c3_11eb_9927_0242ac1c0002row17_col8,#T_94795a26_48c3_11eb_9927_0242ac1c0002row17_col9,#T_94795a26_48c3_11eb_9927_0242ac1c0002row17_col10,#T_94795a26_48c3_11eb_9927_0242ac1c0002row17_col11,#T_94795a26_48c3_11eb_9927_0242ac1c0002row17_col12,#T_94795a26_48c3_11eb_9927_0242ac1c0002row17_col13,#T_94795a26_48c3_11eb_9927_0242ac1c0002row17_col14,#T_94795a26_48c3_11eb_9927_0242ac1c0002row17_col15,#T_94795a26_48c3_11eb_9927_0242ac1c0002row17_col16,#T_94795a26_48c3_11eb_9927_0242ac1c0002row17_col21,#T_94795a26_48c3_11eb_9927_0242ac1c0002row17_col22,#T_94795a26_48c3_11eb_9927_0242ac1c0002row17_col23,#T_94795a26_48c3_11eb_9927_0242ac1c0002row17_col24,#T_94795a26_48c3_11eb_9927_0242ac1c0002row17_col25,#T_94795a26_48c3_11eb_9927_0242ac1c0002row17_col26,#T_94795a26_48c3_11eb_9927_0242ac1c0002row17_col27,#T_94795a26_48c3_11eb_9927_0242ac1c0002row18_col0,#T_94795a26_48c3_11eb_9927_0242ac1c0002row18_col1,#T_94795a26_48c3_11eb_9927_0242ac1c0002row18_col2,#T_94795a26_48c3_11eb_9927_0242ac1c0002row18_col3,#T_94795a26_48c3_11eb_9927_0242ac1c0002row18_col4,#T_94795a26_48c3_11eb_9927_0242ac1c0002row18_col5,#T_94795a26_48c3_11eb_9927_0242ac1c0002row18_col6,#T_94795a26_48c3_11eb_9927_0242ac1c0002row18_col7,#T_94795a26_48c3_11eb_9927_0242ac1c0002row18_col8,#T_94795a26_48c3_11eb_9927_0242ac1c0002row18_col9,#T_94795a26_48c3_11eb_9927_0242ac1c0002row18_col10,#T_94795a26_48c3_11eb_9927_0242ac1c0002row18_col11,#T_94795a26_48c3_11eb_9927_0242ac1c0002row18_col12,#T_94795a26_48c3_11eb_9927_0242ac1c0002row18_col13,#T_94795a26_48c3_11eb_9927_0242ac1c0002row18_col14,#T_94795a26_48c3_11eb_9927_0242ac1c0002row18_col15,#T_94795a26_48c3_11eb_9927_0242ac1c0002row18_col21,#T_94795a26_48c3_11eb_9927_0242ac1c0002row18_col22,#T_94795a26_48c3_11eb_9927_0242ac1c0002row18_col23,#T_94795a26_48c3_11eb_9927_0242ac1c0002row18_col24,#T_94795a26_48c3_11eb_9927_0242ac1c0002row18_col25,#T_94795a26_48c3_11eb_9927_0242ac1c0002row18_col26,#T_94795a26_48c3_11eb_9927_0242ac1c0002row18_col27,#T_94795a26_48c3_11eb_9927_0242ac1c0002row19_col0,#T_94795a26_48c3_11eb_9927_0242ac1c0002row19_col1,#T_94795a26_48c3_11eb_9927_0242ac1c0002row19_col2,#T_94795a26_48c3_11eb_9927_0242ac1c0002row19_col3,#T_94795a26_48c3_11eb_9927_0242ac1c0002row19_col4,#T_94795a26_48c3_11eb_9927_0242ac1c0002row19_col5,#T_94795a26_48c3_11eb_9927_0242ac1c0002row19_col6,#T_94795a26_48c3_11eb_9927_0242ac1c0002row19_col7,#T_94795a26_48c3_11eb_9927_0242ac1c0002row19_col8,#T_94795a26_48c3_11eb_9927_0242ac1c0002row19_col9,#T_94795a26_48c3_11eb_9927_0242ac1c0002row19_col10,#T_94795a26_48c3_11eb_9927_0242ac1c0002row19_col11,#T_94795a26_48c3_11eb_9927_0242ac1c0002row19_col12,#T_94795a26_48c3_11eb_9927_0242ac1c0002row19_col13,#T_94795a26_48c3_11eb_9927_0242ac1c0002row19_col14,#T_94795a26_48c3_11eb_9927_0242ac1c0002row19_col21,#T_94795a26_48c3_11eb_9927_0242ac1c0002row19_col22,#T_94795a26_48c3_11eb_9927_0242ac1c0002row19_col23,#T_94795a26_48c3_11eb_9927_0242ac1c0002row19_col24,#T_94795a26_48c3_11eb_9927_0242ac1c0002row19_col25,#T_94795a26_48c3_11eb_9927_0242ac1c0002row19_col26,#T_94795a26_48c3_11eb_9927_0242ac1c0002row19_col27,#T_94795a26_48c3_11eb_9927_0242ac1c0002row20_col0,#T_94795a26_48c3_11eb_9927_0242ac1c0002row20_col1,#T_94795a26_48c3_11eb_9927_0242ac1c0002row20_col2,#T_94795a26_48c3_11eb_9927_0242ac1c0002row20_col3,#T_94795a26_48c3_11eb_9927_0242ac1c0002row20_col4,#T_94795a26_48c3_11eb_9927_0242ac1c0002row20_col5,#T_94795a26_48c3_11eb_9927_0242ac1c0002row20_col6,#T_94795a26_48c3_11eb_9927_0242ac1c0002row20_col7,#T_94795a26_48c3_11eb_9927_0242ac1c0002row20_col8,#T_94795a26_48c3_11eb_9927_0242ac1c0002row20_col9,#T_94795a26_48c3_11eb_9927_0242ac1c0002row20_col10,#T_94795a26_48c3_11eb_9927_0242ac1c0002row20_col11,#T_94795a26_48c3_11eb_9927_0242ac1c0002row20_col12,#T_94795a26_48c3_11eb_9927_0242ac1c0002row20_col13,#T_94795a26_48c3_11eb_9927_0242ac1c0002row20_col20,#T_94795a26_48c3_11eb_9927_0242ac1c0002row20_col21,#T_94795a26_48c3_11eb_9927_0242ac1c0002row20_col22,#T_94795a26_48c3_11eb_9927_0242ac1c0002row20_col23,#T_94795a26_48c3_11eb_9927_0242ac1c0002row20_col24,#T_94795a26_48c3_11eb_9927_0242ac1c0002row20_col25,#T_94795a26_48c3_11eb_9927_0242ac1c0002row20_col26,#T_94795a26_48c3_11eb_9927_0242ac1c0002row20_col27,#T_94795a26_48c3_11eb_9927_0242ac1c0002row21_col0,#T_94795a26_48c3_11eb_9927_0242ac1c0002row21_col1,#T_94795a26_48c3_11eb_9927_0242ac1c0002row21_col2,#T_94795a26_48c3_11eb_9927_0242ac1c0002row21_col3,#T_94795a26_48c3_11eb_9927_0242ac1c0002row21_col4,#T_94795a26_48c3_11eb_9927_0242ac1c0002row21_col5,#T_94795a26_48c3_11eb_9927_0242ac1c0002row21_col6,#T_94795a26_48c3_11eb_9927_0242ac1c0002row21_col7,#T_94795a26_48c3_11eb_9927_0242ac1c0002row21_col8,#T_94795a26_48c3_11eb_9927_0242ac1c0002row21_col9,#T_94795a26_48c3_11eb_9927_0242ac1c0002row21_col10,#T_94795a26_48c3_11eb_9927_0242ac1c0002row21_col11,#T_94795a26_48c3_11eb_9927_0242ac1c0002row21_col19,#T_94795a26_48c3_11eb_9927_0242ac1c0002row21_col20,#T_94795a26_48c3_11eb_9927_0242ac1c0002row21_col21,#T_94795a26_48c3_11eb_9927_0242ac1c0002row21_col22,#T_94795a26_48c3_11eb_9927_0242ac1c0002row21_col23,#T_94795a26_48c3_11eb_9927_0242ac1c0002row21_col24,#T_94795a26_48c3_11eb_9927_0242ac1c0002row21_col25,#T_94795a26_48c3_11eb_9927_0242ac1c0002row21_col26,#T_94795a26_48c3_11eb_9927_0242ac1c0002row21_col27,#T_94795a26_48c3_11eb_9927_0242ac1c0002row22_col0,#T_94795a26_48c3_11eb_9927_0242ac1c0002row22_col1,#T_94795a26_48c3_11eb_9927_0242ac1c0002row22_col2,#T_94795a26_48c3_11eb_9927_0242ac1c0002row22_col3,#T_94795a26_48c3_11eb_9927_0242ac1c0002row22_col4,#T_94795a26_48c3_11eb_9927_0242ac1c0002row22_col5,#T_94795a26_48c3_11eb_9927_0242ac1c0002row22_col18,#T_94795a26_48c3_11eb_9927_0242ac1c0002row22_col19,#T_94795a26_48c3_11eb_9927_0242ac1c0002row22_col20,#T_94795a26_48c3_11eb_9927_0242ac1c0002row22_col21,#T_94795a26_48c3_11eb_9927_0242ac1c0002row22_col22,#T_94795a26_48c3_11eb_9927_0242ac1c0002row22_col23,#T_94795a26_48c3_11eb_9927_0242ac1c0002row22_col24,#T_94795a26_48c3_11eb_9927_0242ac1c0002row22_col25,#T_94795a26_48c3_11eb_9927_0242ac1c0002row22_col26,#T_94795a26_48c3_11eb_9927_0242ac1c0002row22_col27,#T_94795a26_48c3_11eb_9927_0242ac1c0002row23_col0,#T_94795a26_48c3_11eb_9927_0242ac1c0002row23_col1,#T_94795a26_48c3_11eb_9927_0242ac1c0002row23_col2,#T_94795a26_48c3_11eb_9927_0242ac1c0002row23_col3,#T_94795a26_48c3_11eb_9927_0242ac1c0002row23_col4,#T_94795a26_48c3_11eb_9927_0242ac1c0002row23_col5,#T_94795a26_48c3_11eb_9927_0242ac1c0002row23_col16,#T_94795a26_48c3_11eb_9927_0242ac1c0002row23_col17,#T_94795a26_48c3_11eb_9927_0242ac1c0002row23_col18,#T_94795a26_48c3_11eb_9927_0242ac1c0002row23_col19,#T_94795a26_48c3_11eb_9927_0242ac1c0002row23_col20,#T_94795a26_48c3_11eb_9927_0242ac1c0002row23_col21,#T_94795a26_48c3_11eb_9927_0242ac1c0002row23_col22,#T_94795a26_48c3_11eb_9927_0242ac1c0002row23_col23,#T_94795a26_48c3_11eb_9927_0242ac1c0002row23_col24,#T_94795a26_48c3_11eb_9927_0242ac1c0002row23_col25,#T_94795a26_48c3_11eb_9927_0242ac1c0002row23_col26,#T_94795a26_48c3_11eb_9927_0242ac1c0002row23_col27,#T_94795a26_48c3_11eb_9927_0242ac1c0002row24_col0,#T_94795a26_48c3_11eb_9927_0242ac1c0002row24_col1,#T_94795a26_48c3_11eb_9927_0242ac1c0002row24_col2,#T_94795a26_48c3_11eb_9927_0242ac1c0002row24_col3,#T_94795a26_48c3_11eb_9927_0242ac1c0002row24_col4,#T_94795a26_48c3_11eb_9927_0242ac1c0002row24_col5,#T_94795a26_48c3_11eb_9927_0242ac1c0002row24_col15,#T_94795a26_48c3_11eb_9927_0242ac1c0002row24_col16,#T_94795a26_48c3_11eb_9927_0242ac1c0002row24_col17,#T_94795a26_48c3_11eb_9927_0242ac1c0002row24_col18,#T_94795a26_48c3_11eb_9927_0242ac1c0002row24_col19,#T_94795a26_48c3_11eb_9927_0242ac1c0002row24_col20,#T_94795a26_48c3_11eb_9927_0242ac1c0002row24_col21,#T_94795a26_48c3_11eb_9927_0242ac1c0002row24_col22,#T_94795a26_48c3_11eb_9927_0242ac1c0002row24_col23,#T_94795a26_48c3_11eb_9927_0242ac1c0002row24_col24,#T_94795a26_48c3_11eb_9927_0242ac1c0002row24_col25,#T_94795a26_48c3_11eb_9927_0242ac1c0002row24_col26,#T_94795a26_48c3_11eb_9927_0242ac1c0002row24_col27,#T_94795a26_48c3_11eb_9927_0242ac1c0002row25_col0,#T_94795a26_48c3_11eb_9927_0242ac1c0002row25_col1,#T_94795a26_48c3_11eb_9927_0242ac1c0002row25_col2,#T_94795a26_48c3_11eb_9927_0242ac1c0002row25_col3,#T_94795a26_48c3_11eb_9927_0242ac1c0002row25_col4,#T_94795a26_48c3_11eb_9927_0242ac1c0002row25_col5,#T_94795a26_48c3_11eb_9927_0242ac1c0002row25_col6,#T_94795a26_48c3_11eb_9927_0242ac1c0002row25_col7,#T_94795a26_48c3_11eb_9927_0242ac1c0002row25_col8,#T_94795a26_48c3_11eb_9927_0242ac1c0002row25_col9,#T_94795a26_48c3_11eb_9927_0242ac1c0002row25_col10,#T_94795a26_48c3_11eb_9927_0242ac1c0002row25_col11,#T_94795a26_48c3_11eb_9927_0242ac1c0002row25_col12,#T_94795a26_48c3_11eb_9927_0242ac1c0002row25_col13,#T_94795a26_48c3_11eb_9927_0242ac1c0002row25_col14,#T_94795a26_48c3_11eb_9927_0242ac1c0002row25_col15,#T_94795a26_48c3_11eb_9927_0242ac1c0002row25_col16,#T_94795a26_48c3_11eb_9927_0242ac1c0002row25_col17,#T_94795a26_48c3_11eb_9927_0242ac1c0002row25_col18,#T_94795a26_48c3_11eb_9927_0242ac1c0002row25_col19,#T_94795a26_48c3_11eb_9927_0242ac1c0002row25_col20,#T_94795a26_48c3_11eb_9927_0242ac1c0002row25_col21,#T_94795a26_48c3_11eb_9927_0242ac1c0002row25_col22,#T_94795a26_48c3_11eb_9927_0242ac1c0002row25_col23,#T_94795a26_48c3_11eb_9927_0242ac1c0002row25_col24,#T_94795a26_48c3_11eb_9927_0242ac1c0002row25_col25,#T_94795a26_48c3_11eb_9927_0242ac1c0002row25_col26,#T_94795a26_48c3_11eb_9927_0242ac1c0002row25_col27,#T_94795a26_48c3_11eb_9927_0242ac1c0002row26_col0,#T_94795a26_48c3_11eb_9927_0242ac1c0002row26_col1,#T_94795a26_48c3_11eb_9927_0242ac1c0002row26_col2,#T_94795a26_48c3_11eb_9927_0242ac1c0002row26_col3,#T_94795a26_48c3_11eb_9927_0242ac1c0002row26_col4,#T_94795a26_48c3_11eb_9927_0242ac1c0002row26_col5,#T_94795a26_48c3_11eb_9927_0242ac1c0002row26_col6,#T_94795a26_48c3_11eb_9927_0242ac1c0002row26_col7,#T_94795a26_48c3_11eb_9927_0242ac1c0002row26_col8,#T_94795a26_48c3_11eb_9927_0242ac1c0002row26_col9,#T_94795a26_48c3_11eb_9927_0242ac1c0002row26_col10,#T_94795a26_48c3_11eb_9927_0242ac1c0002row26_col11,#T_94795a26_48c3_11eb_9927_0242ac1c0002row26_col12,#T_94795a26_48c3_11eb_9927_0242ac1c0002row26_col13,#T_94795a26_48c3_11eb_9927_0242ac1c0002row26_col14,#T_94795a26_48c3_11eb_9927_0242ac1c0002row26_col15,#T_94795a26_48c3_11eb_9927_0242ac1c0002row26_col16,#T_94795a26_48c3_11eb_9927_0242ac1c0002row26_col17,#T_94795a26_48c3_11eb_9927_0242ac1c0002row26_col18,#T_94795a26_48c3_11eb_9927_0242ac1c0002row26_col19,#T_94795a26_48c3_11eb_9927_0242ac1c0002row26_col20,#T_94795a26_48c3_11eb_9927_0242ac1c0002row26_col21,#T_94795a26_48c3_11eb_9927_0242ac1c0002row26_col22,#T_94795a26_48c3_11eb_9927_0242ac1c0002row26_col23,#T_94795a26_48c3_11eb_9927_0242ac1c0002row26_col24,#T_94795a26_48c3_11eb_9927_0242ac1c0002row26_col25,#T_94795a26_48c3_11eb_9927_0242ac1c0002row26_col26,#T_94795a26_48c3_11eb_9927_0242ac1c0002row26_col27,#T_94795a26_48c3_11eb_9927_0242ac1c0002row27_col0,#T_94795a26_48c3_11eb_9927_0242ac1c0002row27_col1,#T_94795a26_48c3_11eb_9927_0242ac1c0002row27_col2,#T_94795a26_48c3_11eb_9927_0242ac1c0002row27_col3,#T_94795a26_48c3_11eb_9927_0242ac1c0002row27_col4,#T_94795a26_48c3_11eb_9927_0242ac1c0002row27_col5,#T_94795a26_48c3_11eb_9927_0242ac1c0002row27_col6,#T_94795a26_48c3_11eb_9927_0242ac1c0002row27_col7,#T_94795a26_48c3_11eb_9927_0242ac1c0002row27_col8,#T_94795a26_48c3_11eb_9927_0242ac1c0002row27_col9,#T_94795a26_48c3_11eb_9927_0242ac1c0002row27_col10,#T_94795a26_48c3_11eb_9927_0242ac1c0002row27_col11,#T_94795a26_48c3_11eb_9927_0242ac1c0002row27_col12,#T_94795a26_48c3_11eb_9927_0242ac1c0002row27_col13,#T_94795a26_48c3_11eb_9927_0242ac1c0002row27_col14,#T_94795a26_48c3_11eb_9927_0242ac1c0002row27_col15,#T_94795a26_48c3_11eb_9927_0242ac1c0002row27_col16,#T_94795a26_48c3_11eb_9927_0242ac1c0002row27_col17,#T_94795a26_48c3_11eb_9927_0242ac1c0002row27_col18,#T_94795a26_48c3_11eb_9927_0242ac1c0002row27_col19,#T_94795a26_48c3_11eb_9927_0242ac1c0002row27_col20,#T_94795a26_48c3_11eb_9927_0242ac1c0002row27_col21,#T_94795a26_48c3_11eb_9927_0242ac1c0002row27_col22,#T_94795a26_48c3_11eb_9927_0242ac1c0002row27_col23,#T_94795a26_48c3_11eb_9927_0242ac1c0002row27_col24,#T_94795a26_48c3_11eb_9927_0242ac1c0002row27_col25,#T_94795a26_48c3_11eb_9927_0242ac1c0002row27_col26,#T_94795a26_48c3_11eb_9927_0242ac1c0002row27_col27{\n",
              "            font-size:  6pt;\n",
              "            background-color:  #f7fbff;\n",
              "            color:  #000000;\n",
              "        }#T_94795a26_48c3_11eb_9927_0242ac1c0002row5_col9{\n",
              "            font-size:  6pt;\n",
              "            background-color:  #e0ecf8;\n",
              "            color:  #000000;\n",
              "        }#T_94795a26_48c3_11eb_9927_0242ac1c0002row5_col10,#T_94795a26_48c3_11eb_9927_0242ac1c0002row5_col17{\n",
              "            font-size:  6pt;\n",
              "            background-color:  #4d99ca;\n",
              "            color:  #000000;\n",
              "        }#T_94795a26_48c3_11eb_9927_0242ac1c0002row5_col11{\n",
              "            font-size:  6pt;\n",
              "            background-color:  #1c6bb0;\n",
              "            color:  #f1f1f1;\n",
              "        }#T_94795a26_48c3_11eb_9927_0242ac1c0002row5_col12,#T_94795a26_48c3_11eb_9927_0242ac1c0002row5_col13,#T_94795a26_48c3_11eb_9927_0242ac1c0002row5_col14,#T_94795a26_48c3_11eb_9927_0242ac1c0002row6_col10,#T_94795a26_48c3_11eb_9927_0242ac1c0002row6_col11,#T_94795a26_48c3_11eb_9927_0242ac1c0002row6_col15,#T_94795a26_48c3_11eb_9927_0242ac1c0002row6_col16,#T_94795a26_48c3_11eb_9927_0242ac1c0002row6_col17,#T_94795a26_48c3_11eb_9927_0242ac1c0002row7_col8,#T_94795a26_48c3_11eb_9927_0242ac1c0002row7_col16,#T_94795a26_48c3_11eb_9927_0242ac1c0002row7_col17,#T_94795a26_48c3_11eb_9927_0242ac1c0002row8_col5,#T_94795a26_48c3_11eb_9927_0242ac1c0002row8_col6,#T_94795a26_48c3_11eb_9927_0242ac1c0002row8_col7,#T_94795a26_48c3_11eb_9927_0242ac1c0002row8_col16,#T_94795a26_48c3_11eb_9927_0242ac1c0002row8_col17,#T_94795a26_48c3_11eb_9927_0242ac1c0002row9_col16,#T_94795a26_48c3_11eb_9927_0242ac1c0002row10_col15,#T_94795a26_48c3_11eb_9927_0242ac1c0002row13_col15,#T_94795a26_48c3_11eb_9927_0242ac1c0002row14_col15,#T_94795a26_48c3_11eb_9927_0242ac1c0002row14_col16,#T_94795a26_48c3_11eb_9927_0242ac1c0002row14_col17,#T_94795a26_48c3_11eb_9927_0242ac1c0002row14_col18,#T_94795a26_48c3_11eb_9927_0242ac1c0002row15_col17,#T_94795a26_48c3_11eb_9927_0242ac1c0002row15_col18,#T_94795a26_48c3_11eb_9927_0242ac1c0002row15_col19,#T_94795a26_48c3_11eb_9927_0242ac1c0002row16_col18,#T_94795a26_48c3_11eb_9927_0242ac1c0002row16_col19,#T_94795a26_48c3_11eb_9927_0242ac1c0002row16_col20,#T_94795a26_48c3_11eb_9927_0242ac1c0002row17_col18,#T_94795a26_48c3_11eb_9927_0242ac1c0002row17_col19,#T_94795a26_48c3_11eb_9927_0242ac1c0002row18_col18,#T_94795a26_48c3_11eb_9927_0242ac1c0002row18_col19,#T_94795a26_48c3_11eb_9927_0242ac1c0002row19_col17,#T_94795a26_48c3_11eb_9927_0242ac1c0002row19_col18,#T_94795a26_48c3_11eb_9927_0242ac1c0002row20_col16,#T_94795a26_48c3_11eb_9927_0242ac1c0002row20_col17,#T_94795a26_48c3_11eb_9927_0242ac1c0002row21_col15,#T_94795a26_48c3_11eb_9927_0242ac1c0002row21_col16,#T_94795a26_48c3_11eb_9927_0242ac1c0002row23_col7,#T_94795a26_48c3_11eb_9927_0242ac1c0002row23_col8,#T_94795a26_48c3_11eb_9927_0242ac1c0002row23_col9,#T_94795a26_48c3_11eb_9927_0242ac1c0002row23_col10,#T_94795a26_48c3_11eb_9927_0242ac1c0002row23_col11,#T_94795a26_48c3_11eb_9927_0242ac1c0002row24_col7,#T_94795a26_48c3_11eb_9927_0242ac1c0002row24_col8,#T_94795a26_48c3_11eb_9927_0242ac1c0002row24_col9,#T_94795a26_48c3_11eb_9927_0242ac1c0002row24_col10,#T_94795a26_48c3_11eb_9927_0242ac1c0002row24_col11{\n",
              "            font-size:  6pt;\n",
              "            background-color:  #08306b;\n",
              "            color:  #f1f1f1;\n",
              "        }#T_94795a26_48c3_11eb_9927_0242ac1c0002row5_col15{\n",
              "            font-size:  6pt;\n",
              "            background-color:  #2f7fbc;\n",
              "            color:  #000000;\n",
              "        }#T_94795a26_48c3_11eb_9927_0242ac1c0002row5_col16{\n",
              "            font-size:  6pt;\n",
              "            background-color:  #1e6db2;\n",
              "            color:  #f1f1f1;\n",
              "        }#T_94795a26_48c3_11eb_9927_0242ac1c0002row5_col18{\n",
              "            font-size:  6pt;\n",
              "            background-color:  #9cc9e1;\n",
              "            color:  #000000;\n",
              "        }#T_94795a26_48c3_11eb_9927_0242ac1c0002row6_col7,#T_94795a26_48c3_11eb_9927_0242ac1c0002row8_col9{\n",
              "            font-size:  6pt;\n",
              "            background-color:  #d2e3f3;\n",
              "            color:  #000000;\n",
              "        }#T_94795a26_48c3_11eb_9927_0242ac1c0002row6_col8,#T_94795a26_48c3_11eb_9927_0242ac1c0002row12_col10{\n",
              "            font-size:  6pt;\n",
              "            background-color:  #3a8ac2;\n",
              "            color:  #000000;\n",
              "        }#T_94795a26_48c3_11eb_9927_0242ac1c0002row6_col9,#T_94795a26_48c3_11eb_9927_0242ac1c0002row9_col15{\n",
              "            font-size:  6pt;\n",
              "            background-color:  #084e98;\n",
              "            color:  #f1f1f1;\n",
              "        }#T_94795a26_48c3_11eb_9927_0242ac1c0002row6_col12,#T_94795a26_48c3_11eb_9927_0242ac1c0002row6_col18,#T_94795a26_48c3_11eb_9927_0242ac1c0002row7_col18,#T_94795a26_48c3_11eb_9927_0242ac1c0002row21_col17{\n",
              "            font-size:  6pt;\n",
              "            background-color:  #08458a;\n",
              "            color:  #f1f1f1;\n",
              "        }#T_94795a26_48c3_11eb_9927_0242ac1c0002row6_col13,#T_94795a26_48c3_11eb_9927_0242ac1c0002row7_col15{\n",
              "            font-size:  6pt;\n",
              "            background-color:  #1d6cb1;\n",
              "            color:  #f1f1f1;\n",
              "        }#T_94795a26_48c3_11eb_9927_0242ac1c0002row6_col14,#T_94795a26_48c3_11eb_9927_0242ac1c0002row11_col14,#T_94795a26_48c3_11eb_9927_0242ac1c0002row12_col12,#T_94795a26_48c3_11eb_9927_0242ac1c0002row12_col14,#T_94795a26_48c3_11eb_9927_0242ac1c0002row13_col12,#T_94795a26_48c3_11eb_9927_0242ac1c0002row13_col14,#T_94795a26_48c3_11eb_9927_0242ac1c0002row22_col14,#T_94795a26_48c3_11eb_9927_0242ac1c0002row23_col12{\n",
              "            font-size:  6pt;\n",
              "            background-color:  #08316d;\n",
              "            color:  #f1f1f1;\n",
              "        }#T_94795a26_48c3_11eb_9927_0242ac1c0002row7_col5{\n",
              "            font-size:  6pt;\n",
              "            background-color:  #09529d;\n",
              "            color:  #f1f1f1;\n",
              "        }#T_94795a26_48c3_11eb_9927_0242ac1c0002row7_col6{\n",
              "            font-size:  6pt;\n",
              "            background-color:  #083979;\n",
              "            color:  #f1f1f1;\n",
              "        }#T_94795a26_48c3_11eb_9927_0242ac1c0002row7_col7,#T_94795a26_48c3_11eb_9927_0242ac1c0002row18_col17{\n",
              "            font-size:  6pt;\n",
              "            background-color:  #083471;\n",
              "            color:  #f1f1f1;\n",
              "        }#T_94795a26_48c3_11eb_9927_0242ac1c0002row7_col9,#T_94795a26_48c3_11eb_9927_0242ac1c0002row12_col15,#T_94795a26_48c3_11eb_9927_0242ac1c0002row14_col19,#T_94795a26_48c3_11eb_9927_0242ac1c0002row23_col6{\n",
              "            font-size:  6pt;\n",
              "            background-color:  #2373b6;\n",
              "            color:  #f1f1f1;\n",
              "        }#T_94795a26_48c3_11eb_9927_0242ac1c0002row7_col10{\n",
              "            font-size:  6pt;\n",
              "            background-color:  #d3e4f3;\n",
              "            color:  #000000;\n",
              "        }#T_94795a26_48c3_11eb_9927_0242ac1c0002row7_col11,#T_94795a26_48c3_11eb_9927_0242ac1c0002row7_col14{\n",
              "            font-size:  6pt;\n",
              "            background-color:  #eff6fc;\n",
              "            color:  #000000;\n",
              "        }#T_94795a26_48c3_11eb_9927_0242ac1c0002row7_col12{\n",
              "            font-size:  6pt;\n",
              "            background-color:  #f1f7fd;\n",
              "            color:  #000000;\n",
              "        }#T_94795a26_48c3_11eb_9927_0242ac1c0002row7_col13{\n",
              "            font-size:  6pt;\n",
              "            background-color:  #f4f9fe;\n",
              "            color:  #000000;\n",
              "        }#T_94795a26_48c3_11eb_9927_0242ac1c0002row8_col8{\n",
              "            font-size:  6pt;\n",
              "            background-color:  #08488e;\n",
              "            color:  #f1f1f1;\n",
              "        }#T_94795a26_48c3_11eb_9927_0242ac1c0002row8_col15{\n",
              "            font-size:  6pt;\n",
              "            background-color:  #1f6eb3;\n",
              "            color:  #f1f1f1;\n",
              "        }#T_94795a26_48c3_11eb_9927_0242ac1c0002row8_col18{\n",
              "            font-size:  6pt;\n",
              "            background-color:  #4594c7;\n",
              "            color:  #000000;\n",
              "        }#T_94795a26_48c3_11eb_9927_0242ac1c0002row9_col5{\n",
              "            font-size:  6pt;\n",
              "            background-color:  #f2f7fd;\n",
              "            color:  #000000;\n",
              "        }#T_94795a26_48c3_11eb_9927_0242ac1c0002row9_col6,#T_94795a26_48c3_11eb_9927_0242ac1c0002row9_col7,#T_94795a26_48c3_11eb_9927_0242ac1c0002row19_col20{\n",
              "            font-size:  6pt;\n",
              "            background-color:  #e7f1fa;\n",
              "            color:  #000000;\n",
              "        }#T_94795a26_48c3_11eb_9927_0242ac1c0002row9_col8{\n",
              "            font-size:  6pt;\n",
              "            background-color:  #ebf3fb;\n",
              "            color:  #000000;\n",
              "        }#T_94795a26_48c3_11eb_9927_0242ac1c0002row9_col14,#T_94795a26_48c3_11eb_9927_0242ac1c0002row14_col11{\n",
              "            font-size:  6pt;\n",
              "            background-color:  #d6e5f4;\n",
              "            color:  #000000;\n",
              "        }#T_94795a26_48c3_11eb_9927_0242ac1c0002row9_col17,#T_94795a26_48c3_11eb_9927_0242ac1c0002row10_col16{\n",
              "            font-size:  6pt;\n",
              "            background-color:  #083877;\n",
              "            color:  #f1f1f1;\n",
              "        }#T_94795a26_48c3_11eb_9927_0242ac1c0002row9_col18{\n",
              "            font-size:  6pt;\n",
              "            background-color:  #b9d6ea;\n",
              "            color:  #000000;\n",
              "        }#T_94795a26_48c3_11eb_9927_0242ac1c0002row10_col14,#T_94795a26_48c3_11eb_9927_0242ac1c0002row11_col15,#T_94795a26_48c3_11eb_9927_0242ac1c0002row13_col10{\n",
              "            font-size:  6pt;\n",
              "            background-color:  #083573;\n",
              "            color:  #f1f1f1;\n",
              "        }#T_94795a26_48c3_11eb_9927_0242ac1c0002row10_col17{\n",
              "            font-size:  6pt;\n",
              "            background-color:  #6caed6;\n",
              "            color:  #000000;\n",
              "        }#T_94795a26_48c3_11eb_9927_0242ac1c0002row11_col11{\n",
              "            font-size:  6pt;\n",
              "            background-color:  #ecf4fb;\n",
              "            color:  #000000;\n",
              "        }#T_94795a26_48c3_11eb_9927_0242ac1c0002row11_col12{\n",
              "            font-size:  6pt;\n",
              "            background-color:  #95c5df;\n",
              "            color:  #000000;\n",
              "        }#T_94795a26_48c3_11eb_9927_0242ac1c0002row11_col13{\n",
              "            font-size:  6pt;\n",
              "            background-color:  #08519c;\n",
              "            color:  #f1f1f1;\n",
              "        }#T_94795a26_48c3_11eb_9927_0242ac1c0002row11_col16{\n",
              "            font-size:  6pt;\n",
              "            background-color:  #6fb0d7;\n",
              "            color:  #000000;\n",
              "        }#T_94795a26_48c3_11eb_9927_0242ac1c0002row12_col9{\n",
              "            font-size:  6pt;\n",
              "            background-color:  #eef5fc;\n",
              "            color:  #000000;\n",
              "        }#T_94795a26_48c3_11eb_9927_0242ac1c0002row12_col11,#T_94795a26_48c3_11eb_9927_0242ac1c0002row22_col12{\n",
              "            font-size:  6pt;\n",
              "            background-color:  #083e81;\n",
              "            color:  #f1f1f1;\n",
              "        }#T_94795a26_48c3_11eb_9927_0242ac1c0002row12_col13,#T_94795a26_48c3_11eb_9927_0242ac1c0002row13_col13,#T_94795a26_48c3_11eb_9927_0242ac1c0002row21_col14,#T_94795a26_48c3_11eb_9927_0242ac1c0002row22_col13,#T_94795a26_48c3_11eb_9927_0242ac1c0002row23_col13{\n",
              "            font-size:  6pt;\n",
              "            background-color:  #08326e;\n",
              "            color:  #f1f1f1;\n",
              "        }#T_94795a26_48c3_11eb_9927_0242ac1c0002row12_col16{\n",
              "            font-size:  6pt;\n",
              "            background-color:  #dfecf7;\n",
              "            color:  #000000;\n",
              "        }#T_94795a26_48c3_11eb_9927_0242ac1c0002row13_col9{\n",
              "            font-size:  6pt;\n",
              "            background-color:  #eaf3fb;\n",
              "            color:  #000000;\n",
              "        }#T_94795a26_48c3_11eb_9927_0242ac1c0002row13_col11,#T_94795a26_48c3_11eb_9927_0242ac1c0002row22_col15{\n",
              "            font-size:  6pt;\n",
              "            background-color:  #083370;\n",
              "            color:  #f1f1f1;\n",
              "        }#T_94795a26_48c3_11eb_9927_0242ac1c0002row13_col16{\n",
              "            font-size:  6pt;\n",
              "            background-color:  #08468b;\n",
              "            color:  #f1f1f1;\n",
              "        }#T_94795a26_48c3_11eb_9927_0242ac1c0002row13_col17{\n",
              "            font-size:  6pt;\n",
              "            background-color:  #0e59a2;\n",
              "            color:  #f1f1f1;\n",
              "        }#T_94795a26_48c3_11eb_9927_0242ac1c0002row13_col18{\n",
              "            font-size:  6pt;\n",
              "            background-color:  #84bcdb;\n",
              "            color:  #000000;\n",
              "        }#T_94795a26_48c3_11eb_9927_0242ac1c0002row13_col19{\n",
              "            font-size:  6pt;\n",
              "            background-color:  #f5fafe;\n",
              "            color:  #000000;\n",
              "        }#T_94795a26_48c3_11eb_9927_0242ac1c0002row14_col12,#T_94795a26_48c3_11eb_9927_0242ac1c0002row14_col13,#T_94795a26_48c3_11eb_9927_0242ac1c0002row20_col14{\n",
              "            font-size:  6pt;\n",
              "            background-color:  #9ac8e0;\n",
              "            color:  #000000;\n",
              "        }#T_94795a26_48c3_11eb_9927_0242ac1c0002row14_col14{\n",
              "            font-size:  6pt;\n",
              "            background-color:  #135fa7;\n",
              "            color:  #f1f1f1;\n",
              "        }#T_94795a26_48c3_11eb_9927_0242ac1c0002row14_col20{\n",
              "            font-size:  6pt;\n",
              "            background-color:  #d8e7f5;\n",
              "            color:  #000000;\n",
              "        }#T_94795a26_48c3_11eb_9927_0242ac1c0002row15_col14,#T_94795a26_48c3_11eb_9927_0242ac1c0002row20_col19{\n",
              "            font-size:  6pt;\n",
              "            background-color:  #f0f6fd;\n",
              "            color:  #000000;\n",
              "        }#T_94795a26_48c3_11eb_9927_0242ac1c0002row15_col15{\n",
              "            font-size:  6pt;\n",
              "            background-color:  #d0e1f2;\n",
              "            color:  #000000;\n",
              "        }#T_94795a26_48c3_11eb_9927_0242ac1c0002row15_col16{\n",
              "            font-size:  6pt;\n",
              "            background-color:  #77b5d9;\n",
              "            color:  #000000;\n",
              "        }#T_94795a26_48c3_11eb_9927_0242ac1c0002row15_col20{\n",
              "            font-size:  6pt;\n",
              "            background-color:  #5ca4d0;\n",
              "            color:  #000000;\n",
              "        }#T_94795a26_48c3_11eb_9927_0242ac1c0002row16_col16,#T_94795a26_48c3_11eb_9927_0242ac1c0002row24_col14{\n",
              "            font-size:  6pt;\n",
              "            background-color:  #f6faff;\n",
              "            color:  #000000;\n",
              "        }#T_94795a26_48c3_11eb_9927_0242ac1c0002row16_col17{\n",
              "            font-size:  6pt;\n",
              "            background-color:  #2777b8;\n",
              "            color:  #000000;\n",
              "        }#T_94795a26_48c3_11eb_9927_0242ac1c0002row17_col17{\n",
              "            font-size:  6pt;\n",
              "            background-color:  #2979b9;\n",
              "            color:  #000000;\n",
              "        }#T_94795a26_48c3_11eb_9927_0242ac1c0002row17_col20{\n",
              "            font-size:  6pt;\n",
              "            background-color:  #2171b5;\n",
              "            color:  #f1f1f1;\n",
              "        }#T_94795a26_48c3_11eb_9927_0242ac1c0002row18_col16{\n",
              "            font-size:  6pt;\n",
              "            background-color:  #aacfe5;\n",
              "            color:  #000000;\n",
              "        }#T_94795a26_48c3_11eb_9927_0242ac1c0002row18_col20{\n",
              "            font-size:  6pt;\n",
              "            background-color:  #c3daee;\n",
              "            color:  #000000;\n",
              "        }#T_94795a26_48c3_11eb_9927_0242ac1c0002row19_col15,#T_94795a26_48c3_11eb_9927_0242ac1c0002row22_col9{\n",
              "            font-size:  6pt;\n",
              "            background-color:  #c9ddf0;\n",
              "            color:  #000000;\n",
              "        }#T_94795a26_48c3_11eb_9927_0242ac1c0002row19_col16{\n",
              "            font-size:  6pt;\n",
              "            background-color:  #0e58a2;\n",
              "            color:  #f1f1f1;\n",
              "        }#T_94795a26_48c3_11eb_9927_0242ac1c0002row19_col19{\n",
              "            font-size:  6pt;\n",
              "            background-color:  #3282be;\n",
              "            color:  #000000;\n",
              "        }#T_94795a26_48c3_11eb_9927_0242ac1c0002row20_col15{\n",
              "            font-size:  6pt;\n",
              "            background-color:  #083674;\n",
              "            color:  #f1f1f1;\n",
              "        }#T_94795a26_48c3_11eb_9927_0242ac1c0002row20_col18{\n",
              "            font-size:  6pt;\n",
              "            background-color:  #084c95;\n",
              "            color:  #f1f1f1;\n",
              "        }#T_94795a26_48c3_11eb_9927_0242ac1c0002row21_col12,#T_94795a26_48c3_11eb_9927_0242ac1c0002row22_col6,#T_94795a26_48c3_11eb_9927_0242ac1c0002row22_col8{\n",
              "            font-size:  6pt;\n",
              "            background-color:  #d6e6f4;\n",
              "            color:  #000000;\n",
              "        }#T_94795a26_48c3_11eb_9927_0242ac1c0002row21_col13{\n",
              "            font-size:  6pt;\n",
              "            background-color:  #4e9acb;\n",
              "            color:  #000000;\n",
              "        }#T_94795a26_48c3_11eb_9927_0242ac1c0002row21_col18{\n",
              "            font-size:  6pt;\n",
              "            background-color:  #cee0f2;\n",
              "            color:  #000000;\n",
              "        }#T_94795a26_48c3_11eb_9927_0242ac1c0002row22_col7,#T_94795a26_48c3_11eb_9927_0242ac1c0002row22_col10{\n",
              "            font-size:  6pt;\n",
              "            background-color:  #7db8da;\n",
              "            color:  #000000;\n",
              "        }#T_94795a26_48c3_11eb_9927_0242ac1c0002row22_col11{\n",
              "            font-size:  6pt;\n",
              "            background-color:  #4191c6;\n",
              "            color:  #000000;\n",
              "        }#T_94795a26_48c3_11eb_9927_0242ac1c0002row22_col16{\n",
              "            font-size:  6pt;\n",
              "            background-color:  #3080bd;\n",
              "            color:  #000000;\n",
              "        }#T_94795a26_48c3_11eb_9927_0242ac1c0002row22_col17{\n",
              "            font-size:  6pt;\n",
              "            background-color:  #e3eef9;\n",
              "            color:  #000000;\n",
              "        }#T_94795a26_48c3_11eb_9927_0242ac1c0002row23_col14{\n",
              "            font-size:  6pt;\n",
              "            background-color:  #1c6ab0;\n",
              "            color:  #f1f1f1;\n",
              "        }#T_94795a26_48c3_11eb_9927_0242ac1c0002row23_col15{\n",
              "            font-size:  6pt;\n",
              "            background-color:  #a9cfe5;\n",
              "            color:  #000000;\n",
              "        }#T_94795a26_48c3_11eb_9927_0242ac1c0002row24_col6{\n",
              "            font-size:  6pt;\n",
              "            background-color:  #91c3de;\n",
              "            color:  #000000;\n",
              "        }#T_94795a26_48c3_11eb_9927_0242ac1c0002row24_col12{\n",
              "            font-size:  6pt;\n",
              "            background-color:  #08478d;\n",
              "            color:  #f1f1f1;\n",
              "        }#T_94795a26_48c3_11eb_9927_0242ac1c0002row24_col13{\n",
              "            font-size:  6pt;\n",
              "            background-color:  #c2d9ee;\n",
              "            color:  #000000;\n",
              "        }</style><table id=\"T_94795a26_48c3_11eb_9927_0242ac1c0002\" ><thead>    <tr>        <th class=\"blank level0\" ></th>        <th class=\"col_heading level0 col0\" >0</th>        <th class=\"col_heading level0 col1\" >1</th>        <th class=\"col_heading level0 col2\" >2</th>        <th class=\"col_heading level0 col3\" >3</th>        <th class=\"col_heading level0 col4\" >4</th>        <th class=\"col_heading level0 col5\" >5</th>        <th class=\"col_heading level0 col6\" >6</th>        <th class=\"col_heading level0 col7\" >7</th>        <th class=\"col_heading level0 col8\" >8</th>        <th class=\"col_heading level0 col9\" >9</th>        <th class=\"col_heading level0 col10\" >10</th>        <th class=\"col_heading level0 col11\" >11</th>        <th class=\"col_heading level0 col12\" >12</th>        <th class=\"col_heading level0 col13\" >13</th>        <th class=\"col_heading level0 col14\" >14</th>        <th class=\"col_heading level0 col15\" >15</th>        <th class=\"col_heading level0 col16\" >16</th>        <th class=\"col_heading level0 col17\" >17</th>        <th class=\"col_heading level0 col18\" >18</th>        <th class=\"col_heading level0 col19\" >19</th>        <th class=\"col_heading level0 col20\" >20</th>        <th class=\"col_heading level0 col21\" >21</th>        <th class=\"col_heading level0 col22\" >22</th>        <th class=\"col_heading level0 col23\" >23</th>        <th class=\"col_heading level0 col24\" >24</th>        <th class=\"col_heading level0 col25\" >25</th>        <th class=\"col_heading level0 col26\" >26</th>        <th class=\"col_heading level0 col27\" >27</th>    </tr></thead><tbody>\n",
              "                <tr>\n",
              "                        <th id=\"T_94795a26_48c3_11eb_9927_0242ac1c0002level0_row0\" class=\"row_heading level0 row0\" >0</th>\n",
              "                        <td id=\"T_94795a26_48c3_11eb_9927_0242ac1c0002row0_col0\" class=\"data row0 col0\" >0</td>\n",
              "                        <td id=\"T_94795a26_48c3_11eb_9927_0242ac1c0002row0_col1\" class=\"data row0 col1\" >0</td>\n",
              "                        <td id=\"T_94795a26_48c3_11eb_9927_0242ac1c0002row0_col2\" class=\"data row0 col2\" >0</td>\n",
              "                        <td id=\"T_94795a26_48c3_11eb_9927_0242ac1c0002row0_col3\" class=\"data row0 col3\" >0</td>\n",
              "                        <td id=\"T_94795a26_48c3_11eb_9927_0242ac1c0002row0_col4\" class=\"data row0 col4\" >0</td>\n",
              "                        <td id=\"T_94795a26_48c3_11eb_9927_0242ac1c0002row0_col5\" class=\"data row0 col5\" >0</td>\n",
              "                        <td id=\"T_94795a26_48c3_11eb_9927_0242ac1c0002row0_col6\" class=\"data row0 col6\" >0</td>\n",
              "                        <td id=\"T_94795a26_48c3_11eb_9927_0242ac1c0002row0_col7\" class=\"data row0 col7\" >0</td>\n",
              "                        <td id=\"T_94795a26_48c3_11eb_9927_0242ac1c0002row0_col8\" class=\"data row0 col8\" >0</td>\n",
              "                        <td id=\"T_94795a26_48c3_11eb_9927_0242ac1c0002row0_col9\" class=\"data row0 col9\" >0</td>\n",
              "                        <td id=\"T_94795a26_48c3_11eb_9927_0242ac1c0002row0_col10\" class=\"data row0 col10\" >0</td>\n",
              "                        <td id=\"T_94795a26_48c3_11eb_9927_0242ac1c0002row0_col11\" class=\"data row0 col11\" >0</td>\n",
              "                        <td id=\"T_94795a26_48c3_11eb_9927_0242ac1c0002row0_col12\" class=\"data row0 col12\" >0</td>\n",
              "                        <td id=\"T_94795a26_48c3_11eb_9927_0242ac1c0002row0_col13\" class=\"data row0 col13\" >0</td>\n",
              "                        <td id=\"T_94795a26_48c3_11eb_9927_0242ac1c0002row0_col14\" class=\"data row0 col14\" >0</td>\n",
              "                        <td id=\"T_94795a26_48c3_11eb_9927_0242ac1c0002row0_col15\" class=\"data row0 col15\" >0</td>\n",
              "                        <td id=\"T_94795a26_48c3_11eb_9927_0242ac1c0002row0_col16\" class=\"data row0 col16\" >0</td>\n",
              "                        <td id=\"T_94795a26_48c3_11eb_9927_0242ac1c0002row0_col17\" class=\"data row0 col17\" >0</td>\n",
              "                        <td id=\"T_94795a26_48c3_11eb_9927_0242ac1c0002row0_col18\" class=\"data row0 col18\" >0</td>\n",
              "                        <td id=\"T_94795a26_48c3_11eb_9927_0242ac1c0002row0_col19\" class=\"data row0 col19\" >0</td>\n",
              "                        <td id=\"T_94795a26_48c3_11eb_9927_0242ac1c0002row0_col20\" class=\"data row0 col20\" >0</td>\n",
              "                        <td id=\"T_94795a26_48c3_11eb_9927_0242ac1c0002row0_col21\" class=\"data row0 col21\" >0</td>\n",
              "                        <td id=\"T_94795a26_48c3_11eb_9927_0242ac1c0002row0_col22\" class=\"data row0 col22\" >0</td>\n",
              "                        <td id=\"T_94795a26_48c3_11eb_9927_0242ac1c0002row0_col23\" class=\"data row0 col23\" >0</td>\n",
              "                        <td id=\"T_94795a26_48c3_11eb_9927_0242ac1c0002row0_col24\" class=\"data row0 col24\" >0</td>\n",
              "                        <td id=\"T_94795a26_48c3_11eb_9927_0242ac1c0002row0_col25\" class=\"data row0 col25\" >0</td>\n",
              "                        <td id=\"T_94795a26_48c3_11eb_9927_0242ac1c0002row0_col26\" class=\"data row0 col26\" >0</td>\n",
              "                        <td id=\"T_94795a26_48c3_11eb_9927_0242ac1c0002row0_col27\" class=\"data row0 col27\" >0</td>\n",
              "            </tr>\n",
              "            <tr>\n",
              "                        <th id=\"T_94795a26_48c3_11eb_9927_0242ac1c0002level0_row1\" class=\"row_heading level0 row1\" >1</th>\n",
              "                        <td id=\"T_94795a26_48c3_11eb_9927_0242ac1c0002row1_col0\" class=\"data row1 col0\" >0</td>\n",
              "                        <td id=\"T_94795a26_48c3_11eb_9927_0242ac1c0002row1_col1\" class=\"data row1 col1\" >0</td>\n",
              "                        <td id=\"T_94795a26_48c3_11eb_9927_0242ac1c0002row1_col2\" class=\"data row1 col2\" >0</td>\n",
              "                        <td id=\"T_94795a26_48c3_11eb_9927_0242ac1c0002row1_col3\" class=\"data row1 col3\" >0</td>\n",
              "                        <td id=\"T_94795a26_48c3_11eb_9927_0242ac1c0002row1_col4\" class=\"data row1 col4\" >0</td>\n",
              "                        <td id=\"T_94795a26_48c3_11eb_9927_0242ac1c0002row1_col5\" class=\"data row1 col5\" >0</td>\n",
              "                        <td id=\"T_94795a26_48c3_11eb_9927_0242ac1c0002row1_col6\" class=\"data row1 col6\" >0</td>\n",
              "                        <td id=\"T_94795a26_48c3_11eb_9927_0242ac1c0002row1_col7\" class=\"data row1 col7\" >0</td>\n",
              "                        <td id=\"T_94795a26_48c3_11eb_9927_0242ac1c0002row1_col8\" class=\"data row1 col8\" >0</td>\n",
              "                        <td id=\"T_94795a26_48c3_11eb_9927_0242ac1c0002row1_col9\" class=\"data row1 col9\" >0</td>\n",
              "                        <td id=\"T_94795a26_48c3_11eb_9927_0242ac1c0002row1_col10\" class=\"data row1 col10\" >0</td>\n",
              "                        <td id=\"T_94795a26_48c3_11eb_9927_0242ac1c0002row1_col11\" class=\"data row1 col11\" >0</td>\n",
              "                        <td id=\"T_94795a26_48c3_11eb_9927_0242ac1c0002row1_col12\" class=\"data row1 col12\" >0</td>\n",
              "                        <td id=\"T_94795a26_48c3_11eb_9927_0242ac1c0002row1_col13\" class=\"data row1 col13\" >0</td>\n",
              "                        <td id=\"T_94795a26_48c3_11eb_9927_0242ac1c0002row1_col14\" class=\"data row1 col14\" >0</td>\n",
              "                        <td id=\"T_94795a26_48c3_11eb_9927_0242ac1c0002row1_col15\" class=\"data row1 col15\" >0</td>\n",
              "                        <td id=\"T_94795a26_48c3_11eb_9927_0242ac1c0002row1_col16\" class=\"data row1 col16\" >0</td>\n",
              "                        <td id=\"T_94795a26_48c3_11eb_9927_0242ac1c0002row1_col17\" class=\"data row1 col17\" >0</td>\n",
              "                        <td id=\"T_94795a26_48c3_11eb_9927_0242ac1c0002row1_col18\" class=\"data row1 col18\" >0</td>\n",
              "                        <td id=\"T_94795a26_48c3_11eb_9927_0242ac1c0002row1_col19\" class=\"data row1 col19\" >0</td>\n",
              "                        <td id=\"T_94795a26_48c3_11eb_9927_0242ac1c0002row1_col20\" class=\"data row1 col20\" >0</td>\n",
              "                        <td id=\"T_94795a26_48c3_11eb_9927_0242ac1c0002row1_col21\" class=\"data row1 col21\" >0</td>\n",
              "                        <td id=\"T_94795a26_48c3_11eb_9927_0242ac1c0002row1_col22\" class=\"data row1 col22\" >0</td>\n",
              "                        <td id=\"T_94795a26_48c3_11eb_9927_0242ac1c0002row1_col23\" class=\"data row1 col23\" >0</td>\n",
              "                        <td id=\"T_94795a26_48c3_11eb_9927_0242ac1c0002row1_col24\" class=\"data row1 col24\" >0</td>\n",
              "                        <td id=\"T_94795a26_48c3_11eb_9927_0242ac1c0002row1_col25\" class=\"data row1 col25\" >0</td>\n",
              "                        <td id=\"T_94795a26_48c3_11eb_9927_0242ac1c0002row1_col26\" class=\"data row1 col26\" >0</td>\n",
              "                        <td id=\"T_94795a26_48c3_11eb_9927_0242ac1c0002row1_col27\" class=\"data row1 col27\" >0</td>\n",
              "            </tr>\n",
              "            <tr>\n",
              "                        <th id=\"T_94795a26_48c3_11eb_9927_0242ac1c0002level0_row2\" class=\"row_heading level0 row2\" >2</th>\n",
              "                        <td id=\"T_94795a26_48c3_11eb_9927_0242ac1c0002row2_col0\" class=\"data row2 col0\" >0</td>\n",
              "                        <td id=\"T_94795a26_48c3_11eb_9927_0242ac1c0002row2_col1\" class=\"data row2 col1\" >0</td>\n",
              "                        <td id=\"T_94795a26_48c3_11eb_9927_0242ac1c0002row2_col2\" class=\"data row2 col2\" >0</td>\n",
              "                        <td id=\"T_94795a26_48c3_11eb_9927_0242ac1c0002row2_col3\" class=\"data row2 col3\" >0</td>\n",
              "                        <td id=\"T_94795a26_48c3_11eb_9927_0242ac1c0002row2_col4\" class=\"data row2 col4\" >0</td>\n",
              "                        <td id=\"T_94795a26_48c3_11eb_9927_0242ac1c0002row2_col5\" class=\"data row2 col5\" >0</td>\n",
              "                        <td id=\"T_94795a26_48c3_11eb_9927_0242ac1c0002row2_col6\" class=\"data row2 col6\" >0</td>\n",
              "                        <td id=\"T_94795a26_48c3_11eb_9927_0242ac1c0002row2_col7\" class=\"data row2 col7\" >0</td>\n",
              "                        <td id=\"T_94795a26_48c3_11eb_9927_0242ac1c0002row2_col8\" class=\"data row2 col8\" >0</td>\n",
              "                        <td id=\"T_94795a26_48c3_11eb_9927_0242ac1c0002row2_col9\" class=\"data row2 col9\" >0</td>\n",
              "                        <td id=\"T_94795a26_48c3_11eb_9927_0242ac1c0002row2_col10\" class=\"data row2 col10\" >0</td>\n",
              "                        <td id=\"T_94795a26_48c3_11eb_9927_0242ac1c0002row2_col11\" class=\"data row2 col11\" >0</td>\n",
              "                        <td id=\"T_94795a26_48c3_11eb_9927_0242ac1c0002row2_col12\" class=\"data row2 col12\" >0</td>\n",
              "                        <td id=\"T_94795a26_48c3_11eb_9927_0242ac1c0002row2_col13\" class=\"data row2 col13\" >0</td>\n",
              "                        <td id=\"T_94795a26_48c3_11eb_9927_0242ac1c0002row2_col14\" class=\"data row2 col14\" >0</td>\n",
              "                        <td id=\"T_94795a26_48c3_11eb_9927_0242ac1c0002row2_col15\" class=\"data row2 col15\" >0</td>\n",
              "                        <td id=\"T_94795a26_48c3_11eb_9927_0242ac1c0002row2_col16\" class=\"data row2 col16\" >0</td>\n",
              "                        <td id=\"T_94795a26_48c3_11eb_9927_0242ac1c0002row2_col17\" class=\"data row2 col17\" >0</td>\n",
              "                        <td id=\"T_94795a26_48c3_11eb_9927_0242ac1c0002row2_col18\" class=\"data row2 col18\" >0</td>\n",
              "                        <td id=\"T_94795a26_48c3_11eb_9927_0242ac1c0002row2_col19\" class=\"data row2 col19\" >0</td>\n",
              "                        <td id=\"T_94795a26_48c3_11eb_9927_0242ac1c0002row2_col20\" class=\"data row2 col20\" >0</td>\n",
              "                        <td id=\"T_94795a26_48c3_11eb_9927_0242ac1c0002row2_col21\" class=\"data row2 col21\" >0</td>\n",
              "                        <td id=\"T_94795a26_48c3_11eb_9927_0242ac1c0002row2_col22\" class=\"data row2 col22\" >0</td>\n",
              "                        <td id=\"T_94795a26_48c3_11eb_9927_0242ac1c0002row2_col23\" class=\"data row2 col23\" >0</td>\n",
              "                        <td id=\"T_94795a26_48c3_11eb_9927_0242ac1c0002row2_col24\" class=\"data row2 col24\" >0</td>\n",
              "                        <td id=\"T_94795a26_48c3_11eb_9927_0242ac1c0002row2_col25\" class=\"data row2 col25\" >0</td>\n",
              "                        <td id=\"T_94795a26_48c3_11eb_9927_0242ac1c0002row2_col26\" class=\"data row2 col26\" >0</td>\n",
              "                        <td id=\"T_94795a26_48c3_11eb_9927_0242ac1c0002row2_col27\" class=\"data row2 col27\" >0</td>\n",
              "            </tr>\n",
              "            <tr>\n",
              "                        <th id=\"T_94795a26_48c3_11eb_9927_0242ac1c0002level0_row3\" class=\"row_heading level0 row3\" >3</th>\n",
              "                        <td id=\"T_94795a26_48c3_11eb_9927_0242ac1c0002row3_col0\" class=\"data row3 col0\" >0</td>\n",
              "                        <td id=\"T_94795a26_48c3_11eb_9927_0242ac1c0002row3_col1\" class=\"data row3 col1\" >0</td>\n",
              "                        <td id=\"T_94795a26_48c3_11eb_9927_0242ac1c0002row3_col2\" class=\"data row3 col2\" >0</td>\n",
              "                        <td id=\"T_94795a26_48c3_11eb_9927_0242ac1c0002row3_col3\" class=\"data row3 col3\" >0</td>\n",
              "                        <td id=\"T_94795a26_48c3_11eb_9927_0242ac1c0002row3_col4\" class=\"data row3 col4\" >0</td>\n",
              "                        <td id=\"T_94795a26_48c3_11eb_9927_0242ac1c0002row3_col5\" class=\"data row3 col5\" >0</td>\n",
              "                        <td id=\"T_94795a26_48c3_11eb_9927_0242ac1c0002row3_col6\" class=\"data row3 col6\" >0</td>\n",
              "                        <td id=\"T_94795a26_48c3_11eb_9927_0242ac1c0002row3_col7\" class=\"data row3 col7\" >0</td>\n",
              "                        <td id=\"T_94795a26_48c3_11eb_9927_0242ac1c0002row3_col8\" class=\"data row3 col8\" >0</td>\n",
              "                        <td id=\"T_94795a26_48c3_11eb_9927_0242ac1c0002row3_col9\" class=\"data row3 col9\" >0</td>\n",
              "                        <td id=\"T_94795a26_48c3_11eb_9927_0242ac1c0002row3_col10\" class=\"data row3 col10\" >0</td>\n",
              "                        <td id=\"T_94795a26_48c3_11eb_9927_0242ac1c0002row3_col11\" class=\"data row3 col11\" >0</td>\n",
              "                        <td id=\"T_94795a26_48c3_11eb_9927_0242ac1c0002row3_col12\" class=\"data row3 col12\" >0</td>\n",
              "                        <td id=\"T_94795a26_48c3_11eb_9927_0242ac1c0002row3_col13\" class=\"data row3 col13\" >0</td>\n",
              "                        <td id=\"T_94795a26_48c3_11eb_9927_0242ac1c0002row3_col14\" class=\"data row3 col14\" >0</td>\n",
              "                        <td id=\"T_94795a26_48c3_11eb_9927_0242ac1c0002row3_col15\" class=\"data row3 col15\" >0</td>\n",
              "                        <td id=\"T_94795a26_48c3_11eb_9927_0242ac1c0002row3_col16\" class=\"data row3 col16\" >0</td>\n",
              "                        <td id=\"T_94795a26_48c3_11eb_9927_0242ac1c0002row3_col17\" class=\"data row3 col17\" >0</td>\n",
              "                        <td id=\"T_94795a26_48c3_11eb_9927_0242ac1c0002row3_col18\" class=\"data row3 col18\" >0</td>\n",
              "                        <td id=\"T_94795a26_48c3_11eb_9927_0242ac1c0002row3_col19\" class=\"data row3 col19\" >0</td>\n",
              "                        <td id=\"T_94795a26_48c3_11eb_9927_0242ac1c0002row3_col20\" class=\"data row3 col20\" >0</td>\n",
              "                        <td id=\"T_94795a26_48c3_11eb_9927_0242ac1c0002row3_col21\" class=\"data row3 col21\" >0</td>\n",
              "                        <td id=\"T_94795a26_48c3_11eb_9927_0242ac1c0002row3_col22\" class=\"data row3 col22\" >0</td>\n",
              "                        <td id=\"T_94795a26_48c3_11eb_9927_0242ac1c0002row3_col23\" class=\"data row3 col23\" >0</td>\n",
              "                        <td id=\"T_94795a26_48c3_11eb_9927_0242ac1c0002row3_col24\" class=\"data row3 col24\" >0</td>\n",
              "                        <td id=\"T_94795a26_48c3_11eb_9927_0242ac1c0002row3_col25\" class=\"data row3 col25\" >0</td>\n",
              "                        <td id=\"T_94795a26_48c3_11eb_9927_0242ac1c0002row3_col26\" class=\"data row3 col26\" >0</td>\n",
              "                        <td id=\"T_94795a26_48c3_11eb_9927_0242ac1c0002row3_col27\" class=\"data row3 col27\" >0</td>\n",
              "            </tr>\n",
              "            <tr>\n",
              "                        <th id=\"T_94795a26_48c3_11eb_9927_0242ac1c0002level0_row4\" class=\"row_heading level0 row4\" >4</th>\n",
              "                        <td id=\"T_94795a26_48c3_11eb_9927_0242ac1c0002row4_col0\" class=\"data row4 col0\" >0</td>\n",
              "                        <td id=\"T_94795a26_48c3_11eb_9927_0242ac1c0002row4_col1\" class=\"data row4 col1\" >0</td>\n",
              "                        <td id=\"T_94795a26_48c3_11eb_9927_0242ac1c0002row4_col2\" class=\"data row4 col2\" >0</td>\n",
              "                        <td id=\"T_94795a26_48c3_11eb_9927_0242ac1c0002row4_col3\" class=\"data row4 col3\" >0</td>\n",
              "                        <td id=\"T_94795a26_48c3_11eb_9927_0242ac1c0002row4_col4\" class=\"data row4 col4\" >0</td>\n",
              "                        <td id=\"T_94795a26_48c3_11eb_9927_0242ac1c0002row4_col5\" class=\"data row4 col5\" >0</td>\n",
              "                        <td id=\"T_94795a26_48c3_11eb_9927_0242ac1c0002row4_col6\" class=\"data row4 col6\" >0</td>\n",
              "                        <td id=\"T_94795a26_48c3_11eb_9927_0242ac1c0002row4_col7\" class=\"data row4 col7\" >0</td>\n",
              "                        <td id=\"T_94795a26_48c3_11eb_9927_0242ac1c0002row4_col8\" class=\"data row4 col8\" >0</td>\n",
              "                        <td id=\"T_94795a26_48c3_11eb_9927_0242ac1c0002row4_col9\" class=\"data row4 col9\" >0</td>\n",
              "                        <td id=\"T_94795a26_48c3_11eb_9927_0242ac1c0002row4_col10\" class=\"data row4 col10\" >0</td>\n",
              "                        <td id=\"T_94795a26_48c3_11eb_9927_0242ac1c0002row4_col11\" class=\"data row4 col11\" >0</td>\n",
              "                        <td id=\"T_94795a26_48c3_11eb_9927_0242ac1c0002row4_col12\" class=\"data row4 col12\" >0</td>\n",
              "                        <td id=\"T_94795a26_48c3_11eb_9927_0242ac1c0002row4_col13\" class=\"data row4 col13\" >0</td>\n",
              "                        <td id=\"T_94795a26_48c3_11eb_9927_0242ac1c0002row4_col14\" class=\"data row4 col14\" >0</td>\n",
              "                        <td id=\"T_94795a26_48c3_11eb_9927_0242ac1c0002row4_col15\" class=\"data row4 col15\" >0</td>\n",
              "                        <td id=\"T_94795a26_48c3_11eb_9927_0242ac1c0002row4_col16\" class=\"data row4 col16\" >0</td>\n",
              "                        <td id=\"T_94795a26_48c3_11eb_9927_0242ac1c0002row4_col17\" class=\"data row4 col17\" >0</td>\n",
              "                        <td id=\"T_94795a26_48c3_11eb_9927_0242ac1c0002row4_col18\" class=\"data row4 col18\" >0</td>\n",
              "                        <td id=\"T_94795a26_48c3_11eb_9927_0242ac1c0002row4_col19\" class=\"data row4 col19\" >0</td>\n",
              "                        <td id=\"T_94795a26_48c3_11eb_9927_0242ac1c0002row4_col20\" class=\"data row4 col20\" >0</td>\n",
              "                        <td id=\"T_94795a26_48c3_11eb_9927_0242ac1c0002row4_col21\" class=\"data row4 col21\" >0</td>\n",
              "                        <td id=\"T_94795a26_48c3_11eb_9927_0242ac1c0002row4_col22\" class=\"data row4 col22\" >0</td>\n",
              "                        <td id=\"T_94795a26_48c3_11eb_9927_0242ac1c0002row4_col23\" class=\"data row4 col23\" >0</td>\n",
              "                        <td id=\"T_94795a26_48c3_11eb_9927_0242ac1c0002row4_col24\" class=\"data row4 col24\" >0</td>\n",
              "                        <td id=\"T_94795a26_48c3_11eb_9927_0242ac1c0002row4_col25\" class=\"data row4 col25\" >0</td>\n",
              "                        <td id=\"T_94795a26_48c3_11eb_9927_0242ac1c0002row4_col26\" class=\"data row4 col26\" >0</td>\n",
              "                        <td id=\"T_94795a26_48c3_11eb_9927_0242ac1c0002row4_col27\" class=\"data row4 col27\" >0</td>\n",
              "            </tr>\n",
              "            <tr>\n",
              "                        <th id=\"T_94795a26_48c3_11eb_9927_0242ac1c0002level0_row5\" class=\"row_heading level0 row5\" >5</th>\n",
              "                        <td id=\"T_94795a26_48c3_11eb_9927_0242ac1c0002row5_col0\" class=\"data row5 col0\" >0</td>\n",
              "                        <td id=\"T_94795a26_48c3_11eb_9927_0242ac1c0002row5_col1\" class=\"data row5 col1\" >0</td>\n",
              "                        <td id=\"T_94795a26_48c3_11eb_9927_0242ac1c0002row5_col2\" class=\"data row5 col2\" >0</td>\n",
              "                        <td id=\"T_94795a26_48c3_11eb_9927_0242ac1c0002row5_col3\" class=\"data row5 col3\" >0</td>\n",
              "                        <td id=\"T_94795a26_48c3_11eb_9927_0242ac1c0002row5_col4\" class=\"data row5 col4\" >0</td>\n",
              "                        <td id=\"T_94795a26_48c3_11eb_9927_0242ac1c0002row5_col5\" class=\"data row5 col5\" >0</td>\n",
              "                        <td id=\"T_94795a26_48c3_11eb_9927_0242ac1c0002row5_col6\" class=\"data row5 col6\" >0</td>\n",
              "                        <td id=\"T_94795a26_48c3_11eb_9927_0242ac1c0002row5_col7\" class=\"data row5 col7\" >0</td>\n",
              "                        <td id=\"T_94795a26_48c3_11eb_9927_0242ac1c0002row5_col8\" class=\"data row5 col8\" >0</td>\n",
              "                        <td id=\"T_94795a26_48c3_11eb_9927_0242ac1c0002row5_col9\" class=\"data row5 col9\" >29</td>\n",
              "                        <td id=\"T_94795a26_48c3_11eb_9927_0242ac1c0002row5_col10\" class=\"data row5 col10\" >150</td>\n",
              "                        <td id=\"T_94795a26_48c3_11eb_9927_0242ac1c0002row5_col11\" class=\"data row5 col11\" >195</td>\n",
              "                        <td id=\"T_94795a26_48c3_11eb_9927_0242ac1c0002row5_col12\" class=\"data row5 col12\" >254</td>\n",
              "                        <td id=\"T_94795a26_48c3_11eb_9927_0242ac1c0002row5_col13\" class=\"data row5 col13\" >255</td>\n",
              "                        <td id=\"T_94795a26_48c3_11eb_9927_0242ac1c0002row5_col14\" class=\"data row5 col14\" >254</td>\n",
              "                        <td id=\"T_94795a26_48c3_11eb_9927_0242ac1c0002row5_col15\" class=\"data row5 col15\" >176</td>\n",
              "                        <td id=\"T_94795a26_48c3_11eb_9927_0242ac1c0002row5_col16\" class=\"data row5 col16\" >193</td>\n",
              "                        <td id=\"T_94795a26_48c3_11eb_9927_0242ac1c0002row5_col17\" class=\"data row5 col17\" >150</td>\n",
              "                        <td id=\"T_94795a26_48c3_11eb_9927_0242ac1c0002row5_col18\" class=\"data row5 col18\" >96</td>\n",
              "                        <td id=\"T_94795a26_48c3_11eb_9927_0242ac1c0002row5_col19\" class=\"data row5 col19\" >0</td>\n",
              "                        <td id=\"T_94795a26_48c3_11eb_9927_0242ac1c0002row5_col20\" class=\"data row5 col20\" >0</td>\n",
              "                        <td id=\"T_94795a26_48c3_11eb_9927_0242ac1c0002row5_col21\" class=\"data row5 col21\" >0</td>\n",
              "                        <td id=\"T_94795a26_48c3_11eb_9927_0242ac1c0002row5_col22\" class=\"data row5 col22\" >0</td>\n",
              "                        <td id=\"T_94795a26_48c3_11eb_9927_0242ac1c0002row5_col23\" class=\"data row5 col23\" >0</td>\n",
              "                        <td id=\"T_94795a26_48c3_11eb_9927_0242ac1c0002row5_col24\" class=\"data row5 col24\" >0</td>\n",
              "                        <td id=\"T_94795a26_48c3_11eb_9927_0242ac1c0002row5_col25\" class=\"data row5 col25\" >0</td>\n",
              "                        <td id=\"T_94795a26_48c3_11eb_9927_0242ac1c0002row5_col26\" class=\"data row5 col26\" >0</td>\n",
              "                        <td id=\"T_94795a26_48c3_11eb_9927_0242ac1c0002row5_col27\" class=\"data row5 col27\" >0</td>\n",
              "            </tr>\n",
              "            <tr>\n",
              "                        <th id=\"T_94795a26_48c3_11eb_9927_0242ac1c0002level0_row6\" class=\"row_heading level0 row6\" >6</th>\n",
              "                        <td id=\"T_94795a26_48c3_11eb_9927_0242ac1c0002row6_col0\" class=\"data row6 col0\" >0</td>\n",
              "                        <td id=\"T_94795a26_48c3_11eb_9927_0242ac1c0002row6_col1\" class=\"data row6 col1\" >0</td>\n",
              "                        <td id=\"T_94795a26_48c3_11eb_9927_0242ac1c0002row6_col2\" class=\"data row6 col2\" >0</td>\n",
              "                        <td id=\"T_94795a26_48c3_11eb_9927_0242ac1c0002row6_col3\" class=\"data row6 col3\" >0</td>\n",
              "                        <td id=\"T_94795a26_48c3_11eb_9927_0242ac1c0002row6_col4\" class=\"data row6 col4\" >0</td>\n",
              "                        <td id=\"T_94795a26_48c3_11eb_9927_0242ac1c0002row6_col5\" class=\"data row6 col5\" >0</td>\n",
              "                        <td id=\"T_94795a26_48c3_11eb_9927_0242ac1c0002row6_col6\" class=\"data row6 col6\" >0</td>\n",
              "                        <td id=\"T_94795a26_48c3_11eb_9927_0242ac1c0002row6_col7\" class=\"data row6 col7\" >48</td>\n",
              "                        <td id=\"T_94795a26_48c3_11eb_9927_0242ac1c0002row6_col8\" class=\"data row6 col8\" >166</td>\n",
              "                        <td id=\"T_94795a26_48c3_11eb_9927_0242ac1c0002row6_col9\" class=\"data row6 col9\" >224</td>\n",
              "                        <td id=\"T_94795a26_48c3_11eb_9927_0242ac1c0002row6_col10\" class=\"data row6 col10\" >253</td>\n",
              "                        <td id=\"T_94795a26_48c3_11eb_9927_0242ac1c0002row6_col11\" class=\"data row6 col11\" >253</td>\n",
              "                        <td id=\"T_94795a26_48c3_11eb_9927_0242ac1c0002row6_col12\" class=\"data row6 col12\" >234</td>\n",
              "                        <td id=\"T_94795a26_48c3_11eb_9927_0242ac1c0002row6_col13\" class=\"data row6 col13\" >196</td>\n",
              "                        <td id=\"T_94795a26_48c3_11eb_9927_0242ac1c0002row6_col14\" class=\"data row6 col14\" >253</td>\n",
              "                        <td id=\"T_94795a26_48c3_11eb_9927_0242ac1c0002row6_col15\" class=\"data row6 col15\" >253</td>\n",
              "                        <td id=\"T_94795a26_48c3_11eb_9927_0242ac1c0002row6_col16\" class=\"data row6 col16\" >253</td>\n",
              "                        <td id=\"T_94795a26_48c3_11eb_9927_0242ac1c0002row6_col17\" class=\"data row6 col17\" >253</td>\n",
              "                        <td id=\"T_94795a26_48c3_11eb_9927_0242ac1c0002row6_col18\" class=\"data row6 col18\" >233</td>\n",
              "                        <td id=\"T_94795a26_48c3_11eb_9927_0242ac1c0002row6_col19\" class=\"data row6 col19\" >0</td>\n",
              "                        <td id=\"T_94795a26_48c3_11eb_9927_0242ac1c0002row6_col20\" class=\"data row6 col20\" >0</td>\n",
              "                        <td id=\"T_94795a26_48c3_11eb_9927_0242ac1c0002row6_col21\" class=\"data row6 col21\" >0</td>\n",
              "                        <td id=\"T_94795a26_48c3_11eb_9927_0242ac1c0002row6_col22\" class=\"data row6 col22\" >0</td>\n",
              "                        <td id=\"T_94795a26_48c3_11eb_9927_0242ac1c0002row6_col23\" class=\"data row6 col23\" >0</td>\n",
              "                        <td id=\"T_94795a26_48c3_11eb_9927_0242ac1c0002row6_col24\" class=\"data row6 col24\" >0</td>\n",
              "                        <td id=\"T_94795a26_48c3_11eb_9927_0242ac1c0002row6_col25\" class=\"data row6 col25\" >0</td>\n",
              "                        <td id=\"T_94795a26_48c3_11eb_9927_0242ac1c0002row6_col26\" class=\"data row6 col26\" >0</td>\n",
              "                        <td id=\"T_94795a26_48c3_11eb_9927_0242ac1c0002row6_col27\" class=\"data row6 col27\" >0</td>\n",
              "            </tr>\n",
              "            <tr>\n",
              "                        <th id=\"T_94795a26_48c3_11eb_9927_0242ac1c0002level0_row7\" class=\"row_heading level0 row7\" >7</th>\n",
              "                        <td id=\"T_94795a26_48c3_11eb_9927_0242ac1c0002row7_col0\" class=\"data row7 col0\" >0</td>\n",
              "                        <td id=\"T_94795a26_48c3_11eb_9927_0242ac1c0002row7_col1\" class=\"data row7 col1\" >0</td>\n",
              "                        <td id=\"T_94795a26_48c3_11eb_9927_0242ac1c0002row7_col2\" class=\"data row7 col2\" >0</td>\n",
              "                        <td id=\"T_94795a26_48c3_11eb_9927_0242ac1c0002row7_col3\" class=\"data row7 col3\" >0</td>\n",
              "                        <td id=\"T_94795a26_48c3_11eb_9927_0242ac1c0002row7_col4\" class=\"data row7 col4\" >0</td>\n",
              "                        <td id=\"T_94795a26_48c3_11eb_9927_0242ac1c0002row7_col5\" class=\"data row7 col5\" >93</td>\n",
              "                        <td id=\"T_94795a26_48c3_11eb_9927_0242ac1c0002row7_col6\" class=\"data row7 col6\" >244</td>\n",
              "                        <td id=\"T_94795a26_48c3_11eb_9927_0242ac1c0002row7_col7\" class=\"data row7 col7\" >249</td>\n",
              "                        <td id=\"T_94795a26_48c3_11eb_9927_0242ac1c0002row7_col8\" class=\"data row7 col8\" >253</td>\n",
              "                        <td id=\"T_94795a26_48c3_11eb_9927_0242ac1c0002row7_col9\" class=\"data row7 col9\" >187</td>\n",
              "                        <td id=\"T_94795a26_48c3_11eb_9927_0242ac1c0002row7_col10\" class=\"data row7 col10\" >46</td>\n",
              "                        <td id=\"T_94795a26_48c3_11eb_9927_0242ac1c0002row7_col11\" class=\"data row7 col11\" >10</td>\n",
              "                        <td id=\"T_94795a26_48c3_11eb_9927_0242ac1c0002row7_col12\" class=\"data row7 col12\" >8</td>\n",
              "                        <td id=\"T_94795a26_48c3_11eb_9927_0242ac1c0002row7_col13\" class=\"data row7 col13\" >4</td>\n",
              "                        <td id=\"T_94795a26_48c3_11eb_9927_0242ac1c0002row7_col14\" class=\"data row7 col14\" >10</td>\n",
              "                        <td id=\"T_94795a26_48c3_11eb_9927_0242ac1c0002row7_col15\" class=\"data row7 col15\" >194</td>\n",
              "                        <td id=\"T_94795a26_48c3_11eb_9927_0242ac1c0002row7_col16\" class=\"data row7 col16\" >253</td>\n",
              "                        <td id=\"T_94795a26_48c3_11eb_9927_0242ac1c0002row7_col17\" class=\"data row7 col17\" >253</td>\n",
              "                        <td id=\"T_94795a26_48c3_11eb_9927_0242ac1c0002row7_col18\" class=\"data row7 col18\" >233</td>\n",
              "                        <td id=\"T_94795a26_48c3_11eb_9927_0242ac1c0002row7_col19\" class=\"data row7 col19\" >0</td>\n",
              "                        <td id=\"T_94795a26_48c3_11eb_9927_0242ac1c0002row7_col20\" class=\"data row7 col20\" >0</td>\n",
              "                        <td id=\"T_94795a26_48c3_11eb_9927_0242ac1c0002row7_col21\" class=\"data row7 col21\" >0</td>\n",
              "                        <td id=\"T_94795a26_48c3_11eb_9927_0242ac1c0002row7_col22\" class=\"data row7 col22\" >0</td>\n",
              "                        <td id=\"T_94795a26_48c3_11eb_9927_0242ac1c0002row7_col23\" class=\"data row7 col23\" >0</td>\n",
              "                        <td id=\"T_94795a26_48c3_11eb_9927_0242ac1c0002row7_col24\" class=\"data row7 col24\" >0</td>\n",
              "                        <td id=\"T_94795a26_48c3_11eb_9927_0242ac1c0002row7_col25\" class=\"data row7 col25\" >0</td>\n",
              "                        <td id=\"T_94795a26_48c3_11eb_9927_0242ac1c0002row7_col26\" class=\"data row7 col26\" >0</td>\n",
              "                        <td id=\"T_94795a26_48c3_11eb_9927_0242ac1c0002row7_col27\" class=\"data row7 col27\" >0</td>\n",
              "            </tr>\n",
              "            <tr>\n",
              "                        <th id=\"T_94795a26_48c3_11eb_9927_0242ac1c0002level0_row8\" class=\"row_heading level0 row8\" >8</th>\n",
              "                        <td id=\"T_94795a26_48c3_11eb_9927_0242ac1c0002row8_col0\" class=\"data row8 col0\" >0</td>\n",
              "                        <td id=\"T_94795a26_48c3_11eb_9927_0242ac1c0002row8_col1\" class=\"data row8 col1\" >0</td>\n",
              "                        <td id=\"T_94795a26_48c3_11eb_9927_0242ac1c0002row8_col2\" class=\"data row8 col2\" >0</td>\n",
              "                        <td id=\"T_94795a26_48c3_11eb_9927_0242ac1c0002row8_col3\" class=\"data row8 col3\" >0</td>\n",
              "                        <td id=\"T_94795a26_48c3_11eb_9927_0242ac1c0002row8_col4\" class=\"data row8 col4\" >0</td>\n",
              "                        <td id=\"T_94795a26_48c3_11eb_9927_0242ac1c0002row8_col5\" class=\"data row8 col5\" >107</td>\n",
              "                        <td id=\"T_94795a26_48c3_11eb_9927_0242ac1c0002row8_col6\" class=\"data row8 col6\" >253</td>\n",
              "                        <td id=\"T_94795a26_48c3_11eb_9927_0242ac1c0002row8_col7\" class=\"data row8 col7\" >253</td>\n",
              "                        <td id=\"T_94795a26_48c3_11eb_9927_0242ac1c0002row8_col8\" class=\"data row8 col8\" >230</td>\n",
              "                        <td id=\"T_94795a26_48c3_11eb_9927_0242ac1c0002row8_col9\" class=\"data row8 col9\" >48</td>\n",
              "                        <td id=\"T_94795a26_48c3_11eb_9927_0242ac1c0002row8_col10\" class=\"data row8 col10\" >0</td>\n",
              "                        <td id=\"T_94795a26_48c3_11eb_9927_0242ac1c0002row8_col11\" class=\"data row8 col11\" >0</td>\n",
              "                        <td id=\"T_94795a26_48c3_11eb_9927_0242ac1c0002row8_col12\" class=\"data row8 col12\" >0</td>\n",
              "                        <td id=\"T_94795a26_48c3_11eb_9927_0242ac1c0002row8_col13\" class=\"data row8 col13\" >0</td>\n",
              "                        <td id=\"T_94795a26_48c3_11eb_9927_0242ac1c0002row8_col14\" class=\"data row8 col14\" >0</td>\n",
              "                        <td id=\"T_94795a26_48c3_11eb_9927_0242ac1c0002row8_col15\" class=\"data row8 col15\" >192</td>\n",
              "                        <td id=\"T_94795a26_48c3_11eb_9927_0242ac1c0002row8_col16\" class=\"data row8 col16\" >253</td>\n",
              "                        <td id=\"T_94795a26_48c3_11eb_9927_0242ac1c0002row8_col17\" class=\"data row8 col17\" >253</td>\n",
              "                        <td id=\"T_94795a26_48c3_11eb_9927_0242ac1c0002row8_col18\" class=\"data row8 col18\" >156</td>\n",
              "                        <td id=\"T_94795a26_48c3_11eb_9927_0242ac1c0002row8_col19\" class=\"data row8 col19\" >0</td>\n",
              "                        <td id=\"T_94795a26_48c3_11eb_9927_0242ac1c0002row8_col20\" class=\"data row8 col20\" >0</td>\n",
              "                        <td id=\"T_94795a26_48c3_11eb_9927_0242ac1c0002row8_col21\" class=\"data row8 col21\" >0</td>\n",
              "                        <td id=\"T_94795a26_48c3_11eb_9927_0242ac1c0002row8_col22\" class=\"data row8 col22\" >0</td>\n",
              "                        <td id=\"T_94795a26_48c3_11eb_9927_0242ac1c0002row8_col23\" class=\"data row8 col23\" >0</td>\n",
              "                        <td id=\"T_94795a26_48c3_11eb_9927_0242ac1c0002row8_col24\" class=\"data row8 col24\" >0</td>\n",
              "                        <td id=\"T_94795a26_48c3_11eb_9927_0242ac1c0002row8_col25\" class=\"data row8 col25\" >0</td>\n",
              "                        <td id=\"T_94795a26_48c3_11eb_9927_0242ac1c0002row8_col26\" class=\"data row8 col26\" >0</td>\n",
              "                        <td id=\"T_94795a26_48c3_11eb_9927_0242ac1c0002row8_col27\" class=\"data row8 col27\" >0</td>\n",
              "            </tr>\n",
              "            <tr>\n",
              "                        <th id=\"T_94795a26_48c3_11eb_9927_0242ac1c0002level0_row9\" class=\"row_heading level0 row9\" >9</th>\n",
              "                        <td id=\"T_94795a26_48c3_11eb_9927_0242ac1c0002row9_col0\" class=\"data row9 col0\" >0</td>\n",
              "                        <td id=\"T_94795a26_48c3_11eb_9927_0242ac1c0002row9_col1\" class=\"data row9 col1\" >0</td>\n",
              "                        <td id=\"T_94795a26_48c3_11eb_9927_0242ac1c0002row9_col2\" class=\"data row9 col2\" >0</td>\n",
              "                        <td id=\"T_94795a26_48c3_11eb_9927_0242ac1c0002row9_col3\" class=\"data row9 col3\" >0</td>\n",
              "                        <td id=\"T_94795a26_48c3_11eb_9927_0242ac1c0002row9_col4\" class=\"data row9 col4\" >0</td>\n",
              "                        <td id=\"T_94795a26_48c3_11eb_9927_0242ac1c0002row9_col5\" class=\"data row9 col5\" >3</td>\n",
              "                        <td id=\"T_94795a26_48c3_11eb_9927_0242ac1c0002row9_col6\" class=\"data row9 col6\" >20</td>\n",
              "                        <td id=\"T_94795a26_48c3_11eb_9927_0242ac1c0002row9_col7\" class=\"data row9 col7\" >20</td>\n",
              "                        <td id=\"T_94795a26_48c3_11eb_9927_0242ac1c0002row9_col8\" class=\"data row9 col8\" >15</td>\n",
              "                        <td id=\"T_94795a26_48c3_11eb_9927_0242ac1c0002row9_col9\" class=\"data row9 col9\" >0</td>\n",
              "                        <td id=\"T_94795a26_48c3_11eb_9927_0242ac1c0002row9_col10\" class=\"data row9 col10\" >0</td>\n",
              "                        <td id=\"T_94795a26_48c3_11eb_9927_0242ac1c0002row9_col11\" class=\"data row9 col11\" >0</td>\n",
              "                        <td id=\"T_94795a26_48c3_11eb_9927_0242ac1c0002row9_col12\" class=\"data row9 col12\" >0</td>\n",
              "                        <td id=\"T_94795a26_48c3_11eb_9927_0242ac1c0002row9_col13\" class=\"data row9 col13\" >0</td>\n",
              "                        <td id=\"T_94795a26_48c3_11eb_9927_0242ac1c0002row9_col14\" class=\"data row9 col14\" >43</td>\n",
              "                        <td id=\"T_94795a26_48c3_11eb_9927_0242ac1c0002row9_col15\" class=\"data row9 col15\" >224</td>\n",
              "                        <td id=\"T_94795a26_48c3_11eb_9927_0242ac1c0002row9_col16\" class=\"data row9 col16\" >253</td>\n",
              "                        <td id=\"T_94795a26_48c3_11eb_9927_0242ac1c0002row9_col17\" class=\"data row9 col17\" >245</td>\n",
              "                        <td id=\"T_94795a26_48c3_11eb_9927_0242ac1c0002row9_col18\" class=\"data row9 col18\" >74</td>\n",
              "                        <td id=\"T_94795a26_48c3_11eb_9927_0242ac1c0002row9_col19\" class=\"data row9 col19\" >0</td>\n",
              "                        <td id=\"T_94795a26_48c3_11eb_9927_0242ac1c0002row9_col20\" class=\"data row9 col20\" >0</td>\n",
              "                        <td id=\"T_94795a26_48c3_11eb_9927_0242ac1c0002row9_col21\" class=\"data row9 col21\" >0</td>\n",
              "                        <td id=\"T_94795a26_48c3_11eb_9927_0242ac1c0002row9_col22\" class=\"data row9 col22\" >0</td>\n",
              "                        <td id=\"T_94795a26_48c3_11eb_9927_0242ac1c0002row9_col23\" class=\"data row9 col23\" >0</td>\n",
              "                        <td id=\"T_94795a26_48c3_11eb_9927_0242ac1c0002row9_col24\" class=\"data row9 col24\" >0</td>\n",
              "                        <td id=\"T_94795a26_48c3_11eb_9927_0242ac1c0002row9_col25\" class=\"data row9 col25\" >0</td>\n",
              "                        <td id=\"T_94795a26_48c3_11eb_9927_0242ac1c0002row9_col26\" class=\"data row9 col26\" >0</td>\n",
              "                        <td id=\"T_94795a26_48c3_11eb_9927_0242ac1c0002row9_col27\" class=\"data row9 col27\" >0</td>\n",
              "            </tr>\n",
              "            <tr>\n",
              "                        <th id=\"T_94795a26_48c3_11eb_9927_0242ac1c0002level0_row10\" class=\"row_heading level0 row10\" >10</th>\n",
              "                        <td id=\"T_94795a26_48c3_11eb_9927_0242ac1c0002row10_col0\" class=\"data row10 col0\" >0</td>\n",
              "                        <td id=\"T_94795a26_48c3_11eb_9927_0242ac1c0002row10_col1\" class=\"data row10 col1\" >0</td>\n",
              "                        <td id=\"T_94795a26_48c3_11eb_9927_0242ac1c0002row10_col2\" class=\"data row10 col2\" >0</td>\n",
              "                        <td id=\"T_94795a26_48c3_11eb_9927_0242ac1c0002row10_col3\" class=\"data row10 col3\" >0</td>\n",
              "                        <td id=\"T_94795a26_48c3_11eb_9927_0242ac1c0002row10_col4\" class=\"data row10 col4\" >0</td>\n",
              "                        <td id=\"T_94795a26_48c3_11eb_9927_0242ac1c0002row10_col5\" class=\"data row10 col5\" >0</td>\n",
              "                        <td id=\"T_94795a26_48c3_11eb_9927_0242ac1c0002row10_col6\" class=\"data row10 col6\" >0</td>\n",
              "                        <td id=\"T_94795a26_48c3_11eb_9927_0242ac1c0002row10_col7\" class=\"data row10 col7\" >0</td>\n",
              "                        <td id=\"T_94795a26_48c3_11eb_9927_0242ac1c0002row10_col8\" class=\"data row10 col8\" >0</td>\n",
              "                        <td id=\"T_94795a26_48c3_11eb_9927_0242ac1c0002row10_col9\" class=\"data row10 col9\" >0</td>\n",
              "                        <td id=\"T_94795a26_48c3_11eb_9927_0242ac1c0002row10_col10\" class=\"data row10 col10\" >0</td>\n",
              "                        <td id=\"T_94795a26_48c3_11eb_9927_0242ac1c0002row10_col11\" class=\"data row10 col11\" >0</td>\n",
              "                        <td id=\"T_94795a26_48c3_11eb_9927_0242ac1c0002row10_col12\" class=\"data row10 col12\" >0</td>\n",
              "                        <td id=\"T_94795a26_48c3_11eb_9927_0242ac1c0002row10_col13\" class=\"data row10 col13\" >0</td>\n",
              "                        <td id=\"T_94795a26_48c3_11eb_9927_0242ac1c0002row10_col14\" class=\"data row10 col14\" >249</td>\n",
              "                        <td id=\"T_94795a26_48c3_11eb_9927_0242ac1c0002row10_col15\" class=\"data row10 col15\" >253</td>\n",
              "                        <td id=\"T_94795a26_48c3_11eb_9927_0242ac1c0002row10_col16\" class=\"data row10 col16\" >245</td>\n",
              "                        <td id=\"T_94795a26_48c3_11eb_9927_0242ac1c0002row10_col17\" class=\"data row10 col17\" >126</td>\n",
              "                        <td id=\"T_94795a26_48c3_11eb_9927_0242ac1c0002row10_col18\" class=\"data row10 col18\" >0</td>\n",
              "                        <td id=\"T_94795a26_48c3_11eb_9927_0242ac1c0002row10_col19\" class=\"data row10 col19\" >0</td>\n",
              "                        <td id=\"T_94795a26_48c3_11eb_9927_0242ac1c0002row10_col20\" class=\"data row10 col20\" >0</td>\n",
              "                        <td id=\"T_94795a26_48c3_11eb_9927_0242ac1c0002row10_col21\" class=\"data row10 col21\" >0</td>\n",
              "                        <td id=\"T_94795a26_48c3_11eb_9927_0242ac1c0002row10_col22\" class=\"data row10 col22\" >0</td>\n",
              "                        <td id=\"T_94795a26_48c3_11eb_9927_0242ac1c0002row10_col23\" class=\"data row10 col23\" >0</td>\n",
              "                        <td id=\"T_94795a26_48c3_11eb_9927_0242ac1c0002row10_col24\" class=\"data row10 col24\" >0</td>\n",
              "                        <td id=\"T_94795a26_48c3_11eb_9927_0242ac1c0002row10_col25\" class=\"data row10 col25\" >0</td>\n",
              "                        <td id=\"T_94795a26_48c3_11eb_9927_0242ac1c0002row10_col26\" class=\"data row10 col26\" >0</td>\n",
              "                        <td id=\"T_94795a26_48c3_11eb_9927_0242ac1c0002row10_col27\" class=\"data row10 col27\" >0</td>\n",
              "            </tr>\n",
              "            <tr>\n",
              "                        <th id=\"T_94795a26_48c3_11eb_9927_0242ac1c0002level0_row11\" class=\"row_heading level0 row11\" >11</th>\n",
              "                        <td id=\"T_94795a26_48c3_11eb_9927_0242ac1c0002row11_col0\" class=\"data row11 col0\" >0</td>\n",
              "                        <td id=\"T_94795a26_48c3_11eb_9927_0242ac1c0002row11_col1\" class=\"data row11 col1\" >0</td>\n",
              "                        <td id=\"T_94795a26_48c3_11eb_9927_0242ac1c0002row11_col2\" class=\"data row11 col2\" >0</td>\n",
              "                        <td id=\"T_94795a26_48c3_11eb_9927_0242ac1c0002row11_col3\" class=\"data row11 col3\" >0</td>\n",
              "                        <td id=\"T_94795a26_48c3_11eb_9927_0242ac1c0002row11_col4\" class=\"data row11 col4\" >0</td>\n",
              "                        <td id=\"T_94795a26_48c3_11eb_9927_0242ac1c0002row11_col5\" class=\"data row11 col5\" >0</td>\n",
              "                        <td id=\"T_94795a26_48c3_11eb_9927_0242ac1c0002row11_col6\" class=\"data row11 col6\" >0</td>\n",
              "                        <td id=\"T_94795a26_48c3_11eb_9927_0242ac1c0002row11_col7\" class=\"data row11 col7\" >0</td>\n",
              "                        <td id=\"T_94795a26_48c3_11eb_9927_0242ac1c0002row11_col8\" class=\"data row11 col8\" >0</td>\n",
              "                        <td id=\"T_94795a26_48c3_11eb_9927_0242ac1c0002row11_col9\" class=\"data row11 col9\" >0</td>\n",
              "                        <td id=\"T_94795a26_48c3_11eb_9927_0242ac1c0002row11_col10\" class=\"data row11 col10\" >0</td>\n",
              "                        <td id=\"T_94795a26_48c3_11eb_9927_0242ac1c0002row11_col11\" class=\"data row11 col11\" >14</td>\n",
              "                        <td id=\"T_94795a26_48c3_11eb_9927_0242ac1c0002row11_col12\" class=\"data row11 col12\" >101</td>\n",
              "                        <td id=\"T_94795a26_48c3_11eb_9927_0242ac1c0002row11_col13\" class=\"data row11 col13\" >223</td>\n",
              "                        <td id=\"T_94795a26_48c3_11eb_9927_0242ac1c0002row11_col14\" class=\"data row11 col14\" >253</td>\n",
              "                        <td id=\"T_94795a26_48c3_11eb_9927_0242ac1c0002row11_col15\" class=\"data row11 col15\" >248</td>\n",
              "                        <td id=\"T_94795a26_48c3_11eb_9927_0242ac1c0002row11_col16\" class=\"data row11 col16\" >124</td>\n",
              "                        <td id=\"T_94795a26_48c3_11eb_9927_0242ac1c0002row11_col17\" class=\"data row11 col17\" >0</td>\n",
              "                        <td id=\"T_94795a26_48c3_11eb_9927_0242ac1c0002row11_col18\" class=\"data row11 col18\" >0</td>\n",
              "                        <td id=\"T_94795a26_48c3_11eb_9927_0242ac1c0002row11_col19\" class=\"data row11 col19\" >0</td>\n",
              "                        <td id=\"T_94795a26_48c3_11eb_9927_0242ac1c0002row11_col20\" class=\"data row11 col20\" >0</td>\n",
              "                        <td id=\"T_94795a26_48c3_11eb_9927_0242ac1c0002row11_col21\" class=\"data row11 col21\" >0</td>\n",
              "                        <td id=\"T_94795a26_48c3_11eb_9927_0242ac1c0002row11_col22\" class=\"data row11 col22\" >0</td>\n",
              "                        <td id=\"T_94795a26_48c3_11eb_9927_0242ac1c0002row11_col23\" class=\"data row11 col23\" >0</td>\n",
              "                        <td id=\"T_94795a26_48c3_11eb_9927_0242ac1c0002row11_col24\" class=\"data row11 col24\" >0</td>\n",
              "                        <td id=\"T_94795a26_48c3_11eb_9927_0242ac1c0002row11_col25\" class=\"data row11 col25\" >0</td>\n",
              "                        <td id=\"T_94795a26_48c3_11eb_9927_0242ac1c0002row11_col26\" class=\"data row11 col26\" >0</td>\n",
              "                        <td id=\"T_94795a26_48c3_11eb_9927_0242ac1c0002row11_col27\" class=\"data row11 col27\" >0</td>\n",
              "            </tr>\n",
              "            <tr>\n",
              "                        <th id=\"T_94795a26_48c3_11eb_9927_0242ac1c0002level0_row12\" class=\"row_heading level0 row12\" >12</th>\n",
              "                        <td id=\"T_94795a26_48c3_11eb_9927_0242ac1c0002row12_col0\" class=\"data row12 col0\" >0</td>\n",
              "                        <td id=\"T_94795a26_48c3_11eb_9927_0242ac1c0002row12_col1\" class=\"data row12 col1\" >0</td>\n",
              "                        <td id=\"T_94795a26_48c3_11eb_9927_0242ac1c0002row12_col2\" class=\"data row12 col2\" >0</td>\n",
              "                        <td id=\"T_94795a26_48c3_11eb_9927_0242ac1c0002row12_col3\" class=\"data row12 col3\" >0</td>\n",
              "                        <td id=\"T_94795a26_48c3_11eb_9927_0242ac1c0002row12_col4\" class=\"data row12 col4\" >0</td>\n",
              "                        <td id=\"T_94795a26_48c3_11eb_9927_0242ac1c0002row12_col5\" class=\"data row12 col5\" >0</td>\n",
              "                        <td id=\"T_94795a26_48c3_11eb_9927_0242ac1c0002row12_col6\" class=\"data row12 col6\" >0</td>\n",
              "                        <td id=\"T_94795a26_48c3_11eb_9927_0242ac1c0002row12_col7\" class=\"data row12 col7\" >0</td>\n",
              "                        <td id=\"T_94795a26_48c3_11eb_9927_0242ac1c0002row12_col8\" class=\"data row12 col8\" >0</td>\n",
              "                        <td id=\"T_94795a26_48c3_11eb_9927_0242ac1c0002row12_col9\" class=\"data row12 col9\" >11</td>\n",
              "                        <td id=\"T_94795a26_48c3_11eb_9927_0242ac1c0002row12_col10\" class=\"data row12 col10\" >166</td>\n",
              "                        <td id=\"T_94795a26_48c3_11eb_9927_0242ac1c0002row12_col11\" class=\"data row12 col11\" >239</td>\n",
              "                        <td id=\"T_94795a26_48c3_11eb_9927_0242ac1c0002row12_col12\" class=\"data row12 col12\" >253</td>\n",
              "                        <td id=\"T_94795a26_48c3_11eb_9927_0242ac1c0002row12_col13\" class=\"data row12 col13\" >253</td>\n",
              "                        <td id=\"T_94795a26_48c3_11eb_9927_0242ac1c0002row12_col14\" class=\"data row12 col14\" >253</td>\n",
              "                        <td id=\"T_94795a26_48c3_11eb_9927_0242ac1c0002row12_col15\" class=\"data row12 col15\" >187</td>\n",
              "                        <td id=\"T_94795a26_48c3_11eb_9927_0242ac1c0002row12_col16\" class=\"data row12 col16\" >30</td>\n",
              "                        <td id=\"T_94795a26_48c3_11eb_9927_0242ac1c0002row12_col17\" class=\"data row12 col17\" >0</td>\n",
              "                        <td id=\"T_94795a26_48c3_11eb_9927_0242ac1c0002row12_col18\" class=\"data row12 col18\" >0</td>\n",
              "                        <td id=\"T_94795a26_48c3_11eb_9927_0242ac1c0002row12_col19\" class=\"data row12 col19\" >0</td>\n",
              "                        <td id=\"T_94795a26_48c3_11eb_9927_0242ac1c0002row12_col20\" class=\"data row12 col20\" >0</td>\n",
              "                        <td id=\"T_94795a26_48c3_11eb_9927_0242ac1c0002row12_col21\" class=\"data row12 col21\" >0</td>\n",
              "                        <td id=\"T_94795a26_48c3_11eb_9927_0242ac1c0002row12_col22\" class=\"data row12 col22\" >0</td>\n",
              "                        <td id=\"T_94795a26_48c3_11eb_9927_0242ac1c0002row12_col23\" class=\"data row12 col23\" >0</td>\n",
              "                        <td id=\"T_94795a26_48c3_11eb_9927_0242ac1c0002row12_col24\" class=\"data row12 col24\" >0</td>\n",
              "                        <td id=\"T_94795a26_48c3_11eb_9927_0242ac1c0002row12_col25\" class=\"data row12 col25\" >0</td>\n",
              "                        <td id=\"T_94795a26_48c3_11eb_9927_0242ac1c0002row12_col26\" class=\"data row12 col26\" >0</td>\n",
              "                        <td id=\"T_94795a26_48c3_11eb_9927_0242ac1c0002row12_col27\" class=\"data row12 col27\" >0</td>\n",
              "            </tr>\n",
              "            <tr>\n",
              "                        <th id=\"T_94795a26_48c3_11eb_9927_0242ac1c0002level0_row13\" class=\"row_heading level0 row13\" >13</th>\n",
              "                        <td id=\"T_94795a26_48c3_11eb_9927_0242ac1c0002row13_col0\" class=\"data row13 col0\" >0</td>\n",
              "                        <td id=\"T_94795a26_48c3_11eb_9927_0242ac1c0002row13_col1\" class=\"data row13 col1\" >0</td>\n",
              "                        <td id=\"T_94795a26_48c3_11eb_9927_0242ac1c0002row13_col2\" class=\"data row13 col2\" >0</td>\n",
              "                        <td id=\"T_94795a26_48c3_11eb_9927_0242ac1c0002row13_col3\" class=\"data row13 col3\" >0</td>\n",
              "                        <td id=\"T_94795a26_48c3_11eb_9927_0242ac1c0002row13_col4\" class=\"data row13 col4\" >0</td>\n",
              "                        <td id=\"T_94795a26_48c3_11eb_9927_0242ac1c0002row13_col5\" class=\"data row13 col5\" >0</td>\n",
              "                        <td id=\"T_94795a26_48c3_11eb_9927_0242ac1c0002row13_col6\" class=\"data row13 col6\" >0</td>\n",
              "                        <td id=\"T_94795a26_48c3_11eb_9927_0242ac1c0002row13_col7\" class=\"data row13 col7\" >0</td>\n",
              "                        <td id=\"T_94795a26_48c3_11eb_9927_0242ac1c0002row13_col8\" class=\"data row13 col8\" >0</td>\n",
              "                        <td id=\"T_94795a26_48c3_11eb_9927_0242ac1c0002row13_col9\" class=\"data row13 col9\" >16</td>\n",
              "                        <td id=\"T_94795a26_48c3_11eb_9927_0242ac1c0002row13_col10\" class=\"data row13 col10\" >248</td>\n",
              "                        <td id=\"T_94795a26_48c3_11eb_9927_0242ac1c0002row13_col11\" class=\"data row13 col11\" >250</td>\n",
              "                        <td id=\"T_94795a26_48c3_11eb_9927_0242ac1c0002row13_col12\" class=\"data row13 col12\" >253</td>\n",
              "                        <td id=\"T_94795a26_48c3_11eb_9927_0242ac1c0002row13_col13\" class=\"data row13 col13\" >253</td>\n",
              "                        <td id=\"T_94795a26_48c3_11eb_9927_0242ac1c0002row13_col14\" class=\"data row13 col14\" >253</td>\n",
              "                        <td id=\"T_94795a26_48c3_11eb_9927_0242ac1c0002row13_col15\" class=\"data row13 col15\" >253</td>\n",
              "                        <td id=\"T_94795a26_48c3_11eb_9927_0242ac1c0002row13_col16\" class=\"data row13 col16\" >232</td>\n",
              "                        <td id=\"T_94795a26_48c3_11eb_9927_0242ac1c0002row13_col17\" class=\"data row13 col17\" >213</td>\n",
              "                        <td id=\"T_94795a26_48c3_11eb_9927_0242ac1c0002row13_col18\" class=\"data row13 col18\" >111</td>\n",
              "                        <td id=\"T_94795a26_48c3_11eb_9927_0242ac1c0002row13_col19\" class=\"data row13 col19\" >2</td>\n",
              "                        <td id=\"T_94795a26_48c3_11eb_9927_0242ac1c0002row13_col20\" class=\"data row13 col20\" >0</td>\n",
              "                        <td id=\"T_94795a26_48c3_11eb_9927_0242ac1c0002row13_col21\" class=\"data row13 col21\" >0</td>\n",
              "                        <td id=\"T_94795a26_48c3_11eb_9927_0242ac1c0002row13_col22\" class=\"data row13 col22\" >0</td>\n",
              "                        <td id=\"T_94795a26_48c3_11eb_9927_0242ac1c0002row13_col23\" class=\"data row13 col23\" >0</td>\n",
              "                        <td id=\"T_94795a26_48c3_11eb_9927_0242ac1c0002row13_col24\" class=\"data row13 col24\" >0</td>\n",
              "                        <td id=\"T_94795a26_48c3_11eb_9927_0242ac1c0002row13_col25\" class=\"data row13 col25\" >0</td>\n",
              "                        <td id=\"T_94795a26_48c3_11eb_9927_0242ac1c0002row13_col26\" class=\"data row13 col26\" >0</td>\n",
              "                        <td id=\"T_94795a26_48c3_11eb_9927_0242ac1c0002row13_col27\" class=\"data row13 col27\" >0</td>\n",
              "            </tr>\n",
              "            <tr>\n",
              "                        <th id=\"T_94795a26_48c3_11eb_9927_0242ac1c0002level0_row14\" class=\"row_heading level0 row14\" >14</th>\n",
              "                        <td id=\"T_94795a26_48c3_11eb_9927_0242ac1c0002row14_col0\" class=\"data row14 col0\" >0</td>\n",
              "                        <td id=\"T_94795a26_48c3_11eb_9927_0242ac1c0002row14_col1\" class=\"data row14 col1\" >0</td>\n",
              "                        <td id=\"T_94795a26_48c3_11eb_9927_0242ac1c0002row14_col2\" class=\"data row14 col2\" >0</td>\n",
              "                        <td id=\"T_94795a26_48c3_11eb_9927_0242ac1c0002row14_col3\" class=\"data row14 col3\" >0</td>\n",
              "                        <td id=\"T_94795a26_48c3_11eb_9927_0242ac1c0002row14_col4\" class=\"data row14 col4\" >0</td>\n",
              "                        <td id=\"T_94795a26_48c3_11eb_9927_0242ac1c0002row14_col5\" class=\"data row14 col5\" >0</td>\n",
              "                        <td id=\"T_94795a26_48c3_11eb_9927_0242ac1c0002row14_col6\" class=\"data row14 col6\" >0</td>\n",
              "                        <td id=\"T_94795a26_48c3_11eb_9927_0242ac1c0002row14_col7\" class=\"data row14 col7\" >0</td>\n",
              "                        <td id=\"T_94795a26_48c3_11eb_9927_0242ac1c0002row14_col8\" class=\"data row14 col8\" >0</td>\n",
              "                        <td id=\"T_94795a26_48c3_11eb_9927_0242ac1c0002row14_col9\" class=\"data row14 col9\" >0</td>\n",
              "                        <td id=\"T_94795a26_48c3_11eb_9927_0242ac1c0002row14_col10\" class=\"data row14 col10\" >0</td>\n",
              "                        <td id=\"T_94795a26_48c3_11eb_9927_0242ac1c0002row14_col11\" class=\"data row14 col11\" >43</td>\n",
              "                        <td id=\"T_94795a26_48c3_11eb_9927_0242ac1c0002row14_col12\" class=\"data row14 col12\" >98</td>\n",
              "                        <td id=\"T_94795a26_48c3_11eb_9927_0242ac1c0002row14_col13\" class=\"data row14 col13\" >98</td>\n",
              "                        <td id=\"T_94795a26_48c3_11eb_9927_0242ac1c0002row14_col14\" class=\"data row14 col14\" >208</td>\n",
              "                        <td id=\"T_94795a26_48c3_11eb_9927_0242ac1c0002row14_col15\" class=\"data row14 col15\" >253</td>\n",
              "                        <td id=\"T_94795a26_48c3_11eb_9927_0242ac1c0002row14_col16\" class=\"data row14 col16\" >253</td>\n",
              "                        <td id=\"T_94795a26_48c3_11eb_9927_0242ac1c0002row14_col17\" class=\"data row14 col17\" >253</td>\n",
              "                        <td id=\"T_94795a26_48c3_11eb_9927_0242ac1c0002row14_col18\" class=\"data row14 col18\" >253</td>\n",
              "                        <td id=\"T_94795a26_48c3_11eb_9927_0242ac1c0002row14_col19\" class=\"data row14 col19\" >187</td>\n",
              "                        <td id=\"T_94795a26_48c3_11eb_9927_0242ac1c0002row14_col20\" class=\"data row14 col20\" >22</td>\n",
              "                        <td id=\"T_94795a26_48c3_11eb_9927_0242ac1c0002row14_col21\" class=\"data row14 col21\" >0</td>\n",
              "                        <td id=\"T_94795a26_48c3_11eb_9927_0242ac1c0002row14_col22\" class=\"data row14 col22\" >0</td>\n",
              "                        <td id=\"T_94795a26_48c3_11eb_9927_0242ac1c0002row14_col23\" class=\"data row14 col23\" >0</td>\n",
              "                        <td id=\"T_94795a26_48c3_11eb_9927_0242ac1c0002row14_col24\" class=\"data row14 col24\" >0</td>\n",
              "                        <td id=\"T_94795a26_48c3_11eb_9927_0242ac1c0002row14_col25\" class=\"data row14 col25\" >0</td>\n",
              "                        <td id=\"T_94795a26_48c3_11eb_9927_0242ac1c0002row14_col26\" class=\"data row14 col26\" >0</td>\n",
              "                        <td id=\"T_94795a26_48c3_11eb_9927_0242ac1c0002row14_col27\" class=\"data row14 col27\" >0</td>\n",
              "            </tr>\n",
              "            <tr>\n",
              "                        <th id=\"T_94795a26_48c3_11eb_9927_0242ac1c0002level0_row15\" class=\"row_heading level0 row15\" >15</th>\n",
              "                        <td id=\"T_94795a26_48c3_11eb_9927_0242ac1c0002row15_col0\" class=\"data row15 col0\" >0</td>\n",
              "                        <td id=\"T_94795a26_48c3_11eb_9927_0242ac1c0002row15_col1\" class=\"data row15 col1\" >0</td>\n",
              "                        <td id=\"T_94795a26_48c3_11eb_9927_0242ac1c0002row15_col2\" class=\"data row15 col2\" >0</td>\n",
              "                        <td id=\"T_94795a26_48c3_11eb_9927_0242ac1c0002row15_col3\" class=\"data row15 col3\" >0</td>\n",
              "                        <td id=\"T_94795a26_48c3_11eb_9927_0242ac1c0002row15_col4\" class=\"data row15 col4\" >0</td>\n",
              "                        <td id=\"T_94795a26_48c3_11eb_9927_0242ac1c0002row15_col5\" class=\"data row15 col5\" >0</td>\n",
              "                        <td id=\"T_94795a26_48c3_11eb_9927_0242ac1c0002row15_col6\" class=\"data row15 col6\" >0</td>\n",
              "                        <td id=\"T_94795a26_48c3_11eb_9927_0242ac1c0002row15_col7\" class=\"data row15 col7\" >0</td>\n",
              "                        <td id=\"T_94795a26_48c3_11eb_9927_0242ac1c0002row15_col8\" class=\"data row15 col8\" >0</td>\n",
              "                        <td id=\"T_94795a26_48c3_11eb_9927_0242ac1c0002row15_col9\" class=\"data row15 col9\" >0</td>\n",
              "                        <td id=\"T_94795a26_48c3_11eb_9927_0242ac1c0002row15_col10\" class=\"data row15 col10\" >0</td>\n",
              "                        <td id=\"T_94795a26_48c3_11eb_9927_0242ac1c0002row15_col11\" class=\"data row15 col11\" >0</td>\n",
              "                        <td id=\"T_94795a26_48c3_11eb_9927_0242ac1c0002row15_col12\" class=\"data row15 col12\" >0</td>\n",
              "                        <td id=\"T_94795a26_48c3_11eb_9927_0242ac1c0002row15_col13\" class=\"data row15 col13\" >0</td>\n",
              "                        <td id=\"T_94795a26_48c3_11eb_9927_0242ac1c0002row15_col14\" class=\"data row15 col14\" >9</td>\n",
              "                        <td id=\"T_94795a26_48c3_11eb_9927_0242ac1c0002row15_col15\" class=\"data row15 col15\" >51</td>\n",
              "                        <td id=\"T_94795a26_48c3_11eb_9927_0242ac1c0002row15_col16\" class=\"data row15 col16\" >119</td>\n",
              "                        <td id=\"T_94795a26_48c3_11eb_9927_0242ac1c0002row15_col17\" class=\"data row15 col17\" >253</td>\n",
              "                        <td id=\"T_94795a26_48c3_11eb_9927_0242ac1c0002row15_col18\" class=\"data row15 col18\" >253</td>\n",
              "                        <td id=\"T_94795a26_48c3_11eb_9927_0242ac1c0002row15_col19\" class=\"data row15 col19\" >253</td>\n",
              "                        <td id=\"T_94795a26_48c3_11eb_9927_0242ac1c0002row15_col20\" class=\"data row15 col20\" >76</td>\n",
              "                        <td id=\"T_94795a26_48c3_11eb_9927_0242ac1c0002row15_col21\" class=\"data row15 col21\" >0</td>\n",
              "                        <td id=\"T_94795a26_48c3_11eb_9927_0242ac1c0002row15_col22\" class=\"data row15 col22\" >0</td>\n",
              "                        <td id=\"T_94795a26_48c3_11eb_9927_0242ac1c0002row15_col23\" class=\"data row15 col23\" >0</td>\n",
              "                        <td id=\"T_94795a26_48c3_11eb_9927_0242ac1c0002row15_col24\" class=\"data row15 col24\" >0</td>\n",
              "                        <td id=\"T_94795a26_48c3_11eb_9927_0242ac1c0002row15_col25\" class=\"data row15 col25\" >0</td>\n",
              "                        <td id=\"T_94795a26_48c3_11eb_9927_0242ac1c0002row15_col26\" class=\"data row15 col26\" >0</td>\n",
              "                        <td id=\"T_94795a26_48c3_11eb_9927_0242ac1c0002row15_col27\" class=\"data row15 col27\" >0</td>\n",
              "            </tr>\n",
              "            <tr>\n",
              "                        <th id=\"T_94795a26_48c3_11eb_9927_0242ac1c0002level0_row16\" class=\"row_heading level0 row16\" >16</th>\n",
              "                        <td id=\"T_94795a26_48c3_11eb_9927_0242ac1c0002row16_col0\" class=\"data row16 col0\" >0</td>\n",
              "                        <td id=\"T_94795a26_48c3_11eb_9927_0242ac1c0002row16_col1\" class=\"data row16 col1\" >0</td>\n",
              "                        <td id=\"T_94795a26_48c3_11eb_9927_0242ac1c0002row16_col2\" class=\"data row16 col2\" >0</td>\n",
              "                        <td id=\"T_94795a26_48c3_11eb_9927_0242ac1c0002row16_col3\" class=\"data row16 col3\" >0</td>\n",
              "                        <td id=\"T_94795a26_48c3_11eb_9927_0242ac1c0002row16_col4\" class=\"data row16 col4\" >0</td>\n",
              "                        <td id=\"T_94795a26_48c3_11eb_9927_0242ac1c0002row16_col5\" class=\"data row16 col5\" >0</td>\n",
              "                        <td id=\"T_94795a26_48c3_11eb_9927_0242ac1c0002row16_col6\" class=\"data row16 col6\" >0</td>\n",
              "                        <td id=\"T_94795a26_48c3_11eb_9927_0242ac1c0002row16_col7\" class=\"data row16 col7\" >0</td>\n",
              "                        <td id=\"T_94795a26_48c3_11eb_9927_0242ac1c0002row16_col8\" class=\"data row16 col8\" >0</td>\n",
              "                        <td id=\"T_94795a26_48c3_11eb_9927_0242ac1c0002row16_col9\" class=\"data row16 col9\" >0</td>\n",
              "                        <td id=\"T_94795a26_48c3_11eb_9927_0242ac1c0002row16_col10\" class=\"data row16 col10\" >0</td>\n",
              "                        <td id=\"T_94795a26_48c3_11eb_9927_0242ac1c0002row16_col11\" class=\"data row16 col11\" >0</td>\n",
              "                        <td id=\"T_94795a26_48c3_11eb_9927_0242ac1c0002row16_col12\" class=\"data row16 col12\" >0</td>\n",
              "                        <td id=\"T_94795a26_48c3_11eb_9927_0242ac1c0002row16_col13\" class=\"data row16 col13\" >0</td>\n",
              "                        <td id=\"T_94795a26_48c3_11eb_9927_0242ac1c0002row16_col14\" class=\"data row16 col14\" >0</td>\n",
              "                        <td id=\"T_94795a26_48c3_11eb_9927_0242ac1c0002row16_col15\" class=\"data row16 col15\" >0</td>\n",
              "                        <td id=\"T_94795a26_48c3_11eb_9927_0242ac1c0002row16_col16\" class=\"data row16 col16\" >1</td>\n",
              "                        <td id=\"T_94795a26_48c3_11eb_9927_0242ac1c0002row16_col17\" class=\"data row16 col17\" >183</td>\n",
              "                        <td id=\"T_94795a26_48c3_11eb_9927_0242ac1c0002row16_col18\" class=\"data row16 col18\" >253</td>\n",
              "                        <td id=\"T_94795a26_48c3_11eb_9927_0242ac1c0002row16_col19\" class=\"data row16 col19\" >253</td>\n",
              "                        <td id=\"T_94795a26_48c3_11eb_9927_0242ac1c0002row16_col20\" class=\"data row16 col20\" >139</td>\n",
              "                        <td id=\"T_94795a26_48c3_11eb_9927_0242ac1c0002row16_col21\" class=\"data row16 col21\" >0</td>\n",
              "                        <td id=\"T_94795a26_48c3_11eb_9927_0242ac1c0002row16_col22\" class=\"data row16 col22\" >0</td>\n",
              "                        <td id=\"T_94795a26_48c3_11eb_9927_0242ac1c0002row16_col23\" class=\"data row16 col23\" >0</td>\n",
              "                        <td id=\"T_94795a26_48c3_11eb_9927_0242ac1c0002row16_col24\" class=\"data row16 col24\" >0</td>\n",
              "                        <td id=\"T_94795a26_48c3_11eb_9927_0242ac1c0002row16_col25\" class=\"data row16 col25\" >0</td>\n",
              "                        <td id=\"T_94795a26_48c3_11eb_9927_0242ac1c0002row16_col26\" class=\"data row16 col26\" >0</td>\n",
              "                        <td id=\"T_94795a26_48c3_11eb_9927_0242ac1c0002row16_col27\" class=\"data row16 col27\" >0</td>\n",
              "            </tr>\n",
              "            <tr>\n",
              "                        <th id=\"T_94795a26_48c3_11eb_9927_0242ac1c0002level0_row17\" class=\"row_heading level0 row17\" >17</th>\n",
              "                        <td id=\"T_94795a26_48c3_11eb_9927_0242ac1c0002row17_col0\" class=\"data row17 col0\" >0</td>\n",
              "                        <td id=\"T_94795a26_48c3_11eb_9927_0242ac1c0002row17_col1\" class=\"data row17 col1\" >0</td>\n",
              "                        <td id=\"T_94795a26_48c3_11eb_9927_0242ac1c0002row17_col2\" class=\"data row17 col2\" >0</td>\n",
              "                        <td id=\"T_94795a26_48c3_11eb_9927_0242ac1c0002row17_col3\" class=\"data row17 col3\" >0</td>\n",
              "                        <td id=\"T_94795a26_48c3_11eb_9927_0242ac1c0002row17_col4\" class=\"data row17 col4\" >0</td>\n",
              "                        <td id=\"T_94795a26_48c3_11eb_9927_0242ac1c0002row17_col5\" class=\"data row17 col5\" >0</td>\n",
              "                        <td id=\"T_94795a26_48c3_11eb_9927_0242ac1c0002row17_col6\" class=\"data row17 col6\" >0</td>\n",
              "                        <td id=\"T_94795a26_48c3_11eb_9927_0242ac1c0002row17_col7\" class=\"data row17 col7\" >0</td>\n",
              "                        <td id=\"T_94795a26_48c3_11eb_9927_0242ac1c0002row17_col8\" class=\"data row17 col8\" >0</td>\n",
              "                        <td id=\"T_94795a26_48c3_11eb_9927_0242ac1c0002row17_col9\" class=\"data row17 col9\" >0</td>\n",
              "                        <td id=\"T_94795a26_48c3_11eb_9927_0242ac1c0002row17_col10\" class=\"data row17 col10\" >0</td>\n",
              "                        <td id=\"T_94795a26_48c3_11eb_9927_0242ac1c0002row17_col11\" class=\"data row17 col11\" >0</td>\n",
              "                        <td id=\"T_94795a26_48c3_11eb_9927_0242ac1c0002row17_col12\" class=\"data row17 col12\" >0</td>\n",
              "                        <td id=\"T_94795a26_48c3_11eb_9927_0242ac1c0002row17_col13\" class=\"data row17 col13\" >0</td>\n",
              "                        <td id=\"T_94795a26_48c3_11eb_9927_0242ac1c0002row17_col14\" class=\"data row17 col14\" >0</td>\n",
              "                        <td id=\"T_94795a26_48c3_11eb_9927_0242ac1c0002row17_col15\" class=\"data row17 col15\" >0</td>\n",
              "                        <td id=\"T_94795a26_48c3_11eb_9927_0242ac1c0002row17_col16\" class=\"data row17 col16\" >0</td>\n",
              "                        <td id=\"T_94795a26_48c3_11eb_9927_0242ac1c0002row17_col17\" class=\"data row17 col17\" >182</td>\n",
              "                        <td id=\"T_94795a26_48c3_11eb_9927_0242ac1c0002row17_col18\" class=\"data row17 col18\" >253</td>\n",
              "                        <td id=\"T_94795a26_48c3_11eb_9927_0242ac1c0002row17_col19\" class=\"data row17 col19\" >253</td>\n",
              "                        <td id=\"T_94795a26_48c3_11eb_9927_0242ac1c0002row17_col20\" class=\"data row17 col20\" >104</td>\n",
              "                        <td id=\"T_94795a26_48c3_11eb_9927_0242ac1c0002row17_col21\" class=\"data row17 col21\" >0</td>\n",
              "                        <td id=\"T_94795a26_48c3_11eb_9927_0242ac1c0002row17_col22\" class=\"data row17 col22\" >0</td>\n",
              "                        <td id=\"T_94795a26_48c3_11eb_9927_0242ac1c0002row17_col23\" class=\"data row17 col23\" >0</td>\n",
              "                        <td id=\"T_94795a26_48c3_11eb_9927_0242ac1c0002row17_col24\" class=\"data row17 col24\" >0</td>\n",
              "                        <td id=\"T_94795a26_48c3_11eb_9927_0242ac1c0002row17_col25\" class=\"data row17 col25\" >0</td>\n",
              "                        <td id=\"T_94795a26_48c3_11eb_9927_0242ac1c0002row17_col26\" class=\"data row17 col26\" >0</td>\n",
              "                        <td id=\"T_94795a26_48c3_11eb_9927_0242ac1c0002row17_col27\" class=\"data row17 col27\" >0</td>\n",
              "            </tr>\n",
              "            <tr>\n",
              "                        <th id=\"T_94795a26_48c3_11eb_9927_0242ac1c0002level0_row18\" class=\"row_heading level0 row18\" >18</th>\n",
              "                        <td id=\"T_94795a26_48c3_11eb_9927_0242ac1c0002row18_col0\" class=\"data row18 col0\" >0</td>\n",
              "                        <td id=\"T_94795a26_48c3_11eb_9927_0242ac1c0002row18_col1\" class=\"data row18 col1\" >0</td>\n",
              "                        <td id=\"T_94795a26_48c3_11eb_9927_0242ac1c0002row18_col2\" class=\"data row18 col2\" >0</td>\n",
              "                        <td id=\"T_94795a26_48c3_11eb_9927_0242ac1c0002row18_col3\" class=\"data row18 col3\" >0</td>\n",
              "                        <td id=\"T_94795a26_48c3_11eb_9927_0242ac1c0002row18_col4\" class=\"data row18 col4\" >0</td>\n",
              "                        <td id=\"T_94795a26_48c3_11eb_9927_0242ac1c0002row18_col5\" class=\"data row18 col5\" >0</td>\n",
              "                        <td id=\"T_94795a26_48c3_11eb_9927_0242ac1c0002row18_col6\" class=\"data row18 col6\" >0</td>\n",
              "                        <td id=\"T_94795a26_48c3_11eb_9927_0242ac1c0002row18_col7\" class=\"data row18 col7\" >0</td>\n",
              "                        <td id=\"T_94795a26_48c3_11eb_9927_0242ac1c0002row18_col8\" class=\"data row18 col8\" >0</td>\n",
              "                        <td id=\"T_94795a26_48c3_11eb_9927_0242ac1c0002row18_col9\" class=\"data row18 col9\" >0</td>\n",
              "                        <td id=\"T_94795a26_48c3_11eb_9927_0242ac1c0002row18_col10\" class=\"data row18 col10\" >0</td>\n",
              "                        <td id=\"T_94795a26_48c3_11eb_9927_0242ac1c0002row18_col11\" class=\"data row18 col11\" >0</td>\n",
              "                        <td id=\"T_94795a26_48c3_11eb_9927_0242ac1c0002row18_col12\" class=\"data row18 col12\" >0</td>\n",
              "                        <td id=\"T_94795a26_48c3_11eb_9927_0242ac1c0002row18_col13\" class=\"data row18 col13\" >0</td>\n",
              "                        <td id=\"T_94795a26_48c3_11eb_9927_0242ac1c0002row18_col14\" class=\"data row18 col14\" >0</td>\n",
              "                        <td id=\"T_94795a26_48c3_11eb_9927_0242ac1c0002row18_col15\" class=\"data row18 col15\" >0</td>\n",
              "                        <td id=\"T_94795a26_48c3_11eb_9927_0242ac1c0002row18_col16\" class=\"data row18 col16\" >85</td>\n",
              "                        <td id=\"T_94795a26_48c3_11eb_9927_0242ac1c0002row18_col17\" class=\"data row18 col17\" >249</td>\n",
              "                        <td id=\"T_94795a26_48c3_11eb_9927_0242ac1c0002row18_col18\" class=\"data row18 col18\" >253</td>\n",
              "                        <td id=\"T_94795a26_48c3_11eb_9927_0242ac1c0002row18_col19\" class=\"data row18 col19\" >253</td>\n",
              "                        <td id=\"T_94795a26_48c3_11eb_9927_0242ac1c0002row18_col20\" class=\"data row18 col20\" >36</td>\n",
              "                        <td id=\"T_94795a26_48c3_11eb_9927_0242ac1c0002row18_col21\" class=\"data row18 col21\" >0</td>\n",
              "                        <td id=\"T_94795a26_48c3_11eb_9927_0242ac1c0002row18_col22\" class=\"data row18 col22\" >0</td>\n",
              "                        <td id=\"T_94795a26_48c3_11eb_9927_0242ac1c0002row18_col23\" class=\"data row18 col23\" >0</td>\n",
              "                        <td id=\"T_94795a26_48c3_11eb_9927_0242ac1c0002row18_col24\" class=\"data row18 col24\" >0</td>\n",
              "                        <td id=\"T_94795a26_48c3_11eb_9927_0242ac1c0002row18_col25\" class=\"data row18 col25\" >0</td>\n",
              "                        <td id=\"T_94795a26_48c3_11eb_9927_0242ac1c0002row18_col26\" class=\"data row18 col26\" >0</td>\n",
              "                        <td id=\"T_94795a26_48c3_11eb_9927_0242ac1c0002row18_col27\" class=\"data row18 col27\" >0</td>\n",
              "            </tr>\n",
              "            <tr>\n",
              "                        <th id=\"T_94795a26_48c3_11eb_9927_0242ac1c0002level0_row19\" class=\"row_heading level0 row19\" >19</th>\n",
              "                        <td id=\"T_94795a26_48c3_11eb_9927_0242ac1c0002row19_col0\" class=\"data row19 col0\" >0</td>\n",
              "                        <td id=\"T_94795a26_48c3_11eb_9927_0242ac1c0002row19_col1\" class=\"data row19 col1\" >0</td>\n",
              "                        <td id=\"T_94795a26_48c3_11eb_9927_0242ac1c0002row19_col2\" class=\"data row19 col2\" >0</td>\n",
              "                        <td id=\"T_94795a26_48c3_11eb_9927_0242ac1c0002row19_col3\" class=\"data row19 col3\" >0</td>\n",
              "                        <td id=\"T_94795a26_48c3_11eb_9927_0242ac1c0002row19_col4\" class=\"data row19 col4\" >0</td>\n",
              "                        <td id=\"T_94795a26_48c3_11eb_9927_0242ac1c0002row19_col5\" class=\"data row19 col5\" >0</td>\n",
              "                        <td id=\"T_94795a26_48c3_11eb_9927_0242ac1c0002row19_col6\" class=\"data row19 col6\" >0</td>\n",
              "                        <td id=\"T_94795a26_48c3_11eb_9927_0242ac1c0002row19_col7\" class=\"data row19 col7\" >0</td>\n",
              "                        <td id=\"T_94795a26_48c3_11eb_9927_0242ac1c0002row19_col8\" class=\"data row19 col8\" >0</td>\n",
              "                        <td id=\"T_94795a26_48c3_11eb_9927_0242ac1c0002row19_col9\" class=\"data row19 col9\" >0</td>\n",
              "                        <td id=\"T_94795a26_48c3_11eb_9927_0242ac1c0002row19_col10\" class=\"data row19 col10\" >0</td>\n",
              "                        <td id=\"T_94795a26_48c3_11eb_9927_0242ac1c0002row19_col11\" class=\"data row19 col11\" >0</td>\n",
              "                        <td id=\"T_94795a26_48c3_11eb_9927_0242ac1c0002row19_col12\" class=\"data row19 col12\" >0</td>\n",
              "                        <td id=\"T_94795a26_48c3_11eb_9927_0242ac1c0002row19_col13\" class=\"data row19 col13\" >0</td>\n",
              "                        <td id=\"T_94795a26_48c3_11eb_9927_0242ac1c0002row19_col14\" class=\"data row19 col14\" >0</td>\n",
              "                        <td id=\"T_94795a26_48c3_11eb_9927_0242ac1c0002row19_col15\" class=\"data row19 col15\" >60</td>\n",
              "                        <td id=\"T_94795a26_48c3_11eb_9927_0242ac1c0002row19_col16\" class=\"data row19 col16\" >214</td>\n",
              "                        <td id=\"T_94795a26_48c3_11eb_9927_0242ac1c0002row19_col17\" class=\"data row19 col17\" >253</td>\n",
              "                        <td id=\"T_94795a26_48c3_11eb_9927_0242ac1c0002row19_col18\" class=\"data row19 col18\" >253</td>\n",
              "                        <td id=\"T_94795a26_48c3_11eb_9927_0242ac1c0002row19_col19\" class=\"data row19 col19\" >173</td>\n",
              "                        <td id=\"T_94795a26_48c3_11eb_9927_0242ac1c0002row19_col20\" class=\"data row19 col20\" >11</td>\n",
              "                        <td id=\"T_94795a26_48c3_11eb_9927_0242ac1c0002row19_col21\" class=\"data row19 col21\" >0</td>\n",
              "                        <td id=\"T_94795a26_48c3_11eb_9927_0242ac1c0002row19_col22\" class=\"data row19 col22\" >0</td>\n",
              "                        <td id=\"T_94795a26_48c3_11eb_9927_0242ac1c0002row19_col23\" class=\"data row19 col23\" >0</td>\n",
              "                        <td id=\"T_94795a26_48c3_11eb_9927_0242ac1c0002row19_col24\" class=\"data row19 col24\" >0</td>\n",
              "                        <td id=\"T_94795a26_48c3_11eb_9927_0242ac1c0002row19_col25\" class=\"data row19 col25\" >0</td>\n",
              "                        <td id=\"T_94795a26_48c3_11eb_9927_0242ac1c0002row19_col26\" class=\"data row19 col26\" >0</td>\n",
              "                        <td id=\"T_94795a26_48c3_11eb_9927_0242ac1c0002row19_col27\" class=\"data row19 col27\" >0</td>\n",
              "            </tr>\n",
              "            <tr>\n",
              "                        <th id=\"T_94795a26_48c3_11eb_9927_0242ac1c0002level0_row20\" class=\"row_heading level0 row20\" >20</th>\n",
              "                        <td id=\"T_94795a26_48c3_11eb_9927_0242ac1c0002row20_col0\" class=\"data row20 col0\" >0</td>\n",
              "                        <td id=\"T_94795a26_48c3_11eb_9927_0242ac1c0002row20_col1\" class=\"data row20 col1\" >0</td>\n",
              "                        <td id=\"T_94795a26_48c3_11eb_9927_0242ac1c0002row20_col2\" class=\"data row20 col2\" >0</td>\n",
              "                        <td id=\"T_94795a26_48c3_11eb_9927_0242ac1c0002row20_col3\" class=\"data row20 col3\" >0</td>\n",
              "                        <td id=\"T_94795a26_48c3_11eb_9927_0242ac1c0002row20_col4\" class=\"data row20 col4\" >0</td>\n",
              "                        <td id=\"T_94795a26_48c3_11eb_9927_0242ac1c0002row20_col5\" class=\"data row20 col5\" >0</td>\n",
              "                        <td id=\"T_94795a26_48c3_11eb_9927_0242ac1c0002row20_col6\" class=\"data row20 col6\" >0</td>\n",
              "                        <td id=\"T_94795a26_48c3_11eb_9927_0242ac1c0002row20_col7\" class=\"data row20 col7\" >0</td>\n",
              "                        <td id=\"T_94795a26_48c3_11eb_9927_0242ac1c0002row20_col8\" class=\"data row20 col8\" >0</td>\n",
              "                        <td id=\"T_94795a26_48c3_11eb_9927_0242ac1c0002row20_col9\" class=\"data row20 col9\" >0</td>\n",
              "                        <td id=\"T_94795a26_48c3_11eb_9927_0242ac1c0002row20_col10\" class=\"data row20 col10\" >0</td>\n",
              "                        <td id=\"T_94795a26_48c3_11eb_9927_0242ac1c0002row20_col11\" class=\"data row20 col11\" >0</td>\n",
              "                        <td id=\"T_94795a26_48c3_11eb_9927_0242ac1c0002row20_col12\" class=\"data row20 col12\" >0</td>\n",
              "                        <td id=\"T_94795a26_48c3_11eb_9927_0242ac1c0002row20_col13\" class=\"data row20 col13\" >0</td>\n",
              "                        <td id=\"T_94795a26_48c3_11eb_9927_0242ac1c0002row20_col14\" class=\"data row20 col14\" >98</td>\n",
              "                        <td id=\"T_94795a26_48c3_11eb_9927_0242ac1c0002row20_col15\" class=\"data row20 col15\" >247</td>\n",
              "                        <td id=\"T_94795a26_48c3_11eb_9927_0242ac1c0002row20_col16\" class=\"data row20 col16\" >253</td>\n",
              "                        <td id=\"T_94795a26_48c3_11eb_9927_0242ac1c0002row20_col17\" class=\"data row20 col17\" >253</td>\n",
              "                        <td id=\"T_94795a26_48c3_11eb_9927_0242ac1c0002row20_col18\" class=\"data row20 col18\" >226</td>\n",
              "                        <td id=\"T_94795a26_48c3_11eb_9927_0242ac1c0002row20_col19\" class=\"data row20 col19\" >9</td>\n",
              "                        <td id=\"T_94795a26_48c3_11eb_9927_0242ac1c0002row20_col20\" class=\"data row20 col20\" >0</td>\n",
              "                        <td id=\"T_94795a26_48c3_11eb_9927_0242ac1c0002row20_col21\" class=\"data row20 col21\" >0</td>\n",
              "                        <td id=\"T_94795a26_48c3_11eb_9927_0242ac1c0002row20_col22\" class=\"data row20 col22\" >0</td>\n",
              "                        <td id=\"T_94795a26_48c3_11eb_9927_0242ac1c0002row20_col23\" class=\"data row20 col23\" >0</td>\n",
              "                        <td id=\"T_94795a26_48c3_11eb_9927_0242ac1c0002row20_col24\" class=\"data row20 col24\" >0</td>\n",
              "                        <td id=\"T_94795a26_48c3_11eb_9927_0242ac1c0002row20_col25\" class=\"data row20 col25\" >0</td>\n",
              "                        <td id=\"T_94795a26_48c3_11eb_9927_0242ac1c0002row20_col26\" class=\"data row20 col26\" >0</td>\n",
              "                        <td id=\"T_94795a26_48c3_11eb_9927_0242ac1c0002row20_col27\" class=\"data row20 col27\" >0</td>\n",
              "            </tr>\n",
              "            <tr>\n",
              "                        <th id=\"T_94795a26_48c3_11eb_9927_0242ac1c0002level0_row21\" class=\"row_heading level0 row21\" >21</th>\n",
              "                        <td id=\"T_94795a26_48c3_11eb_9927_0242ac1c0002row21_col0\" class=\"data row21 col0\" >0</td>\n",
              "                        <td id=\"T_94795a26_48c3_11eb_9927_0242ac1c0002row21_col1\" class=\"data row21 col1\" >0</td>\n",
              "                        <td id=\"T_94795a26_48c3_11eb_9927_0242ac1c0002row21_col2\" class=\"data row21 col2\" >0</td>\n",
              "                        <td id=\"T_94795a26_48c3_11eb_9927_0242ac1c0002row21_col3\" class=\"data row21 col3\" >0</td>\n",
              "                        <td id=\"T_94795a26_48c3_11eb_9927_0242ac1c0002row21_col4\" class=\"data row21 col4\" >0</td>\n",
              "                        <td id=\"T_94795a26_48c3_11eb_9927_0242ac1c0002row21_col5\" class=\"data row21 col5\" >0</td>\n",
              "                        <td id=\"T_94795a26_48c3_11eb_9927_0242ac1c0002row21_col6\" class=\"data row21 col6\" >0</td>\n",
              "                        <td id=\"T_94795a26_48c3_11eb_9927_0242ac1c0002row21_col7\" class=\"data row21 col7\" >0</td>\n",
              "                        <td id=\"T_94795a26_48c3_11eb_9927_0242ac1c0002row21_col8\" class=\"data row21 col8\" >0</td>\n",
              "                        <td id=\"T_94795a26_48c3_11eb_9927_0242ac1c0002row21_col9\" class=\"data row21 col9\" >0</td>\n",
              "                        <td id=\"T_94795a26_48c3_11eb_9927_0242ac1c0002row21_col10\" class=\"data row21 col10\" >0</td>\n",
              "                        <td id=\"T_94795a26_48c3_11eb_9927_0242ac1c0002row21_col11\" class=\"data row21 col11\" >0</td>\n",
              "                        <td id=\"T_94795a26_48c3_11eb_9927_0242ac1c0002row21_col12\" class=\"data row21 col12\" >42</td>\n",
              "                        <td id=\"T_94795a26_48c3_11eb_9927_0242ac1c0002row21_col13\" class=\"data row21 col13\" >150</td>\n",
              "                        <td id=\"T_94795a26_48c3_11eb_9927_0242ac1c0002row21_col14\" class=\"data row21 col14\" >252</td>\n",
              "                        <td id=\"T_94795a26_48c3_11eb_9927_0242ac1c0002row21_col15\" class=\"data row21 col15\" >253</td>\n",
              "                        <td id=\"T_94795a26_48c3_11eb_9927_0242ac1c0002row21_col16\" class=\"data row21 col16\" >253</td>\n",
              "                        <td id=\"T_94795a26_48c3_11eb_9927_0242ac1c0002row21_col17\" class=\"data row21 col17\" >233</td>\n",
              "                        <td id=\"T_94795a26_48c3_11eb_9927_0242ac1c0002row21_col18\" class=\"data row21 col18\" >53</td>\n",
              "                        <td id=\"T_94795a26_48c3_11eb_9927_0242ac1c0002row21_col19\" class=\"data row21 col19\" >0</td>\n",
              "                        <td id=\"T_94795a26_48c3_11eb_9927_0242ac1c0002row21_col20\" class=\"data row21 col20\" >0</td>\n",
              "                        <td id=\"T_94795a26_48c3_11eb_9927_0242ac1c0002row21_col21\" class=\"data row21 col21\" >0</td>\n",
              "                        <td id=\"T_94795a26_48c3_11eb_9927_0242ac1c0002row21_col22\" class=\"data row21 col22\" >0</td>\n",
              "                        <td id=\"T_94795a26_48c3_11eb_9927_0242ac1c0002row21_col23\" class=\"data row21 col23\" >0</td>\n",
              "                        <td id=\"T_94795a26_48c3_11eb_9927_0242ac1c0002row21_col24\" class=\"data row21 col24\" >0</td>\n",
              "                        <td id=\"T_94795a26_48c3_11eb_9927_0242ac1c0002row21_col25\" class=\"data row21 col25\" >0</td>\n",
              "                        <td id=\"T_94795a26_48c3_11eb_9927_0242ac1c0002row21_col26\" class=\"data row21 col26\" >0</td>\n",
              "                        <td id=\"T_94795a26_48c3_11eb_9927_0242ac1c0002row21_col27\" class=\"data row21 col27\" >0</td>\n",
              "            </tr>\n",
              "            <tr>\n",
              "                        <th id=\"T_94795a26_48c3_11eb_9927_0242ac1c0002level0_row22\" class=\"row_heading level0 row22\" >22</th>\n",
              "                        <td id=\"T_94795a26_48c3_11eb_9927_0242ac1c0002row22_col0\" class=\"data row22 col0\" >0</td>\n",
              "                        <td id=\"T_94795a26_48c3_11eb_9927_0242ac1c0002row22_col1\" class=\"data row22 col1\" >0</td>\n",
              "                        <td id=\"T_94795a26_48c3_11eb_9927_0242ac1c0002row22_col2\" class=\"data row22 col2\" >0</td>\n",
              "                        <td id=\"T_94795a26_48c3_11eb_9927_0242ac1c0002row22_col3\" class=\"data row22 col3\" >0</td>\n",
              "                        <td id=\"T_94795a26_48c3_11eb_9927_0242ac1c0002row22_col4\" class=\"data row22 col4\" >0</td>\n",
              "                        <td id=\"T_94795a26_48c3_11eb_9927_0242ac1c0002row22_col5\" class=\"data row22 col5\" >0</td>\n",
              "                        <td id=\"T_94795a26_48c3_11eb_9927_0242ac1c0002row22_col6\" class=\"data row22 col6\" >42</td>\n",
              "                        <td id=\"T_94795a26_48c3_11eb_9927_0242ac1c0002row22_col7\" class=\"data row22 col7\" >115</td>\n",
              "                        <td id=\"T_94795a26_48c3_11eb_9927_0242ac1c0002row22_col8\" class=\"data row22 col8\" >42</td>\n",
              "                        <td id=\"T_94795a26_48c3_11eb_9927_0242ac1c0002row22_col9\" class=\"data row22 col9\" >60</td>\n",
              "                        <td id=\"T_94795a26_48c3_11eb_9927_0242ac1c0002row22_col10\" class=\"data row22 col10\" >115</td>\n",
              "                        <td id=\"T_94795a26_48c3_11eb_9927_0242ac1c0002row22_col11\" class=\"data row22 col11\" >159</td>\n",
              "                        <td id=\"T_94795a26_48c3_11eb_9927_0242ac1c0002row22_col12\" class=\"data row22 col12\" >240</td>\n",
              "                        <td id=\"T_94795a26_48c3_11eb_9927_0242ac1c0002row22_col13\" class=\"data row22 col13\" >253</td>\n",
              "                        <td id=\"T_94795a26_48c3_11eb_9927_0242ac1c0002row22_col14\" class=\"data row22 col14\" >253</td>\n",
              "                        <td id=\"T_94795a26_48c3_11eb_9927_0242ac1c0002row22_col15\" class=\"data row22 col15\" >250</td>\n",
              "                        <td id=\"T_94795a26_48c3_11eb_9927_0242ac1c0002row22_col16\" class=\"data row22 col16\" >175</td>\n",
              "                        <td id=\"T_94795a26_48c3_11eb_9927_0242ac1c0002row22_col17\" class=\"data row22 col17\" >25</td>\n",
              "                        <td id=\"T_94795a26_48c3_11eb_9927_0242ac1c0002row22_col18\" class=\"data row22 col18\" >0</td>\n",
              "                        <td id=\"T_94795a26_48c3_11eb_9927_0242ac1c0002row22_col19\" class=\"data row22 col19\" >0</td>\n",
              "                        <td id=\"T_94795a26_48c3_11eb_9927_0242ac1c0002row22_col20\" class=\"data row22 col20\" >0</td>\n",
              "                        <td id=\"T_94795a26_48c3_11eb_9927_0242ac1c0002row22_col21\" class=\"data row22 col21\" >0</td>\n",
              "                        <td id=\"T_94795a26_48c3_11eb_9927_0242ac1c0002row22_col22\" class=\"data row22 col22\" >0</td>\n",
              "                        <td id=\"T_94795a26_48c3_11eb_9927_0242ac1c0002row22_col23\" class=\"data row22 col23\" >0</td>\n",
              "                        <td id=\"T_94795a26_48c3_11eb_9927_0242ac1c0002row22_col24\" class=\"data row22 col24\" >0</td>\n",
              "                        <td id=\"T_94795a26_48c3_11eb_9927_0242ac1c0002row22_col25\" class=\"data row22 col25\" >0</td>\n",
              "                        <td id=\"T_94795a26_48c3_11eb_9927_0242ac1c0002row22_col26\" class=\"data row22 col26\" >0</td>\n",
              "                        <td id=\"T_94795a26_48c3_11eb_9927_0242ac1c0002row22_col27\" class=\"data row22 col27\" >0</td>\n",
              "            </tr>\n",
              "            <tr>\n",
              "                        <th id=\"T_94795a26_48c3_11eb_9927_0242ac1c0002level0_row23\" class=\"row_heading level0 row23\" >23</th>\n",
              "                        <td id=\"T_94795a26_48c3_11eb_9927_0242ac1c0002row23_col0\" class=\"data row23 col0\" >0</td>\n",
              "                        <td id=\"T_94795a26_48c3_11eb_9927_0242ac1c0002row23_col1\" class=\"data row23 col1\" >0</td>\n",
              "                        <td id=\"T_94795a26_48c3_11eb_9927_0242ac1c0002row23_col2\" class=\"data row23 col2\" >0</td>\n",
              "                        <td id=\"T_94795a26_48c3_11eb_9927_0242ac1c0002row23_col3\" class=\"data row23 col3\" >0</td>\n",
              "                        <td id=\"T_94795a26_48c3_11eb_9927_0242ac1c0002row23_col4\" class=\"data row23 col4\" >0</td>\n",
              "                        <td id=\"T_94795a26_48c3_11eb_9927_0242ac1c0002row23_col5\" class=\"data row23 col5\" >0</td>\n",
              "                        <td id=\"T_94795a26_48c3_11eb_9927_0242ac1c0002row23_col6\" class=\"data row23 col6\" >187</td>\n",
              "                        <td id=\"T_94795a26_48c3_11eb_9927_0242ac1c0002row23_col7\" class=\"data row23 col7\" >253</td>\n",
              "                        <td id=\"T_94795a26_48c3_11eb_9927_0242ac1c0002row23_col8\" class=\"data row23 col8\" >253</td>\n",
              "                        <td id=\"T_94795a26_48c3_11eb_9927_0242ac1c0002row23_col9\" class=\"data row23 col9\" >253</td>\n",
              "                        <td id=\"T_94795a26_48c3_11eb_9927_0242ac1c0002row23_col10\" class=\"data row23 col10\" >253</td>\n",
              "                        <td id=\"T_94795a26_48c3_11eb_9927_0242ac1c0002row23_col11\" class=\"data row23 col11\" >253</td>\n",
              "                        <td id=\"T_94795a26_48c3_11eb_9927_0242ac1c0002row23_col12\" class=\"data row23 col12\" >253</td>\n",
              "                        <td id=\"T_94795a26_48c3_11eb_9927_0242ac1c0002row23_col13\" class=\"data row23 col13\" >253</td>\n",
              "                        <td id=\"T_94795a26_48c3_11eb_9927_0242ac1c0002row23_col14\" class=\"data row23 col14\" >197</td>\n",
              "                        <td id=\"T_94795a26_48c3_11eb_9927_0242ac1c0002row23_col15\" class=\"data row23 col15\" >86</td>\n",
              "                        <td id=\"T_94795a26_48c3_11eb_9927_0242ac1c0002row23_col16\" class=\"data row23 col16\" >0</td>\n",
              "                        <td id=\"T_94795a26_48c3_11eb_9927_0242ac1c0002row23_col17\" class=\"data row23 col17\" >0</td>\n",
              "                        <td id=\"T_94795a26_48c3_11eb_9927_0242ac1c0002row23_col18\" class=\"data row23 col18\" >0</td>\n",
              "                        <td id=\"T_94795a26_48c3_11eb_9927_0242ac1c0002row23_col19\" class=\"data row23 col19\" >0</td>\n",
              "                        <td id=\"T_94795a26_48c3_11eb_9927_0242ac1c0002row23_col20\" class=\"data row23 col20\" >0</td>\n",
              "                        <td id=\"T_94795a26_48c3_11eb_9927_0242ac1c0002row23_col21\" class=\"data row23 col21\" >0</td>\n",
              "                        <td id=\"T_94795a26_48c3_11eb_9927_0242ac1c0002row23_col22\" class=\"data row23 col22\" >0</td>\n",
              "                        <td id=\"T_94795a26_48c3_11eb_9927_0242ac1c0002row23_col23\" class=\"data row23 col23\" >0</td>\n",
              "                        <td id=\"T_94795a26_48c3_11eb_9927_0242ac1c0002row23_col24\" class=\"data row23 col24\" >0</td>\n",
              "                        <td id=\"T_94795a26_48c3_11eb_9927_0242ac1c0002row23_col25\" class=\"data row23 col25\" >0</td>\n",
              "                        <td id=\"T_94795a26_48c3_11eb_9927_0242ac1c0002row23_col26\" class=\"data row23 col26\" >0</td>\n",
              "                        <td id=\"T_94795a26_48c3_11eb_9927_0242ac1c0002row23_col27\" class=\"data row23 col27\" >0</td>\n",
              "            </tr>\n",
              "            <tr>\n",
              "                        <th id=\"T_94795a26_48c3_11eb_9927_0242ac1c0002level0_row24\" class=\"row_heading level0 row24\" >24</th>\n",
              "                        <td id=\"T_94795a26_48c3_11eb_9927_0242ac1c0002row24_col0\" class=\"data row24 col0\" >0</td>\n",
              "                        <td id=\"T_94795a26_48c3_11eb_9927_0242ac1c0002row24_col1\" class=\"data row24 col1\" >0</td>\n",
              "                        <td id=\"T_94795a26_48c3_11eb_9927_0242ac1c0002row24_col2\" class=\"data row24 col2\" >0</td>\n",
              "                        <td id=\"T_94795a26_48c3_11eb_9927_0242ac1c0002row24_col3\" class=\"data row24 col3\" >0</td>\n",
              "                        <td id=\"T_94795a26_48c3_11eb_9927_0242ac1c0002row24_col4\" class=\"data row24 col4\" >0</td>\n",
              "                        <td id=\"T_94795a26_48c3_11eb_9927_0242ac1c0002row24_col5\" class=\"data row24 col5\" >0</td>\n",
              "                        <td id=\"T_94795a26_48c3_11eb_9927_0242ac1c0002row24_col6\" class=\"data row24 col6\" >103</td>\n",
              "                        <td id=\"T_94795a26_48c3_11eb_9927_0242ac1c0002row24_col7\" class=\"data row24 col7\" >253</td>\n",
              "                        <td id=\"T_94795a26_48c3_11eb_9927_0242ac1c0002row24_col8\" class=\"data row24 col8\" >253</td>\n",
              "                        <td id=\"T_94795a26_48c3_11eb_9927_0242ac1c0002row24_col9\" class=\"data row24 col9\" >253</td>\n",
              "                        <td id=\"T_94795a26_48c3_11eb_9927_0242ac1c0002row24_col10\" class=\"data row24 col10\" >253</td>\n",
              "                        <td id=\"T_94795a26_48c3_11eb_9927_0242ac1c0002row24_col11\" class=\"data row24 col11\" >253</td>\n",
              "                        <td id=\"T_94795a26_48c3_11eb_9927_0242ac1c0002row24_col12\" class=\"data row24 col12\" >232</td>\n",
              "                        <td id=\"T_94795a26_48c3_11eb_9927_0242ac1c0002row24_col13\" class=\"data row24 col13\" >67</td>\n",
              "                        <td id=\"T_94795a26_48c3_11eb_9927_0242ac1c0002row24_col14\" class=\"data row24 col14\" >1</td>\n",
              "                        <td id=\"T_94795a26_48c3_11eb_9927_0242ac1c0002row24_col15\" class=\"data row24 col15\" >0</td>\n",
              "                        <td id=\"T_94795a26_48c3_11eb_9927_0242ac1c0002row24_col16\" class=\"data row24 col16\" >0</td>\n",
              "                        <td id=\"T_94795a26_48c3_11eb_9927_0242ac1c0002row24_col17\" class=\"data row24 col17\" >0</td>\n",
              "                        <td id=\"T_94795a26_48c3_11eb_9927_0242ac1c0002row24_col18\" class=\"data row24 col18\" >0</td>\n",
              "                        <td id=\"T_94795a26_48c3_11eb_9927_0242ac1c0002row24_col19\" class=\"data row24 col19\" >0</td>\n",
              "                        <td id=\"T_94795a26_48c3_11eb_9927_0242ac1c0002row24_col20\" class=\"data row24 col20\" >0</td>\n",
              "                        <td id=\"T_94795a26_48c3_11eb_9927_0242ac1c0002row24_col21\" class=\"data row24 col21\" >0</td>\n",
              "                        <td id=\"T_94795a26_48c3_11eb_9927_0242ac1c0002row24_col22\" class=\"data row24 col22\" >0</td>\n",
              "                        <td id=\"T_94795a26_48c3_11eb_9927_0242ac1c0002row24_col23\" class=\"data row24 col23\" >0</td>\n",
              "                        <td id=\"T_94795a26_48c3_11eb_9927_0242ac1c0002row24_col24\" class=\"data row24 col24\" >0</td>\n",
              "                        <td id=\"T_94795a26_48c3_11eb_9927_0242ac1c0002row24_col25\" class=\"data row24 col25\" >0</td>\n",
              "                        <td id=\"T_94795a26_48c3_11eb_9927_0242ac1c0002row24_col26\" class=\"data row24 col26\" >0</td>\n",
              "                        <td id=\"T_94795a26_48c3_11eb_9927_0242ac1c0002row24_col27\" class=\"data row24 col27\" >0</td>\n",
              "            </tr>\n",
              "            <tr>\n",
              "                        <th id=\"T_94795a26_48c3_11eb_9927_0242ac1c0002level0_row25\" class=\"row_heading level0 row25\" >25</th>\n",
              "                        <td id=\"T_94795a26_48c3_11eb_9927_0242ac1c0002row25_col0\" class=\"data row25 col0\" >0</td>\n",
              "                        <td id=\"T_94795a26_48c3_11eb_9927_0242ac1c0002row25_col1\" class=\"data row25 col1\" >0</td>\n",
              "                        <td id=\"T_94795a26_48c3_11eb_9927_0242ac1c0002row25_col2\" class=\"data row25 col2\" >0</td>\n",
              "                        <td id=\"T_94795a26_48c3_11eb_9927_0242ac1c0002row25_col3\" class=\"data row25 col3\" >0</td>\n",
              "                        <td id=\"T_94795a26_48c3_11eb_9927_0242ac1c0002row25_col4\" class=\"data row25 col4\" >0</td>\n",
              "                        <td id=\"T_94795a26_48c3_11eb_9927_0242ac1c0002row25_col5\" class=\"data row25 col5\" >0</td>\n",
              "                        <td id=\"T_94795a26_48c3_11eb_9927_0242ac1c0002row25_col6\" class=\"data row25 col6\" >0</td>\n",
              "                        <td id=\"T_94795a26_48c3_11eb_9927_0242ac1c0002row25_col7\" class=\"data row25 col7\" >0</td>\n",
              "                        <td id=\"T_94795a26_48c3_11eb_9927_0242ac1c0002row25_col8\" class=\"data row25 col8\" >0</td>\n",
              "                        <td id=\"T_94795a26_48c3_11eb_9927_0242ac1c0002row25_col9\" class=\"data row25 col9\" >0</td>\n",
              "                        <td id=\"T_94795a26_48c3_11eb_9927_0242ac1c0002row25_col10\" class=\"data row25 col10\" >0</td>\n",
              "                        <td id=\"T_94795a26_48c3_11eb_9927_0242ac1c0002row25_col11\" class=\"data row25 col11\" >0</td>\n",
              "                        <td id=\"T_94795a26_48c3_11eb_9927_0242ac1c0002row25_col12\" class=\"data row25 col12\" >0</td>\n",
              "                        <td id=\"T_94795a26_48c3_11eb_9927_0242ac1c0002row25_col13\" class=\"data row25 col13\" >0</td>\n",
              "                        <td id=\"T_94795a26_48c3_11eb_9927_0242ac1c0002row25_col14\" class=\"data row25 col14\" >0</td>\n",
              "                        <td id=\"T_94795a26_48c3_11eb_9927_0242ac1c0002row25_col15\" class=\"data row25 col15\" >0</td>\n",
              "                        <td id=\"T_94795a26_48c3_11eb_9927_0242ac1c0002row25_col16\" class=\"data row25 col16\" >0</td>\n",
              "                        <td id=\"T_94795a26_48c3_11eb_9927_0242ac1c0002row25_col17\" class=\"data row25 col17\" >0</td>\n",
              "                        <td id=\"T_94795a26_48c3_11eb_9927_0242ac1c0002row25_col18\" class=\"data row25 col18\" >0</td>\n",
              "                        <td id=\"T_94795a26_48c3_11eb_9927_0242ac1c0002row25_col19\" class=\"data row25 col19\" >0</td>\n",
              "                        <td id=\"T_94795a26_48c3_11eb_9927_0242ac1c0002row25_col20\" class=\"data row25 col20\" >0</td>\n",
              "                        <td id=\"T_94795a26_48c3_11eb_9927_0242ac1c0002row25_col21\" class=\"data row25 col21\" >0</td>\n",
              "                        <td id=\"T_94795a26_48c3_11eb_9927_0242ac1c0002row25_col22\" class=\"data row25 col22\" >0</td>\n",
              "                        <td id=\"T_94795a26_48c3_11eb_9927_0242ac1c0002row25_col23\" class=\"data row25 col23\" >0</td>\n",
              "                        <td id=\"T_94795a26_48c3_11eb_9927_0242ac1c0002row25_col24\" class=\"data row25 col24\" >0</td>\n",
              "                        <td id=\"T_94795a26_48c3_11eb_9927_0242ac1c0002row25_col25\" class=\"data row25 col25\" >0</td>\n",
              "                        <td id=\"T_94795a26_48c3_11eb_9927_0242ac1c0002row25_col26\" class=\"data row25 col26\" >0</td>\n",
              "                        <td id=\"T_94795a26_48c3_11eb_9927_0242ac1c0002row25_col27\" class=\"data row25 col27\" >0</td>\n",
              "            </tr>\n",
              "            <tr>\n",
              "                        <th id=\"T_94795a26_48c3_11eb_9927_0242ac1c0002level0_row26\" class=\"row_heading level0 row26\" >26</th>\n",
              "                        <td id=\"T_94795a26_48c3_11eb_9927_0242ac1c0002row26_col0\" class=\"data row26 col0\" >0</td>\n",
              "                        <td id=\"T_94795a26_48c3_11eb_9927_0242ac1c0002row26_col1\" class=\"data row26 col1\" >0</td>\n",
              "                        <td id=\"T_94795a26_48c3_11eb_9927_0242ac1c0002row26_col2\" class=\"data row26 col2\" >0</td>\n",
              "                        <td id=\"T_94795a26_48c3_11eb_9927_0242ac1c0002row26_col3\" class=\"data row26 col3\" >0</td>\n",
              "                        <td id=\"T_94795a26_48c3_11eb_9927_0242ac1c0002row26_col4\" class=\"data row26 col4\" >0</td>\n",
              "                        <td id=\"T_94795a26_48c3_11eb_9927_0242ac1c0002row26_col5\" class=\"data row26 col5\" >0</td>\n",
              "                        <td id=\"T_94795a26_48c3_11eb_9927_0242ac1c0002row26_col6\" class=\"data row26 col6\" >0</td>\n",
              "                        <td id=\"T_94795a26_48c3_11eb_9927_0242ac1c0002row26_col7\" class=\"data row26 col7\" >0</td>\n",
              "                        <td id=\"T_94795a26_48c3_11eb_9927_0242ac1c0002row26_col8\" class=\"data row26 col8\" >0</td>\n",
              "                        <td id=\"T_94795a26_48c3_11eb_9927_0242ac1c0002row26_col9\" class=\"data row26 col9\" >0</td>\n",
              "                        <td id=\"T_94795a26_48c3_11eb_9927_0242ac1c0002row26_col10\" class=\"data row26 col10\" >0</td>\n",
              "                        <td id=\"T_94795a26_48c3_11eb_9927_0242ac1c0002row26_col11\" class=\"data row26 col11\" >0</td>\n",
              "                        <td id=\"T_94795a26_48c3_11eb_9927_0242ac1c0002row26_col12\" class=\"data row26 col12\" >0</td>\n",
              "                        <td id=\"T_94795a26_48c3_11eb_9927_0242ac1c0002row26_col13\" class=\"data row26 col13\" >0</td>\n",
              "                        <td id=\"T_94795a26_48c3_11eb_9927_0242ac1c0002row26_col14\" class=\"data row26 col14\" >0</td>\n",
              "                        <td id=\"T_94795a26_48c3_11eb_9927_0242ac1c0002row26_col15\" class=\"data row26 col15\" >0</td>\n",
              "                        <td id=\"T_94795a26_48c3_11eb_9927_0242ac1c0002row26_col16\" class=\"data row26 col16\" >0</td>\n",
              "                        <td id=\"T_94795a26_48c3_11eb_9927_0242ac1c0002row26_col17\" class=\"data row26 col17\" >0</td>\n",
              "                        <td id=\"T_94795a26_48c3_11eb_9927_0242ac1c0002row26_col18\" class=\"data row26 col18\" >0</td>\n",
              "                        <td id=\"T_94795a26_48c3_11eb_9927_0242ac1c0002row26_col19\" class=\"data row26 col19\" >0</td>\n",
              "                        <td id=\"T_94795a26_48c3_11eb_9927_0242ac1c0002row26_col20\" class=\"data row26 col20\" >0</td>\n",
              "                        <td id=\"T_94795a26_48c3_11eb_9927_0242ac1c0002row26_col21\" class=\"data row26 col21\" >0</td>\n",
              "                        <td id=\"T_94795a26_48c3_11eb_9927_0242ac1c0002row26_col22\" class=\"data row26 col22\" >0</td>\n",
              "                        <td id=\"T_94795a26_48c3_11eb_9927_0242ac1c0002row26_col23\" class=\"data row26 col23\" >0</td>\n",
              "                        <td id=\"T_94795a26_48c3_11eb_9927_0242ac1c0002row26_col24\" class=\"data row26 col24\" >0</td>\n",
              "                        <td id=\"T_94795a26_48c3_11eb_9927_0242ac1c0002row26_col25\" class=\"data row26 col25\" >0</td>\n",
              "                        <td id=\"T_94795a26_48c3_11eb_9927_0242ac1c0002row26_col26\" class=\"data row26 col26\" >0</td>\n",
              "                        <td id=\"T_94795a26_48c3_11eb_9927_0242ac1c0002row26_col27\" class=\"data row26 col27\" >0</td>\n",
              "            </tr>\n",
              "            <tr>\n",
              "                        <th id=\"T_94795a26_48c3_11eb_9927_0242ac1c0002level0_row27\" class=\"row_heading level0 row27\" >27</th>\n",
              "                        <td id=\"T_94795a26_48c3_11eb_9927_0242ac1c0002row27_col0\" class=\"data row27 col0\" >0</td>\n",
              "                        <td id=\"T_94795a26_48c3_11eb_9927_0242ac1c0002row27_col1\" class=\"data row27 col1\" >0</td>\n",
              "                        <td id=\"T_94795a26_48c3_11eb_9927_0242ac1c0002row27_col2\" class=\"data row27 col2\" >0</td>\n",
              "                        <td id=\"T_94795a26_48c3_11eb_9927_0242ac1c0002row27_col3\" class=\"data row27 col3\" >0</td>\n",
              "                        <td id=\"T_94795a26_48c3_11eb_9927_0242ac1c0002row27_col4\" class=\"data row27 col4\" >0</td>\n",
              "                        <td id=\"T_94795a26_48c3_11eb_9927_0242ac1c0002row27_col5\" class=\"data row27 col5\" >0</td>\n",
              "                        <td id=\"T_94795a26_48c3_11eb_9927_0242ac1c0002row27_col6\" class=\"data row27 col6\" >0</td>\n",
              "                        <td id=\"T_94795a26_48c3_11eb_9927_0242ac1c0002row27_col7\" class=\"data row27 col7\" >0</td>\n",
              "                        <td id=\"T_94795a26_48c3_11eb_9927_0242ac1c0002row27_col8\" class=\"data row27 col8\" >0</td>\n",
              "                        <td id=\"T_94795a26_48c3_11eb_9927_0242ac1c0002row27_col9\" class=\"data row27 col9\" >0</td>\n",
              "                        <td id=\"T_94795a26_48c3_11eb_9927_0242ac1c0002row27_col10\" class=\"data row27 col10\" >0</td>\n",
              "                        <td id=\"T_94795a26_48c3_11eb_9927_0242ac1c0002row27_col11\" class=\"data row27 col11\" >0</td>\n",
              "                        <td id=\"T_94795a26_48c3_11eb_9927_0242ac1c0002row27_col12\" class=\"data row27 col12\" >0</td>\n",
              "                        <td id=\"T_94795a26_48c3_11eb_9927_0242ac1c0002row27_col13\" class=\"data row27 col13\" >0</td>\n",
              "                        <td id=\"T_94795a26_48c3_11eb_9927_0242ac1c0002row27_col14\" class=\"data row27 col14\" >0</td>\n",
              "                        <td id=\"T_94795a26_48c3_11eb_9927_0242ac1c0002row27_col15\" class=\"data row27 col15\" >0</td>\n",
              "                        <td id=\"T_94795a26_48c3_11eb_9927_0242ac1c0002row27_col16\" class=\"data row27 col16\" >0</td>\n",
              "                        <td id=\"T_94795a26_48c3_11eb_9927_0242ac1c0002row27_col17\" class=\"data row27 col17\" >0</td>\n",
              "                        <td id=\"T_94795a26_48c3_11eb_9927_0242ac1c0002row27_col18\" class=\"data row27 col18\" >0</td>\n",
              "                        <td id=\"T_94795a26_48c3_11eb_9927_0242ac1c0002row27_col19\" class=\"data row27 col19\" >0</td>\n",
              "                        <td id=\"T_94795a26_48c3_11eb_9927_0242ac1c0002row27_col20\" class=\"data row27 col20\" >0</td>\n",
              "                        <td id=\"T_94795a26_48c3_11eb_9927_0242ac1c0002row27_col21\" class=\"data row27 col21\" >0</td>\n",
              "                        <td id=\"T_94795a26_48c3_11eb_9927_0242ac1c0002row27_col22\" class=\"data row27 col22\" >0</td>\n",
              "                        <td id=\"T_94795a26_48c3_11eb_9927_0242ac1c0002row27_col23\" class=\"data row27 col23\" >0</td>\n",
              "                        <td id=\"T_94795a26_48c3_11eb_9927_0242ac1c0002row27_col24\" class=\"data row27 col24\" >0</td>\n",
              "                        <td id=\"T_94795a26_48c3_11eb_9927_0242ac1c0002row27_col25\" class=\"data row27 col25\" >0</td>\n",
              "                        <td id=\"T_94795a26_48c3_11eb_9927_0242ac1c0002row27_col26\" class=\"data row27 col26\" >0</td>\n",
              "                        <td id=\"T_94795a26_48c3_11eb_9927_0242ac1c0002row27_col27\" class=\"data row27 col27\" >0</td>\n",
              "            </tr>\n",
              "    </tbody></table>"
            ],
            "text/plain": [
              "<pandas.io.formats.style.Styler at 0x7fa8ca8fdcc0>"
            ]
          },
          "metadata": {
            "tags": []
          },
          "execution_count": 169
        }
      ]
    },
    {
      "cell_type": "code",
      "metadata": {
        "id": "xwv4MTbkhBLj"
      },
      "source": [
        "ones = (path/'training'/'1').ls().sorted()\n",
        "deuces = (path/'training'/'2').ls().sorted()\n",
        "threes = (path/'training'/'3').ls().sorted()\n",
        "fours = (path/'training'/'4').ls().sorted()\n",
        "fives = (path/'training'/'5').ls().sorted()\n",
        "sixes = (path/'training'/'6').ls().sorted()\n",
        "sevens = (path/'training'/'7').ls().sorted()\n",
        "eights = (path/'training'/'8').ls().sorted()\n",
        "nines = (path/'training'/'9').ls().sorted()\n",
        "zeros =(path/'training'/'0').ls().sorted()"
      ],
      "execution_count": 170,
      "outputs": []
    },
    {
      "cell_type": "code",
      "metadata": {
        "colab": {
          "base_uri": "https://localhost:8080/"
        },
        "id": "ouhqtaz9g9Zb",
        "outputId": "a6c20a44-fe8c-41f6-9635-c4644fad6e4e"
      },
      "source": [
        "#tensor containing all the images in a directory, first creating a plain list of the single image tensors.\n",
        "ones_tensors = [tensor(Image.open(o)) for o in ones]\n",
        "deuces_tensors = [tensor(Image.open(o)) for o in deuces]\n",
        "threes_tensors = [tensor(Image.open(o)) for o in threes]\n",
        "fours_tensors = [tensor(Image.open(o)) for o in fours]\n",
        "fives_tensors = [tensor(Image.open(o)) for o in fives]\n",
        "sixes_tensors = [tensor(Image.open(o)) for o in sixes]\n",
        "sevens_tensors = [tensor(Image.open(o)) for o in sevens]\n",
        "eights_tensors = [tensor(Image.open(o)) for o in eights]\n",
        "nines_tensors = [tensor(Image.open(o)) for o in nines]\n",
        "zeros_tensors = [tensor(Image.open(o)) for o in zeros]\n",
        "len(ones_tensors), len(deuces_tensors), len(threes_tensors), len(sevens_tensors)"
      ],
      "execution_count": 171,
      "outputs": [
        {
          "output_type": "execute_result",
          "data": {
            "text/plain": [
              "(6742, 5958, 6131, 6265)"
            ]
          },
          "metadata": {
            "tags": []
          },
          "execution_count": 171
        }
      ]
    },
    {
      "cell_type": "code",
      "metadata": {
        "colab": {
          "base_uri": "https://localhost:8080/",
          "height": 85
        },
        "id": "YLcxh5zUido6",
        "outputId": "9322ac59-f3b1-4237-b7ed-65d0eca7b3bc"
      },
      "source": [
        "show_image(threes_tensors[1]);"
      ],
      "execution_count": 172,
      "outputs": [
        {
          "output_type": "display_data",
          "data": {
            "image/png": "[encoded data removed]",
            "text/plain": [
              "<Figure size 72x72 with 1 Axes>"
            ]
          },
          "metadata": {
            "tags": [],
            "needs_background": "light"
          }
        }
      ]
    },
    {
      "cell_type": "code",
      "metadata": {
        "colab": {
          "base_uri": "https://localhost:8080/"
        },
        "id": "ncZCwWMUj7Xe",
        "outputId": "d7f56e14-7fff-46e7-e953-34d4a7277721"
      },
      "source": [
        "stacked_ones = torch.stack(ones_tensors).float()/255\n",
        "stacked_deuces = torch.stack(deuces_tensors).float()/255\n",
        "stacked_threes = torch.stack(threes_tensors).float()/255\n",
        "stacked_fours = torch.stack(fours_tensors).float()/255\n",
        "stacked_fives = torch.stack(fives_tensors).float()/255\n",
        "stacked_sixes = torch.stack(sixes_tensors).float()/255\n",
        "stacked_sevens = torch.stack(sevens_tensors).float()/255\n",
        "stacked_eights = torch.stack(eights_tensors).float()/255\n",
        "stacked_nines = torch.stack(nines_tensors).float()/255\n",
        "stacked_zeros = torch.stack(zeros_tensors).float()/255\n",
        "stacked_threes.shape"
      ],
      "execution_count": 173,
      "outputs": [
        {
          "output_type": "execute_result",
          "data": {
            "text/plain": [
              "torch.Size([6131, 28, 28])"
            ]
          },
          "metadata": {
            "tags": []
          },
          "execution_count": 173
        }
      ]
    },
    {
      "cell_type": "code",
      "metadata": {
        "colab": {
          "base_uri": "https://localhost:8080/"
        },
        "id": "Cb19ezIal-Ny",
        "outputId": "69cdf858-a5a3-4911-eb4a-b5fa1a5a1436"
      },
      "source": [
        "# The length of a tensor's shape is its rank = number of axes or dimensions in a tensor .shape\n",
        "len(stacked_threes.shape)"
      ],
      "execution_count": 174,
      "outputs": [
        {
          "output_type": "execute_result",
          "data": {
            "text/plain": [
              "3"
            ]
          },
          "metadata": {
            "tags": []
          },
          "execution_count": 174
        }
      ]
    },
    {
      "cell_type": "code",
      "metadata": {
        "colab": {
          "base_uri": "https://localhost:8080/"
        },
        "id": "hDanbdBwmOf9",
        "outputId": "7ff6f710-c0d8-4c36-e274-205f8ec7d502"
      },
      "source": [
        "#other way to see number of axes .ndim\n",
        "stacked_threes.ndim"
      ],
      "execution_count": 175,
      "outputs": [
        {
          "output_type": "execute_result",
          "data": {
            "text/plain": [
              "3"
            ]
          },
          "metadata": {
            "tags": []
          },
          "execution_count": 175
        }
      ]
    },
    {
      "cell_type": "code",
      "metadata": {
        "colab": {
          "base_uri": "https://localhost:8080/",
          "height": 85
        },
        "id": "nRGsbfmimeKf",
        "outputId": "43461072-d9b0-43e6-c2e5-2fcfafbaa596"
      },
      "source": [
        "mean3 = stacked_threes.mean(0)\n",
        "show_image(mean3);"
      ],
      "execution_count": 176,
      "outputs": [
        {
          "output_type": "display_data",
          "data": {
            "image/png": "[encoded data removed]",
            "text/plain": [
              "<Figure size 72x72 with 1 Axes>"
            ]
          },
          "metadata": {
            "tags": [],
            "needs_background": "light"
          }
        }
      ]
    },
    {
      "cell_type": "code",
      "metadata": {
        "colab": {
          "base_uri": "https://localhost:8080/",
          "height": 85
        },
        "id": "quf7RnJVnQ8z",
        "outputId": "dfea7330-7930-45e8-c02a-ced934ed86c5"
      },
      "source": [
        "mean0 = stacked_zeros.mean(0)\n",
        "show_image(mean0);"
      ],
      "execution_count": 177,
      "outputs": [
        {
          "output_type": "display_data",
          "data": {
            "image/png": "[encoded data removed]",
            "text/plain": [
              "<Figure size 72x72 with 1 Axes>"
            ]
          },
          "metadata": {
            "tags": [],
            "needs_background": "light"
          }
        }
      ]
    },
    {
      "cell_type": "code",
      "metadata": {
        "colab": {
          "base_uri": "https://localhost:8080/",
          "height": 85
        },
        "id": "sTCTyVJQmrc5",
        "outputId": "f44f1939-c124-436b-e534-31f438283046"
      },
      "source": [
        "a_3 = stacked_threes[1]\n",
        "show_image(a_3);"
      ],
      "execution_count": 178,
      "outputs": [
        {
          "output_type": "display_data",
          "data": {
            "image/png": "[encoded data removed]",
            "text/plain": [
              "<Figure size 72x72 with 1 Axes>"
            ]
          },
          "metadata": {
            "tags": [],
            "needs_background": "light"
          }
        }
      ]
    },
    {
      "cell_type": "code",
      "metadata": {
        "colab": {
          "base_uri": "https://localhost:8080/",
          "height": 85
        },
        "id": "QhRiBtg2_TT5",
        "outputId": "91c11d52-a0e0-403e-bf1a-200d27277536"
      },
      "source": [
        "a_0 = stacked_zeros[1]\n",
        "show_image(a_0);"
      ],
      "execution_count": 179,
      "outputs": [
        {
          "output_type": "display_data",
          "data": {
            "image/png": "[encoded data removed]",
            "text/plain": [
              "<Figure size 72x72 with 1 Axes>"
            ]
          },
          "metadata": {
            "tags": [],
            "needs_background": "light"
          }
        }
      ]
    },
    {
      "cell_type": "code",
      "metadata": {
        "colab": {
          "base_uri": "https://localhost:8080/"
        },
        "id": "koWiEnQTnHHR",
        "outputId": "614e85f7-f9d4-4a95-cfb3-1695349cfb7b"
      },
      "source": [
        "#distance from ideal number image\n",
        "dist_3_abs = (a_3 - mean3).abs().mean()\n",
        "dist_3_sqr = ((a_3 - mean3)**2).mean().sqrt()\n",
        "dist_3_abs,dist_3_sqr"
      ],
      "execution_count": 180,
      "outputs": [
        {
          "output_type": "execute_result",
          "data": {
            "text/plain": [
              "(tensor(0.1114), tensor(0.2021))"
            ]
          },
          "metadata": {
            "tags": []
          },
          "execution_count": 180
        }
      ]
    },
    {
      "cell_type": "code",
      "metadata": {
        "colab": {
          "base_uri": "https://localhost:8080/"
        },
        "id": "ClWdWYYYnMOX",
        "outputId": "8198ba21-8cbd-4c34-d507-4ab7741245d6"
      },
      "source": [
        "dist_0_abs = (a_3 - mean0).abs().mean()\n",
        "dist_0_sqr = ((a_3 - mean0)**2).mean().sqrt()\n",
        "dist_0_abs,dist_0_sqr"
      ],
      "execution_count": 181,
      "outputs": [
        {
          "output_type": "execute_result",
          "data": {
            "text/plain": [
              "(tensor(0.1879), tensor(0.3203))"
            ]
          },
          "metadata": {
            "tags": []
          },
          "execution_count": 181
        }
      ]
    },
    {
      "cell_type": "code",
      "metadata": {
        "colab": {
          "base_uri": "https://localhost:8080/"
        },
        "id": "sxB9xDgcnr5a",
        "outputId": "5fcd01ab-4bb8-4d5c-bddc-56114368e5b5"
      },
      "source": [
        "#loss for 0 coz it gives bigger distance then 3. mse = squared error, l1 = mean absolute value\n",
        "F.l1_loss(a_3.float(),mean0), F.mse_loss(a_3,mean0).sqrt()"
      ],
      "execution_count": 182,
      "outputs": [
        {
          "output_type": "execute_result",
          "data": {
            "text/plain": [
              "(tensor(0.1879), tensor(0.3203))"
            ]
          },
          "metadata": {
            "tags": []
          },
          "execution_count": 182
        }
      ]
    },
    {
      "cell_type": "code",
      "metadata": {
        "id": "t--thxXNjonz"
      },
      "source": [
        "data = [[1,2,3],[4,5,6]]\n",
        "#arr = array (data)\n",
        "tns = tensor(data)"
      ],
      "execution_count": 183,
      "outputs": []
    },
    {
      "cell_type": "code",
      "metadata": {
        "colab": {
          "base_uri": "https://localhost:8080/"
        },
        "id": "43cir-WdpK6s",
        "outputId": "ce28b422-e151-406b-87da-3f953f8fb537"
      },
      "source": [
        "tns[1]"
      ],
      "execution_count": 184,
      "outputs": [
        {
          "output_type": "execute_result",
          "data": {
            "text/plain": [
              "tensor([4, 5, 6])"
            ]
          },
          "metadata": {
            "tags": []
          },
          "execution_count": 184
        }
      ]
    },
    {
      "cell_type": "code",
      "metadata": {
        "colab": {
          "base_uri": "https://localhost:8080/"
        },
        "id": "RF4R40tvuikC",
        "outputId": "49251915-cdfe-4c12-fb3d-516c84821811"
      },
      "source": [
        "valid_0_tens = torch.stack([tensor(Image.open(o)) \n",
        "                            for o in (path/'testing'/'0').ls()])\n",
        "valid_0_tens = valid_0_tens.float()/255\n",
        "\n",
        "valid_1_tens = torch.stack([tensor(Image.open(o)) \n",
        "                            for o in (path/'testing'/'1').ls()])\n",
        "valid_1_tens = valid_1_tens.float()/255\n",
        "\n",
        "valid_2_tens = torch.stack([tensor(Image.open(o)) \n",
        "                            for o in (path/'testing'/'2').ls()])\n",
        "valid_2_tens = valid_2_tens.float()/255\n",
        "\n",
        "\n",
        "valid_3_tens = torch.stack([tensor(Image.open(o)) \n",
        "                            for o in (path/'testing'/'3').ls()])\n",
        "valid_3_tens = valid_3_tens.float()/255\n",
        "\n",
        "\n",
        "valid_4_tens = torch.stack([tensor(Image.open(o)) \n",
        "                            for o in (path/'testing'/'4').ls()])\n",
        "valid_4_tens = valid_4_tens.float()/255\n",
        "\n",
        "\n",
        "valid_5_tens = torch.stack([tensor(Image.open(o)) \n",
        "                            for o in (path/'testing'/'5').ls()])\n",
        "valid_5_tens = valid_5_tens.float()/255\n",
        "\n",
        "\n",
        "valid_6_tens = torch.stack([tensor(Image.open(o)) \n",
        "                            for o in (path/'testing'/'6').ls()])\n",
        "valid_6_tens = valid_6_tens.float()/255\n",
        "\n",
        "\n",
        "valid_7_tens = torch.stack([tensor(Image.open(o)) \n",
        "                            for o in (path/'testing'/'7').ls()])\n",
        "valid_7_tens = valid_7_tens.float()/255\n",
        "\n",
        "\n",
        "valid_8_tens = torch.stack([tensor(Image.open(o)) \n",
        "                            for o in (path/'testing'/'8').ls()])\n",
        "valid_8_tens = valid_8_tens.float()/255\n",
        "\n",
        "\n",
        "valid_9_tens = torch.stack([tensor(Image.open(o)) \n",
        "                            for o in (path/'testing'/'9').ls()])\n",
        "valid_9_tens = valid_9_tens.float()/255\n",
        "\n",
        "\n",
        "valid_0_tens.shape, valid_1_tens.shape, valid_2_tens.shape, valid_3_tens.shape, valid_4_tens.shape, valid_5_tens.shape, valid_6_tens.shape, valid_7_tens.shape, valid_8_tens.shape, valid_9_tens.shape"
      ],
      "execution_count": 185,
      "outputs": [
        {
          "output_type": "execute_result",
          "data": {
            "text/plain": [
              "(torch.Size([980, 28, 28]),\n",
              " torch.Size([1135, 28, 28]),\n",
              " torch.Size([1032, 28, 28]),\n",
              " torch.Size([1010, 28, 28]),\n",
              " torch.Size([982, 28, 28]),\n",
              " torch.Size([892, 28, 28]),\n",
              " torch.Size([958, 28, 28]),\n",
              " torch.Size([1028, 28, 28]),\n",
              " torch.Size([974, 28, 28]),\n",
              " torch.Size([1009, 28, 28]))"
            ]
          },
          "metadata": {
            "tags": []
          },
          "execution_count": 185
        }
      ]
    },
    {
      "cell_type": "code",
      "metadata": {
        "colab": {
          "base_uri": "https://localhost:8080/"
        },
        "id": "sSWY_wMZwLWY",
        "outputId": "26b25308-c332-4728-ce60-05c44091bdc1"
      },
      "source": [
        "def mnist_distance(a,b): return (a-b).abs().mean((-1,-2))\n",
        "mnist_distance(a_3, mean3)"
      ],
      "execution_count": 186,
      "outputs": [
        {
          "output_type": "execute_result",
          "data": {
            "text/plain": [
              "tensor(0.1114)"
            ]
          },
          "metadata": {
            "tags": []
          },
          "execution_count": 186
        }
      ]
    },
    {
      "cell_type": "code",
      "metadata": {
        "colab": {
          "base_uri": "https://localhost:8080/"
        },
        "id": "6resLcfAwlxY",
        "outputId": "13976947-6cb1-4dc7-e0f9-9b23c72b89de"
      },
      "source": [
        "valid_3_dist = mnist_distance(valid_3_tens, mean3)\n",
        "valid_3_dist, valid_3_dist.shape"
      ],
      "execution_count": 187,
      "outputs": [
        {
          "output_type": "execute_result",
          "data": {
            "text/plain": [
              "(tensor([0.1474, 0.1071, 0.1349,  ..., 0.1343, 0.1370, 0.1305]),\n",
              " torch.Size([1010]))"
            ]
          },
          "metadata": {
            "tags": []
          },
          "execution_count": 187
        }
      ]
    },
    {
      "cell_type": "code",
      "metadata": {
        "colab": {
          "base_uri": "https://localhost:8080/"
        },
        "id": "PQyHoeQQ1qZp",
        "outputId": "445268d1-200d-416d-9796-b5faa1d0beb6"
      },
      "source": [
        "valid_0_dist = mnist_distance(valid_0_tens, mean0)\n",
        "valid_0_dist, valid_0_dist.shape"
      ],
      "execution_count": 188,
      "outputs": [
        {
          "output_type": "execute_result",
          "data": {
            "text/plain": [
              "(tensor([0.1458, 0.1413, 0.1153, 0.1332, 0.1804, 0.1572, 0.1212, 0.1759, 0.1241, 0.1496, 0.1709, 0.1305, 0.1319, 0.1397, 0.1667, 0.1799, 0.1272, 0.1309, 0.1620, 0.1262, 0.1271, 0.1457, 0.1881, 0.1329,\n",
              "         0.1653, 0.1622, 0.1576, 0.1564, 0.1572, 0.1605, 0.1390, 0.1384, 0.1704, 0.1457, 0.1341, 0.1455, 0.1465, 0.1379, 0.1576, 0.1504, 0.1544, 0.1426, 0.1513, 0.1628, 0.1769, 0.1673, 0.1214, 0.1449,\n",
              "         0.1344, 0.1564, 0.1318, 0.1639, 0.1283, 0.1220, 0.1256, 0.1174, 0.1737, 0.1495, 0.1389, 0.1516, 0.1442, 0.1177, 0.1394, 0.1236, 0.1599, 0.1865, 0.1318, 0.1544, 0.1274, 0.1499, 0.1423, 0.1510,\n",
              "         0.1123, 0.1561, 0.1241, 0.1595, 0.1457, 0.1219, 0.1321, 0.1368, 0.1596, 0.1309, 0.1583, 0.1415, 0.1161, 0.1316, 0.1654, 0.1536, 0.1639, 0.1408, 0.1586, 0.1309, 0.1396, 0.1469, 0.1410, 0.1548,\n",
              "         0.1328, 0.1644, 0.1219, 0.1569, 0.1316, 0.1387, 0.1660, 0.1601, 0.1522, 0.1235, 0.1225, 0.1546, 0.1564, 0.1353, 0.1592, 0.1320, 0.1448, 0.1643, 0.1437, 0.1278, 0.1326, 0.1358, 0.1615, 0.1578,\n",
              "         0.1496, 0.1531, 0.1650, 0.1428, 0.1475, 0.1731, 0.1414, 0.1426, 0.1305, 0.1716, 0.1467, 0.1272, 0.1267, 0.1417, 0.1225, 0.1625, 0.1310, 0.1277, 0.1508, 0.1802, 0.1421, 0.1479, 0.1364, 0.1521,\n",
              "         0.1569, 0.1361, 0.1650, 0.1441, 0.1386, 0.1409, 0.1689, 0.1502, 0.1577, 0.1397, 0.1257, 0.1297, 0.1334, 0.1362, 0.1540, 0.1512, 0.1446, 0.1417, 0.1749, 0.1717, 0.1528, 0.1611, 0.1284, 0.1387,\n",
              "         0.1412, 0.1260, 0.1307, 0.1341, 0.1199, 0.1489, 0.1543, 0.1270, 0.1096, 0.1900, 0.1356, 0.1355, 0.1150, 0.1348, 0.1383, 0.1713, 0.1453, 0.1283, 0.1302, 0.1343, 0.1320, 0.1515, 0.1284, 0.1246,\n",
              "         0.1531, 0.1284, 0.1521, 0.1455, 0.1652, 0.1244, 0.1392, 0.1522, 0.1344, 0.1114, 0.1276, 0.1608, 0.1608, 0.1776, 0.1388, 0.1158, 0.1352, 0.1709, 0.1391, 0.1336, 0.1277, 0.1372, 0.1500, 0.1583,\n",
              "         0.1514, 0.1448, 0.1261, 0.1623, 0.1443, 0.1596, 0.1598, 0.1564, 0.1414, 0.1348, 0.1786, 0.1447, 0.1253, 0.1627, 0.1753, 0.1217, 0.1725, 0.1207, 0.1422, 0.1341, 0.1359, 0.1417, 0.1522, 0.1386,\n",
              "         0.1266, 0.1352, 0.1781, 0.1210, 0.1659, 0.1487, 0.1413, 0.1293, 0.1290, 0.1526, 0.1442, 0.1312, 0.1527, 0.1221, 0.1269, 0.1525, 0.1354, 0.1327, 0.1568, 0.1540, 0.1342, 0.1277, 0.1218, 0.1256,\n",
              "         0.1367, 0.1719, 0.1520, 0.1741, 0.1476, 0.1250, 0.1671, 0.1608, 0.1598, 0.1622, 0.1414, 0.1235, 0.1516, 0.1556, 0.1472, 0.1524, 0.1244, 0.1377, 0.1410, 0.1542, 0.1393, 0.1467, 0.1346, 0.1172,\n",
              "         0.1359, 0.1258, 0.1173, 0.1285, 0.1228, 0.1463, 0.1426, 0.1172, 0.1525, 0.1484, 0.1522, 0.1188, 0.1510, 0.1598, 0.1543, 0.1605, 0.1281, 0.1413, 0.1502, 0.1418, 0.1481, 0.1563, 0.1308, 0.1560,\n",
              "         0.1312, 0.1561, 0.1682, 0.1212, 0.1366, 0.1167, 0.1571, 0.1347, 0.1459, 0.1550, 0.1415, 0.1487, 0.1837, 0.1404, 0.1717, 0.1533, 0.1193, 0.1322, 0.1454, 0.1639, 0.1175, 0.1534, 0.1425, 0.1405,\n",
              "         0.1093, 0.1241, 0.1475, 0.1563, 0.1693, 0.1528, 0.1436, 0.1161, 0.1558, 0.1245, 0.1358, 0.1220, 0.1459, 0.1932, 0.1404, 0.1247, 0.1451, 0.1524, 0.1477, 0.1622, 0.1521, 0.1473, 0.1597, 0.1591,\n",
              "         0.1269, 0.1533, 0.1332, 0.1146, 0.1368, 0.1423, 0.1510, 0.1720, 0.1283, 0.1450, 0.1365, 0.1293, 0.1383, 0.1538, 0.1571, 0.1427, 0.1479, 0.1462, 0.1193, 0.1336, 0.1220, 0.1514, 0.1347, 0.1530,\n",
              "         0.1444, 0.1328, 0.1593, 0.1353, 0.1334, 0.1461, 0.1656, 0.1185, 0.1193, 0.1581, 0.1487, 0.1375, 0.1406, 0.1562, 0.1355, 0.1613, 0.1270, 0.1333, 0.1578, 0.1397, 0.1450, 0.1459, 0.1286, 0.1672,\n",
              "         0.1549, 0.1408, 0.1295, 0.1493, 0.1546, 0.1689, 0.1311, 0.1551, 0.1248, 0.1718, 0.1602, 0.1441, 0.1382, 0.1496, 0.1598, 0.1451, 0.1559, 0.1846, 0.1406, 0.1511, 0.1763, 0.1223, 0.1456, 0.1610,\n",
              "         0.1361, 0.1340, 0.1311, 0.1649, 0.1487, 0.1466, 0.1735, 0.1380, 0.1288, 0.1392, 0.1302, 0.1375, 0.1518, 0.1234, 0.1263, 0.1416, 0.1192, 0.1259, 0.1217, 0.1309, 0.1269, 0.1709, 0.1459, 0.1465,\n",
              "         0.1516, 0.1205, 0.1513, 0.1357, 0.1502, 0.1236, 0.1531, 0.1168, 0.1697, 0.1452, 0.1520, 0.1535, 0.1612, 0.1180, 0.1278, 0.1367, 0.1225, 0.1231, 0.1521, 0.1227, 0.1419, 0.1621, 0.1390, 0.1749,\n",
              "         0.1622, 0.1257, 0.1392, 0.1474, 0.1459, 0.1298, 0.1526, 0.1288, 0.1424, 0.1373, 0.1548, 0.1300, 0.1325, 0.1275, 0.1402, 0.1702, 0.1423, 0.1149, 0.1475, 0.1265, 0.1237, 0.1497, 0.1774, 0.1446,\n",
              "         0.1421, 0.1222, 0.1468, 0.1497, 0.1402, 0.1333, 0.1357, 0.1354, 0.1827, 0.1311, 0.1315, 0.1338, 0.1279, 0.1422, 0.1466, 0.1371, 0.1375, 0.1340, 0.1555, 0.1494, 0.1293, 0.1858, 0.1283, 0.1654,\n",
              "         0.1622, 0.1389, 0.1416, 0.1313, 0.1397, 0.1359, 0.1698, 0.1380, 0.1315, 0.1398, 0.1378, 0.1547, 0.1674, 0.1588, 0.1634, 0.1497, 0.1352, 0.1408, 0.1579, 0.1452, 0.1476, 0.1232, 0.1574, 0.1518,\n",
              "         0.1372, 0.1250, 0.1592, 0.1706, 0.1307, 0.1241, 0.1260, 0.1197, 0.1410, 0.1448, 0.1488, 0.1844, 0.1553, 0.1225, 0.1217, 0.1701, 0.1073, 0.1366, 0.1264, 0.1379, 0.1195, 0.1462, 0.1347, 0.1776,\n",
              "         0.1435, 0.1574, 0.1339, 0.1472, 0.1321, 0.1640, 0.1498, 0.1318, 0.1362, 0.1483, 0.1731, 0.1487, 0.1437, 0.1524, 0.1401, 0.1456, 0.1466, 0.1321, 0.1535, 0.1417, 0.1454, 0.1274, 0.1604, 0.1097,\n",
              "         0.1454, 0.1430, 0.1468, 0.1608, 0.1137, 0.1297, 0.1451, 0.1690, 0.1351, 0.1361, 0.1342, 0.1434, 0.1558, 0.1275, 0.1343, 0.1324, 0.1187, 0.1598, 0.1324, 0.1701, 0.1641, 0.1303, 0.1457, 0.1438,\n",
              "         0.1796, 0.1184, 0.1443, 0.1354, 0.1271, 0.1225, 0.1504, 0.1213, 0.1626, 0.1157, 0.1148, 0.1392, 0.1314, 0.1259, 0.1590, 0.1255, 0.1570, 0.1394, 0.1348, 0.1467, 0.1282, 0.1560, 0.1510, 0.1521,\n",
              "         0.1379, 0.1350, 0.1651, 0.1627, 0.1200, 0.1296, 0.1345, 0.1599, 0.1281, 0.1502, 0.1415, 0.1486, 0.1547, 0.1485, 0.1132, 0.1462, 0.1445, 0.1427, 0.1397, 0.1497, 0.1489, 0.1436, 0.1607, 0.1359,\n",
              "         0.1534, 0.1458, 0.1716, 0.1765, 0.1159, 0.1300, 0.1605, 0.1361, 0.1349, 0.1202, 0.1655, 0.1615, 0.1209, 0.1343, 0.1791, 0.1551, 0.1375, 0.1588, 0.1297, 0.1469, 0.1314, 0.1440, 0.1443, 0.1293,\n",
              "         0.1350, 0.1515, 0.1566, 0.1313, 0.1448, 0.1653, 0.1236, 0.1499, 0.1413, 0.1331, 0.1361, 0.1220, 0.1316, 0.1386, 0.1534, 0.1403, 0.1352, 0.1334, 0.1274, 0.1418, 0.1172, 0.1480, 0.1535, 0.1568,\n",
              "         0.1262, 0.1191, 0.1819, 0.1210, 0.1439, 0.1338, 0.1548, 0.1580, 0.1469, 0.1542, 0.1302, 0.1404, 0.1597, 0.1433, 0.1337, 0.1690, 0.1488, 0.1259, 0.1183, 0.1411, 0.1426, 0.1476, 0.1524, 0.1410,\n",
              "         0.1305, 0.1294, 0.1740, 0.1319, 0.1594, 0.1369, 0.1232, 0.1375, 0.1279, 0.1273, 0.1357, 0.1382, 0.1542, 0.1601, 0.1242, 0.1732, 0.1334, 0.1221, 0.1383, 0.1443, 0.1546, 0.1209, 0.1351, 0.1401,\n",
              "         0.1463, 0.1569, 0.1408, 0.1197, 0.1310, 0.1337, 0.1419, 0.1405, 0.1281, 0.1324, 0.1538, 0.1324, 0.1584, 0.1581, 0.1538, 0.1223, 0.1658, 0.1330, 0.1638, 0.1470, 0.1599, 0.1638, 0.1738, 0.1306,\n",
              "         0.1616, 0.1490, 0.1481, 0.1639, 0.1549, 0.1461, 0.1370, 0.1450, 0.1334, 0.1636, 0.1224, 0.1248, 0.1376, 0.1396, 0.1441, 0.1273, 0.1826, 0.1498, 0.1476, 0.1560, 0.1496, 0.1673, 0.1430, 0.1939,\n",
              "         0.1371, 0.1203, 0.1426, 0.1418, 0.1216, 0.1374, 0.1598, 0.1491, 0.1302, 0.1300, 0.1635, 0.1257, 0.1427, 0.1223, 0.1431, 0.1682, 0.1660, 0.1524, 0.1430, 0.1600, 0.1245, 0.1189, 0.1316, 0.1395,\n",
              "         0.1825, 0.1455, 0.1512, 0.1234, 0.1325, 0.1362, 0.1573, 0.1545, 0.1545, 0.1477, 0.1297, 0.1420, 0.1504, 0.1947, 0.1743, 0.1563, 0.1415, 0.1362, 0.1479, 0.1509, 0.1354, 0.1595, 0.1115, 0.1225,\n",
              "         0.1334, 0.1499, 0.1481, 0.1558, 0.1323, 0.1472, 0.1550, 0.1239, 0.1733, 0.1687, 0.1650, 0.1438, 0.1317, 0.1275, 0.1502, 0.1356, 0.1360, 0.1395, 0.1589, 0.1571, 0.1342, 0.1439, 0.1264, 0.1436,\n",
              "         0.1484, 0.1269, 0.1227, 0.1697, 0.1447, 0.1301, 0.1591, 0.1222, 0.1593, 0.1759, 0.1561, 0.1436, 0.1188, 0.1203, 0.1545, 0.1637, 0.1507, 0.1322, 0.1567, 0.1360, 0.1620, 0.1610, 0.1410, 0.1546,\n",
              "         0.1429, 0.1380, 0.1615, 0.1368, 0.1527, 0.1635, 0.1271, 0.1229, 0.1431, 0.1622, 0.1413, 0.1572, 0.1387, 0.1253, 0.1325, 0.1361, 0.1538, 0.1306, 0.1255, 0.1147, 0.1347, 0.1302, 0.1413, 0.1333,\n",
              "         0.1342, 0.1341, 0.1465, 0.1143, 0.1287, 0.1284, 0.1655, 0.1215, 0.1451, 0.1130, 0.1244, 0.1595, 0.1312, 0.1463, 0.1388, 0.1234, 0.1506, 0.1364, 0.1647, 0.1913, 0.1355, 0.1616, 0.1238, 0.1200,\n",
              "         0.1882, 0.1452, 0.1205, 0.1300, 0.1701, 0.1245, 0.1895, 0.1241, 0.1571, 0.1675, 0.1513, 0.1188, 0.1329, 0.1456, 0.1434, 0.1164, 0.1505, 0.1574, 0.1139, 0.1445]),\n",
              " torch.Size([980]))"
            ]
          },
          "metadata": {
            "tags": []
          },
          "execution_count": 188
        }
      ]
    },
    {
      "cell_type": "code",
      "metadata": {
        "colab": {
          "base_uri": "https://localhost:8080/"
        },
        "id": "CQUV4k2wyDdt",
        "outputId": "5a256a36-182e-43d0-e1cf-89d75275822c"
      },
      "source": [
        "(valid_3_tens-mean3).shape"
      ],
      "execution_count": 189,
      "outputs": [
        {
          "output_type": "execute_result",
          "data": {
            "text/plain": [
              "torch.Size([1010, 28, 28])"
            ]
          },
          "metadata": {
            "tags": []
          },
          "execution_count": 189
        }
      ]
    },
    {
      "cell_type": "code",
      "metadata": {
        "colab": {
          "base_uri": "https://localhost:8080/"
        },
        "id": "HnWSk08A4Fno",
        "outputId": "f87be743-318d-48a8-deb4-255547d50bd5"
      },
      "source": [
        "(valid_0_tens-mean0).shape"
      ],
      "execution_count": 190,
      "outputs": [
        {
          "output_type": "execute_result",
          "data": {
            "text/plain": [
              "torch.Size([980, 28, 28])"
            ]
          },
          "metadata": {
            "tags": []
          },
          "execution_count": 190
        }
      ]
    },
    {
      "cell_type": "code",
      "metadata": {
        "id": "2utAOnjW0-sQ"
      },
      "source": [
        "def is_3(x): return mnist_distance(x,mean3) < mnist_distance(x,mean0)"
      ],
      "execution_count": 191,
      "outputs": []
    },
    {
      "cell_type": "code",
      "metadata": {
        "id": "0hcjDFfY4Tyc"
      },
      "source": [
        "#def is_0(y): return mnist_distance(y,mean0) < mnist_distance(y,mean3)"
      ],
      "execution_count": 192,
      "outputs": []
    },
    {
      "cell_type": "code",
      "metadata": {
        "colab": {
          "base_uri": "https://localhost:8080/"
        },
        "id": "KNFK4j1O1DNG",
        "outputId": "4264fb30-7dac-4a2e-bc61-989138354b6f"
      },
      "source": [
        "is_3(a_3), is_3(a_3).float()"
      ],
      "execution_count": 193,
      "outputs": [
        {
          "output_type": "execute_result",
          "data": {
            "text/plain": [
              "(tensor(True), tensor(1.))"
            ]
          },
          "metadata": {
            "tags": []
          },
          "execution_count": 193
        }
      ]
    },
    {
      "cell_type": "code",
      "metadata": {
        "id": "QzHvfr0U_H_B"
      },
      "source": [
        "#is_0(a_0), is_0(a_0).float()"
      ],
      "execution_count": 194,
      "outputs": []
    },
    {
      "cell_type": "code",
      "metadata": {
        "colab": {
          "base_uri": "https://localhost:8080/"
        },
        "id": "GoQCiJSt1QXS",
        "outputId": "8523016f-8094-468e-b098-cf1b9c432c15"
      },
      "source": [
        "is_3(valid_3_tens)"
      ],
      "execution_count": 195,
      "outputs": [
        {
          "output_type": "execute_result",
          "data": {
            "text/plain": [
              "tensor([True, True, True,  ..., True, True, True])"
            ]
          },
          "metadata": {
            "tags": []
          },
          "execution_count": 195
        }
      ]
    },
    {
      "cell_type": "code",
      "metadata": {
        "colab": {
          "base_uri": "https://localhost:8080/"
        },
        "id": "ij5eRCDV4jUu",
        "outputId": "516034b9-b4fb-45e1-8bcd-d5c6187b6e2c"
      },
      "source": [
        "accuracy_0s = is_3(valid_0_tens).float().mean()\n",
        "accuracy_0s"
      ],
      "execution_count": 196,
      "outputs": [
        {
          "output_type": "execute_result",
          "data": {
            "text/plain": [
              "tensor(0.0745)"
            ]
          },
          "metadata": {
            "tags": []
          },
          "execution_count": 196
        }
      ]
    },
    {
      "cell_type": "code",
      "metadata": {
        "colab": {
          "base_uri": "https://localhost:8080/"
        },
        "id": "0xCWdhMb1bJN",
        "outputId": "168ff3e9-d766-4464-d1c5-e09aaebc1e33"
      },
      "source": [
        "accuracy_3s =      is_3(valid_3_tens).float() .mean()\n",
        "accuracy_0s = (1 - is_3(valid_0_tens).float()).mean()\n",
        "\n",
        "accuracy_3s,accuracy_0s,(accuracy_3s+accuracy_0s)/2"
      ],
      "execution_count": 197,
      "outputs": [
        {
          "output_type": "execute_result",
          "data": {
            "text/plain": [
              "(tensor(0.9941), tensor(0.9255), tensor(0.9598))"
            ]
          },
          "metadata": {
            "tags": []
          },
          "execution_count": 197
        }
      ]
    },
    {
      "cell_type": "code",
      "metadata": {
        "id": "HUcMISJZDSim"
      },
      "source": [
        "def f(x): return x**2 #general function look"
      ],
      "execution_count": 198,
      "outputs": []
    },
    {
      "cell_type": "code",
      "metadata": {
        "colab": {
          "base_uri": "https://localhost:8080/",
          "height": 279
        },
        "id": "hb47b32XDMk6",
        "outputId": "663c65bd-636e-4af8-f7e3-b8ed771b2b53"
      },
      "source": [
        "plot_function(f, 'x', 'x**2')\n",
        "plt.scatter(-1.5, f(-1.5), color='red');"
      ],
      "execution_count": 199,
      "outputs": [
        {
          "output_type": "display_data",
          "data": {
            "image/png": "[encoded data removed]",
            "text/plain": [
              "<Figure size 432x288 with 1 Axes>"
            ]
          },
          "metadata": {
            "tags": [],
            "needs_background": "light"
          }
        }
      ]
    },
    {
      "cell_type": "code",
      "metadata": {
        "id": "nHXOWHAuDt9F"
      },
      "source": [
        "xt = tensor(3.).requires_grad_() #calculate gradients with respect to that variable at that value"
      ],
      "execution_count": 200,
      "outputs": []
    },
    {
      "cell_type": "code",
      "metadata": {
        "colab": {
          "base_uri": "https://localhost:8080/"
        },
        "id": "4MM_78AwERBk",
        "outputId": "1c24e59b-7a4d-4e69-8d9e-363e68d15423"
      },
      "source": [
        "yt = f(xt)\n",
        "yt"
      ],
      "execution_count": 201,
      "outputs": [
        {
          "output_type": "execute_result",
          "data": {
            "text/plain": [
              "tensor(9., grad_fn=<PowBackward0>)"
            ]
          },
          "metadata": {
            "tags": []
          },
          "execution_count": 201
        }
      ]
    },
    {
      "cell_type": "code",
      "metadata": {
        "id": "ZljI4IksEVT0"
      },
      "source": [
        "yt.backward() # backpropagation, which is the name given to the process of calculating the derivative of each layer"
      ],
      "execution_count": 202,
      "outputs": []
    },
    {
      "cell_type": "code",
      "metadata": {
        "colab": {
          "base_uri": "https://localhost:8080/"
        },
        "id": "n7pN_pwiEtjR",
        "outputId": "1acd2040-1980-44d2-eace-f52f93cabcd1"
      },
      "source": [
        "xt.grad"
      ],
      "execution_count": 203,
      "outputs": [
        {
          "output_type": "execute_result",
          "data": {
            "text/plain": [
              "tensor(6.)"
            ]
          },
          "metadata": {
            "tags": []
          },
          "execution_count": 203
        }
      ]
    },
    {
      "cell_type": "code",
      "metadata": {
        "colab": {
          "base_uri": "https://localhost:8080/"
        },
        "id": "oP7bIZo_L5KE",
        "outputId": "7c09a32d-c710-4a70-c099-edece88324eb"
      },
      "source": [
        "xt = tensor([3.,4.,10.]).requires_grad_()\n",
        "xt"
      ],
      "execution_count": 204,
      "outputs": [
        {
          "output_type": "execute_result",
          "data": {
            "text/plain": [
              "tensor([ 3.,  4., 10.], requires_grad=True)"
            ]
          },
          "metadata": {
            "tags": []
          },
          "execution_count": 204
        }
      ]
    },
    {
      "cell_type": "code",
      "metadata": {
        "colab": {
          "base_uri": "https://localhost:8080/"
        },
        "id": "tOljSUYVHEWV",
        "outputId": "f40d4b17-15a1-408a-f260-012ad9d60a85"
      },
      "source": [
        "def f(x): return (x**2).sum()\n",
        "\n",
        "yt = f(xt)\n",
        "yt"
      ],
      "execution_count": 205,
      "outputs": [
        {
          "output_type": "execute_result",
          "data": {
            "text/plain": [
              "tensor(125., grad_fn=<SumBackward0>)"
            ]
          },
          "metadata": {
            "tags": []
          },
          "execution_count": 205
        }
      ]
    },
    {
      "cell_type": "code",
      "metadata": {
        "colab": {
          "base_uri": "https://localhost:8080/"
        },
        "id": "hHxF3s_sHOtF",
        "outputId": "e1a3a16d-d909-4ea0-9deb-5a148bff55de"
      },
      "source": [
        "yt.backward()\n",
        "xt.grad"
      ],
      "execution_count": 206,
      "outputs": [
        {
          "output_type": "execute_result",
          "data": {
            "text/plain": [
              "tensor([ 6.,  8., 20.])"
            ]
          },
          "metadata": {
            "tags": []
          },
          "execution_count": 206
        }
      ]
    },
    {
      "cell_type": "code",
      "metadata": {
        "id": "LtTFQmySJgfw"
      },
      "source": [
        "train_x = torch.cat([stacked_threes, stacked_zeros]).view(-1, 28*28)"
      ],
      "execution_count": 207,
      "outputs": []
    },
    {
      "cell_type": "code",
      "metadata": {
        "colab": {
          "base_uri": "https://localhost:8080/"
        },
        "id": "SdHfHa0GJlCo",
        "outputId": "a53107c1-964c-41d4-9eb7-a93c51a483ad"
      },
      "source": [
        "train_y = tensor([1]*len(threes) + [0]*len(zeros)).unsqueeze(1) # 1 for 3s, 0 for zeros\n",
        "train_x.shape,train_y.shape"
      ],
      "execution_count": 208,
      "outputs": [
        {
          "output_type": "execute_result",
          "data": {
            "text/plain": [
              "(torch.Size([12054, 784]), torch.Size([12054, 1]))"
            ]
          },
          "metadata": {
            "tags": []
          },
          "execution_count": 208
        }
      ]
    },
    {
      "cell_type": "code",
      "metadata": {
        "colab": {
          "base_uri": "https://localhost:8080/"
        },
        "id": "3hR-c2PtJ2nV",
        "outputId": "b8e5e815-e357-4248-a07f-59c06de54731"
      },
      "source": [
        "dset = list(zip(train_x,train_y))\n",
        "x,y = dset[0]\n",
        "x.shape,y"
      ],
      "execution_count": 209,
      "outputs": [
        {
          "output_type": "execute_result",
          "data": {
            "text/plain": [
              "(torch.Size([784]), tensor([1]))"
            ]
          },
          "metadata": {
            "tags": []
          },
          "execution_count": 209
        }
      ]
    },
    {
      "cell_type": "code",
      "metadata": {
        "id": "D5F8xnHHKSVg"
      },
      "source": [
        "valid_x = torch.cat([valid_3_tens, valid_0_tens]).view(-1, 28*28)\n",
        "valid_y = tensor([1]*len(valid_3_tens) + [0]*len(valid_0_tens)).unsqueeze(1)\n",
        "valid_dset = list(zip(valid_x,valid_y))"
      ],
      "execution_count": 210,
      "outputs": []
    },
    {
      "cell_type": "code",
      "metadata": {
        "id": "gKxiLmgPKb44"
      },
      "source": [
        "def init_params(size, std=1.0): return (torch.randn(size)*std).requires_grad_()"
      ],
      "execution_count": 211,
      "outputs": []
    },
    {
      "cell_type": "code",
      "metadata": {
        "id": "ky3XPYQcKcuU"
      },
      "source": [
        "weights = init_params((28*28,4))"
      ],
      "execution_count": 212,
      "outputs": []
    },
    {
      "cell_type": "code",
      "metadata": {
        "id": "-3ZdMyf4KwWb"
      },
      "source": [
        "bias = init_params(1) #смещение y=w*x+b; we still need the b=bias. w in the equation y=w*x+b is called the weights, and the b is called the bias. Together, the weights and bias make up the parameters."
      ],
      "execution_count": 213,
      "outputs": []
    },
    {
      "cell_type": "code",
      "metadata": {
        "colab": {
          "base_uri": "https://localhost:8080/"
        },
        "id": "PFL9A57yLD9S",
        "outputId": "93c2c176-9972-4063-884e-9a3d5ac6f101"
      },
      "source": [
        "(train_x[0]*weights.T).sum() + bias  #?????"
      ],
      "execution_count": 214,
      "outputs": [
        {
          "output_type": "execute_result",
          "data": {
            "text/plain": [
              "tensor([2.8577], grad_fn=<AddBackward0>)"
            ]
          },
          "metadata": {
            "tags": []
          },
          "execution_count": 214
        }
      ]
    },
    {
      "cell_type": "code",
      "metadata": {
        "colab": {
          "base_uri": "https://localhost:8080/"
        },
        "id": "FZYUQvFxLaXZ",
        "outputId": "96bbc6c2-d94c-4bfe-f88e-4e74e5032f51"
      },
      "source": [
        "def linear1(xb): return xb@weights + bias  #matrix multiplication = @\n",
        "preds = linear1(train_x)\n",
        "preds"
      ],
      "execution_count": 215,
      "outputs": [
        {
          "output_type": "execute_result",
          "data": {
            "text/plain": [
              "tensor([[ -5.8299,   5.8543,  -0.6525,   6.3782],\n",
              "        [ -9.8631,  14.9375,   0.0458,   6.1439],\n",
              "        [  6.1149,   6.6721,  -0.6021,   3.1720],\n",
              "        ...,\n",
              "        [  3.0286,  -4.9381, -25.2878,   7.7216],\n",
              "        [ -1.0097,  -6.1273, -11.4651,   8.0814],\n",
              "        [-12.4931,  -3.2021, -14.5250,   5.1139]], grad_fn=<AddBackward0>)"
            ]
          },
          "metadata": {
            "tags": []
          },
          "execution_count": 215
        }
      ]
    },
    {
      "cell_type": "code",
      "metadata": {
        "colab": {
          "base_uri": "https://localhost:8080/"
        },
        "id": "LUTUFgldM6Nz",
        "outputId": "0ba437c4-6547-45f1-9c8e-e47d20d40f61"
      },
      "source": [
        "corrects = (preds>0.0).float() == train_y\n",
        "corrects"
      ],
      "execution_count": 216,
      "outputs": [
        {
          "output_type": "execute_result",
          "data": {
            "text/plain": [
              "tensor([[False,  True, False,  True],\n",
              "        [False,  True,  True,  True],\n",
              "        [ True,  True, False,  True],\n",
              "        ...,\n",
              "        [False,  True,  True, False],\n",
              "        [ True,  True,  True, False],\n",
              "        [ True,  True,  True, False]])"
            ]
          },
          "metadata": {
            "tags": []
          },
          "execution_count": 216
        }
      ]
    },
    {
      "cell_type": "code",
      "metadata": {
        "colab": {
          "base_uri": "https://localhost:8080/"
        },
        "id": "ngeWoUEhNCko",
        "outputId": "0a290893-956f-4a3a-9054-a874ff176619"
      },
      "source": [
        "corrects.float().mean().item()"
      ],
      "execution_count": 217,
      "outputs": [
        {
          "output_type": "execute_result",
          "data": {
            "text/plain": [
              "0.5916708111763"
            ]
          },
          "metadata": {
            "tags": []
          },
          "execution_count": 217
        }
      ]
    },
    {
      "cell_type": "code",
      "metadata": {
        "id": "LoFSauN5NIVe"
      },
      "source": [
        "weights[0] *= 1.0001"
      ],
      "execution_count": 218,
      "outputs": []
    },
    {
      "cell_type": "code",
      "metadata": {
        "colab": {
          "base_uri": "https://localhost:8080/"
        },
        "id": "AuxEWUqHNQwR",
        "outputId": "83aa4b49-74c3-4848-d2fa-5f36d84cf9c1"
      },
      "source": [
        "preds = linear1(train_x)\n",
        "((preds>0.0).float() == train_y).float().mean().item()"
      ],
      "execution_count": 219,
      "outputs": [
        {
          "output_type": "execute_result",
          "data": {
            "text/plain": [
              "0.5916708111763"
            ]
          },
          "metadata": {
            "tags": []
          },
          "execution_count": 219
        }
      ]
    },
    {
      "cell_type": "code",
      "metadata": {
        "id": "wbFkB9pMOgTB"
      },
      "source": [
        "trgts  = tensor([1,0,1])\n",
        "prds   = tensor([0.9, 0.4, 0.2])"
      ],
      "execution_count": 220,
      "outputs": []
    },
    {
      "cell_type": "code",
      "metadata": {
        "id": "VRkouSSnOg3B"
      },
      "source": [
        "def mnist_loss(predictions, targets):\n",
        "    return torch.where(targets==1, 1-predictions, predictions).mean()"
      ],
      "execution_count": 221,
      "outputs": []
    },
    {
      "cell_type": "code",
      "metadata": {
        "colab": {
          "base_uri": "https://localhost:8080/"
        },
        "id": "r93EyvJrOiu2",
        "outputId": "e16732a8-4499-48da-f4d8-fec07fba55cf"
      },
      "source": [
        "torch.where(trgts==1, 1-prds, prds)"
      ],
      "execution_count": 222,
      "outputs": [
        {
          "output_type": "execute_result",
          "data": {
            "text/plain": [
              "tensor([0.1000, 0.4000, 0.8000])"
            ]
          },
          "metadata": {
            "tags": []
          },
          "execution_count": 222
        }
      ]
    },
    {
      "cell_type": "code",
      "metadata": {
        "colab": {
          "base_uri": "https://localhost:8080/"
        },
        "id": "ELji3aolOx0E",
        "outputId": "23cd3284-c63f-464e-e671-0a346a1cd38f"
      },
      "source": [
        "mnist_loss(prds,trgts)"
      ],
      "execution_count": 223,
      "outputs": [
        {
          "output_type": "execute_result",
          "data": {
            "text/plain": [
              "tensor(0.4333)"
            ]
          },
          "metadata": {
            "tags": []
          },
          "execution_count": 223
        }
      ]
    },
    {
      "cell_type": "code",
      "metadata": {
        "colab": {
          "base_uri": "https://localhost:8080/"
        },
        "id": "meN8hicNO2Li",
        "outputId": "af80c1b8-5d63-43a2-f47f-1e5391f181bb"
      },
      "source": [
        "mnist_loss(tensor([0.9, 0.4, 0.8]),trgts)"
      ],
      "execution_count": 224,
      "outputs": [
        {
          "output_type": "execute_result",
          "data": {
            "text/plain": [
              "tensor(0.2333)"
            ]
          },
          "metadata": {
            "tags": []
          },
          "execution_count": 224
        }
      ]
    },
    {
      "cell_type": "code",
      "metadata": {
        "id": "mehfDQams450"
      },
      "source": [
        "def mnist_loss(predictions, targets):\n",
        "    predictions = predictions.sigmoid()\n",
        "    return torch.where(targets==1, 1-predictions, predictions).mean()"
      ],
      "execution_count": 225,
      "outputs": []
    },
    {
      "cell_type": "code",
      "metadata": {
        "colab": {
          "base_uri": "https://localhost:8080/"
        },
        "id": "XLgru5dNubTq",
        "outputId": "5508ff49-e8d6-44cb-ca04-ca1907386190"
      },
      "source": [
        "ds = L(enumerate(string.ascii_lowercase))\n",
        "ds"
      ],
      "execution_count": 226,
      "outputs": [
        {
          "output_type": "execute_result",
          "data": {
            "text/plain": [
              "(#26) [(0, 'a'),(1, 'b'),(2, 'c'),(3, 'd'),(4, 'e'),(5, 'f'),(6, 'g'),(7, 'h'),(8, 'i'),(9, 'j')...]"
            ]
          },
          "metadata": {
            "tags": []
          },
          "execution_count": 226
        }
      ]
    },
    {
      "cell_type": "code",
      "metadata": {
        "colab": {
          "base_uri": "https://localhost:8080/"
        },
        "id": "AglAN1v-ucTU",
        "outputId": "51b31a38-5d03-4c86-a96a-f6d2442cf9cf"
      },
      "source": [
        "dl = DataLoader(ds, batch_size=6, shuffle=True)\n",
        "list(dl)"
      ],
      "execution_count": 227,
      "outputs": [
        {
          "output_type": "execute_result",
          "data": {
            "text/plain": [
              "[(tensor([ 5,  9,  8, 15,  4, 24]), ('f', 'j', 'i', 'p', 'e', 'y')),\n",
              " (tensor([ 0, 18, 12, 10,  6, 20]), ('a', 's', 'm', 'k', 'g', 'u')),\n",
              " (tensor([17, 16, 23, 13,  3, 14]), ('r', 'q', 'x', 'n', 'd', 'o')),\n",
              " (tensor([21, 22,  7, 19,  1,  2]), ('v', 'w', 'h', 't', 'b', 'c')),\n",
              " (tensor([11, 25]), ('l', 'z'))]"
            ]
          },
          "metadata": {
            "tags": []
          },
          "execution_count": 227
        }
      ]
    },
    {
      "cell_type": "code",
      "metadata": {
        "id": "IRz8g22-vvIs"
      },
      "source": [
        "def sigmoid(x): return 1/(1+torch.exp(-x))"
      ],
      "execution_count": 228,
      "outputs": []
    },
    {
      "cell_type": "code",
      "metadata": {
        "id": "FiWFkMjQK-ot"
      },
      "source": [
        "weights = init_params((28*28,5))\n",
        "bias = init_params(1)"
      ],
      "execution_count": 229,
      "outputs": []
    },
    {
      "cell_type": "code",
      "metadata": {
        "colab": {
          "base_uri": "https://localhost:8080/"
        },
        "id": "3y7iR80pwZWZ",
        "outputId": "f7edb15b-c5ae-4565-ec2e-bee4458d6744"
      },
      "source": [
        "dl = DataLoader(dset, batch_size=256)\n",
        "xb,yb = first(dl)\n",
        "xb.shape,yb.shape"
      ],
      "execution_count": 230,
      "outputs": [
        {
          "output_type": "execute_result",
          "data": {
            "text/plain": [
              "(torch.Size([256, 784]), torch.Size([256, 1]))"
            ]
          },
          "metadata": {
            "tags": []
          },
          "execution_count": 230
        }
      ]
    },
    {
      "cell_type": "code",
      "metadata": {
        "id": "P7dbJs0XwdbS"
      },
      "source": [
        "valid_dl = DataLoader(valid_dset, batch_size=256)"
      ],
      "execution_count": 231,
      "outputs": []
    },
    {
      "cell_type": "code",
      "metadata": {
        "colab": {
          "base_uri": "https://localhost:8080/"
        },
        "id": "k5PXtnoNwheK",
        "outputId": "fa006911-4579-483e-e28c-5471ed25beb9"
      },
      "source": [
        "batch = train_x[:4]\n",
        "batch.shape"
      ],
      "execution_count": 232,
      "outputs": [
        {
          "output_type": "execute_result",
          "data": {
            "text/plain": [
              "torch.Size([4, 784])"
            ]
          },
          "metadata": {
            "tags": []
          },
          "execution_count": 232
        }
      ]
    },
    {
      "cell_type": "code",
      "metadata": {
        "colab": {
          "base_uri": "https://localhost:8080/"
        },
        "id": "korEvQakwhON",
        "outputId": "cf87bdad-509e-4f89-ed43-74ba3a87fb07"
      },
      "source": [
        "preds = linear1(batch)\n",
        "preds"
      ],
      "execution_count": 233,
      "outputs": [
        {
          "output_type": "execute_result",
          "data": {
            "text/plain": [
              "tensor([[ -5.5123,   8.8113,  -7.6445,  -5.8780,   0.8439],\n",
              "        [ -6.8198,   2.0109,   2.7843,  -3.3715,  -6.9562],\n",
              "        [-13.0522,   0.7195,  -3.4159,   8.6137,   1.7149],\n",
              "        [-12.2872,   8.0289, -11.6642,   3.8193,   5.6320]], grad_fn=<AddBackward0>)"
            ]
          },
          "metadata": {
            "tags": []
          },
          "execution_count": 233
        }
      ]
    },
    {
      "cell_type": "code",
      "metadata": {
        "colab": {
          "base_uri": "https://localhost:8080/"
        },
        "id": "BFyL9_AQwqDx",
        "outputId": "fbc99e80-85ab-4a69-b618-2cdd0e7f3943"
      },
      "source": [
        "loss = mnist_loss(preds, train_y[:4])\n",
        "loss"
      ],
      "execution_count": 234,
      "outputs": [
        {
          "output_type": "execute_result",
          "data": {
            "text/plain": [
              "tensor(0.5454, grad_fn=<MeanBackward0>)"
            ]
          },
          "metadata": {
            "tags": []
          },
          "execution_count": 234
        }
      ]
    },
    {
      "cell_type": "code",
      "metadata": {
        "id": "gcgy1AEkG7Pj"
      },
      "source": [
        ""
      ],
      "execution_count": 234,
      "outputs": []
    },
    {
      "cell_type": "code",
      "metadata": {
        "colab": {
          "base_uri": "https://localhost:8080/"
        },
        "id": "mtE3ESETwvkb",
        "outputId": "2afdd96a-9354-4c0f-a504-17a2be9428f4"
      },
      "source": [
        "loss.backward()\n",
        "weights.grad.shape,weights.grad.mean(),bias.grad"
      ],
      "execution_count": 235,
      "outputs": [
        {
          "output_type": "execute_result",
          "data": {
            "text/plain": [
              "(torch.Size([784, 5]), tensor(-0.0012), tensor([-0.0408]))"
            ]
          },
          "metadata": {
            "tags": []
          },
          "execution_count": 235
        }
      ]
    },
    {
      "cell_type": "code",
      "metadata": {
        "id": "26804OWbw3IP"
      },
      "source": [
        "def calc_grad(xb, yb, model):\n",
        "    preds = model(xb)\n",
        "    loss = mnist_loss(preds, yb)\n",
        "    loss.backward()"
      ],
      "execution_count": 236,
      "outputs": []
    },
    {
      "cell_type": "code",
      "metadata": {
        "colab": {
          "base_uri": "https://localhost:8080/"
        },
        "id": "XlpP2N0Sv19C",
        "outputId": "3b21a6c3-7bf9-4c08-a9b2-018f673dd257"
      },
      "source": [
        "calc_grad(batch, train_y[:4], linear1)\n",
        "weights.grad.mean(),bias.grad\n"
      ],
      "execution_count": 237,
      "outputs": [
        {
          "output_type": "execute_result",
          "data": {
            "text/plain": [
              "(tensor(-0.0024), tensor([-0.0816]))"
            ]
          },
          "metadata": {
            "tags": []
          },
          "execution_count": 237
        }
      ]
    },
    {
      "cell_type": "code",
      "metadata": {
        "colab": {
          "base_uri": "https://localhost:8080/"
        },
        "id": "aPaLc3yBw-kq",
        "outputId": "862b5257-a39f-4413-a08c-d8eb22f74846"
      },
      "source": [
        "calc_grad(batch, train_y[:4], linear1)\n",
        "weights.grad.mean(),bias.grad"
      ],
      "execution_count": 238,
      "outputs": [
        {
          "output_type": "execute_result",
          "data": {
            "text/plain": [
              "(tensor(-0.0035), tensor([-0.1224]))"
            ]
          },
          "metadata": {
            "tags": []
          },
          "execution_count": 238
        }
      ]
    },
    {
      "cell_type": "code",
      "metadata": {
        "id": "19MKFXqgxC4Z"
      },
      "source": [
        "weights.grad.zero_()\n",
        "bias.grad.zero_();"
      ],
      "execution_count": 239,
      "outputs": []
    },
    {
      "cell_type": "code",
      "metadata": {
        "id": "Sx0Kjpf_xU8i"
      },
      "source": [
        "def train_epoch(model, lr, params):\n",
        "    for xb,yb in dl:\n",
        "        calc_grad(xb, yb, model)\n",
        "        for p in params:\n",
        "            p.data -= p.grad*lr\n",
        "            p.grad.zero_()"
      ],
      "execution_count": 240,
      "outputs": []
    },
    {
      "cell_type": "code",
      "metadata": {
        "colab": {
          "base_uri": "https://localhost:8080/"
        },
        "id": "cppsvHcUxU4U",
        "outputId": "05a43ae3-2d2a-4e93-d98e-0bb79e7856e6"
      },
      "source": [
        "(preds>0.0).float() == train_y[:4]"
      ],
      "execution_count": 241,
      "outputs": [
        {
          "output_type": "execute_result",
          "data": {
            "text/plain": [
              "tensor([[False,  True, False, False,  True],\n",
              "        [False,  True,  True, False, False],\n",
              "        [False,  True, False,  True,  True],\n",
              "        [False,  True, False,  True,  True]])"
            ]
          },
          "metadata": {
            "tags": []
          },
          "execution_count": 241
        }
      ]
    },
    {
      "cell_type": "code",
      "metadata": {
        "id": "2IR8z_4oxbSl"
      },
      "source": [
        "def batch_accuracy(xb, yb):\n",
        "    preds = xb.sigmoid()\n",
        "    correct = (preds>0.5) == yb\n",
        "    return correct.float().mean()"
      ],
      "execution_count": 242,
      "outputs": []
    },
    {
      "cell_type": "code",
      "metadata": {
        "colab": {
          "base_uri": "https://localhost:8080/"
        },
        "id": "XMPtL6Y5xgC9",
        "outputId": "1783dad7-ce86-4e1c-94ee-494fa5ea737b"
      },
      "source": [
        "batch_accuracy(linear1(batch), train_y[:4])"
      ],
      "execution_count": 243,
      "outputs": [
        {
          "output_type": "execute_result",
          "data": {
            "text/plain": [
              "tensor(0.5000)"
            ]
          },
          "metadata": {
            "tags": []
          },
          "execution_count": 243
        }
      ]
    },
    {
      "cell_type": "code",
      "metadata": {
        "id": "Yl5494atxlkP"
      },
      "source": [
        "def validate_epoch(model):\n",
        "    accs = [batch_accuracy(model(xb), yb) for xb,yb in valid_dl]\n",
        "    return round(torch.stack(accs).mean().item(), 4)"
      ],
      "execution_count": 244,
      "outputs": []
    },
    {
      "cell_type": "code",
      "metadata": {
        "colab": {
          "base_uri": "https://localhost:8080/"
        },
        "id": "fW4IQ9yvxq_f",
        "outputId": "0b5078b5-0c90-4622-a4fc-d6b20a96cdda"
      },
      "source": [
        "validate_epoch(linear1)"
      ],
      "execution_count": 245,
      "outputs": [
        {
          "output_type": "execute_result",
          "data": {
            "text/plain": [
              "0.5566"
            ]
          },
          "metadata": {
            "tags": []
          },
          "execution_count": 245
        }
      ]
    },
    {
      "cell_type": "code",
      "metadata": {
        "colab": {
          "base_uri": "https://localhost:8080/"
        },
        "id": "IY3mTkUaxtkn",
        "outputId": "9c1926b0-8008-44e3-b2f3-fdedaf34f74a"
      },
      "source": [
        "lr = 1.\n",
        "params = weights,bias\n",
        "train_epoch(linear1, lr, params)\n",
        "validate_epoch(linear1)"
      ],
      "execution_count": 246,
      "outputs": [
        {
          "output_type": "execute_result",
          "data": {
            "text/plain": [
              "0.6765"
            ]
          },
          "metadata": {
            "tags": []
          },
          "execution_count": 246
        }
      ]
    },
    {
      "cell_type": "code",
      "metadata": {
        "colab": {
          "base_uri": "https://localhost:8080/"
        },
        "id": "nPzhaln4xyto",
        "outputId": "87bc8d49-fa4e-427b-8783-4f3a1a0945dd"
      },
      "source": [
        "for i in range(20):\n",
        "    train_epoch(linear1, lr, params)\n",
        "    print(validate_epoch(linear1), end=' ')"
      ],
      "execution_count": 247,
      "outputs": [
        {
          "output_type": "stream",
          "text": [
            "0.7732 0.8464 0.8875 0.9149 0.9306 0.9425 0.9505 0.9558 0.9601 0.9637 0.9666 0.9682 0.9698 0.9716 0.9731 0.9741 0.9758 0.9773 0.9779 0.9789 "
          ],
          "name": "stdout"
        }
      ]
    },
    {
      "cell_type": "code",
      "metadata": {
        "id": "5EuWlt8zy5Uf"
      },
      "source": [
        "linear_model = nn.Linear(28*28,1)"
      ],
      "execution_count": 248,
      "outputs": []
    },
    {
      "cell_type": "code",
      "metadata": {
        "colab": {
          "base_uri": "https://localhost:8080/"
        },
        "id": "HUiaZos5y4_u",
        "outputId": "ad4ed35e-1e27-4b5b-99f4-25a0068e6361"
      },
      "source": [
        "w,b = linear_model.parameters()\n",
        "w.shape,b.shape"
      ],
      "execution_count": 249,
      "outputs": [
        {
          "output_type": "execute_result",
          "data": {
            "text/plain": [
              "(torch.Size([1, 784]), torch.Size([1]))"
            ]
          },
          "metadata": {
            "tags": []
          },
          "execution_count": 249
        }
      ]
    },
    {
      "cell_type": "code",
      "metadata": {
        "id": "XavCm5qfyk9L"
      },
      "source": [
        "class BasicOptim:\n",
        "    def __init__(self,params,lr): self.params,self.lr = list(params),lr\n",
        "\n",
        "    def step(self, *args, **kwargs):\n",
        "        for p in self.params: p.data -= p.grad.data * self.lr\n",
        "\n",
        "    def zero_grad(self, *args, **kwargs):\n",
        "        for p in self.params: p.grad = None"
      ],
      "execution_count": 250,
      "outputs": []
    },
    {
      "cell_type": "code",
      "metadata": {
        "id": "VbbN_bjhx2Am"
      },
      "source": [
        "opt = BasicOptim(linear_model.parameters(), lr)"
      ],
      "execution_count": 251,
      "outputs": []
    },
    {
      "cell_type": "code",
      "metadata": {
        "id": "0dIziQgYydt2"
      },
      "source": [
        "def train_epoch(model):\n",
        "    for xb,yb in dl:\n",
        "        calc_grad(xb, yb, model)\n",
        "        opt.step()\n",
        "        opt.zero_grad()"
      ],
      "execution_count": 252,
      "outputs": []
    },
    {
      "cell_type": "code",
      "metadata": {
        "colab": {
          "base_uri": "https://localhost:8080/"
        },
        "id": "HoumCt5VygwH",
        "outputId": "85c5bc7b-830f-4299-a7eb-9d83cd7213f5"
      },
      "source": [
        "validate_epoch(linear_model)"
      ],
      "execution_count": 253,
      "outputs": [
        {
          "output_type": "execute_result",
          "data": {
            "text/plain": [
              "0.2612"
            ]
          },
          "metadata": {
            "tags": []
          },
          "execution_count": 253
        }
      ]
    },
    {
      "cell_type": "code",
      "metadata": {
        "id": "Mx4ZCaWmy_T5"
      },
      "source": [
        "def train_model(model, epochs):\n",
        "    for i in range(epochs):\n",
        "        train_epoch(model)\n",
        "        print(validate_epoch(model), end=' ')"
      ],
      "execution_count": 254,
      "outputs": []
    },
    {
      "cell_type": "code",
      "metadata": {
        "colab": {
          "base_uri": "https://localhost:8080/"
        },
        "id": "5d4aI-bMzE6E",
        "outputId": "15874a62-1f50-426b-a55a-e063b99599e4"
      },
      "source": [
        "train_model(linear_model, 20)"
      ],
      "execution_count": 255,
      "outputs": [
        {
          "output_type": "stream",
          "text": [
            "0.4932 0.4932 0.4932 0.4932 0.4932 0.4932 0.7588 0.8433 0.9229 0.9563 0.967 0.9787 0.9821 0.9851 0.987 0.989 0.9895 0.9904 0.9909 0.9909 "
          ],
          "name": "stdout"
        }
      ]
    },
    {
      "cell_type": "code",
      "metadata": {
        "colab": {
          "base_uri": "https://localhost:8080/"
        },
        "id": "ayP85rB8zHZO",
        "outputId": "31a9b271-d77c-4e85-c43d-19b8745213cd"
      },
      "source": [
        "linear_model = nn.Linear(28*28,1)\n",
        "opt = SGD(linear_model.parameters(), lr)\n",
        "train_model(linear_model, 20)"
      ],
      "execution_count": 256,
      "outputs": [
        {
          "output_type": "stream",
          "text": [
            "0.4932 0.4932 0.4932 0.4932 0.4932 0.4932 0.4932 0.7373 0.8511 0.9242 0.9572 0.969 0.9782 0.9802 0.9851 0.987 0.9885 0.9895 0.9899 0.9904 "
          ],
          "name": "stdout"
        }
      ]
    },
    {
      "cell_type": "code",
      "metadata": {
        "id": "BLEXso8MzWqJ"
      },
      "source": [
        "dls = DataLoaders(dl, valid_dl)"
      ],
      "execution_count": 257,
      "outputs": []
    },
    {
      "cell_type": "code",
      "metadata": {
        "id": "bzrpx8T9zbTJ"
      },
      "source": [
        "learn = Learner(dls, nn.Linear(28*28,1), opt_func=SGD,\n",
        "                loss_func=mnist_loss, metrics=batch_accuracy)"
      ],
      "execution_count": 258,
      "outputs": []
    },
    {
      "cell_type": "code",
      "metadata": {
        "colab": {
          "base_uri": "https://localhost:8080/",
          "height": 359
        },
        "id": "V37_jPhGzd1w",
        "outputId": "2efc80e7-5df5-42bf-94cf-a6e512502367"
      },
      "source": [
        "learn.fit(10, lr=lr)"
      ],
      "execution_count": 259,
      "outputs": [
        {
          "output_type": "display_data",
          "data": {
            "text/html": [
              "<table border=\"1\" class=\"dataframe\">\n",
              "  <thead>\n",
              "    <tr style=\"text-align: left;\">\n",
              "      <th>epoch</th>\n",
              "      <th>train_loss</th>\n",
              "      <th>valid_loss</th>\n",
              "      <th>batch_accuracy</th>\n",
              "      <th>time</th>\n",
              "    </tr>\n",
              "  </thead>\n",
              "  <tbody>\n",
              "    <tr>\n",
              "      <td>0</td>\n",
              "      <td>0.626079</td>\n",
              "      <td>0.492390</td>\n",
              "      <td>0.507538</td>\n",
              "      <td>00:00</td>\n",
              "    </tr>\n",
              "    <tr>\n",
              "      <td>1</td>\n",
              "      <td>0.621480</td>\n",
              "      <td>0.492365</td>\n",
              "      <td>0.507538</td>\n",
              "      <td>00:00</td>\n",
              "    </tr>\n",
              "    <tr>\n",
              "      <td>2</td>\n",
              "      <td>0.620309</td>\n",
              "      <td>0.492324</td>\n",
              "      <td>0.507538</td>\n",
              "      <td>00:00</td>\n",
              "    </tr>\n",
              "    <tr>\n",
              "      <td>3</td>\n",
              "      <td>0.619878</td>\n",
              "      <td>0.492247</td>\n",
              "      <td>0.507538</td>\n",
              "      <td>00:00</td>\n",
              "    </tr>\n",
              "    <tr>\n",
              "      <td>4</td>\n",
              "      <td>0.619639</td>\n",
              "      <td>0.492059</td>\n",
              "      <td>0.507538</td>\n",
              "      <td>00:00</td>\n",
              "    </tr>\n",
              "    <tr>\n",
              "      <td>5</td>\n",
              "      <td>0.619283</td>\n",
              "      <td>0.491055</td>\n",
              "      <td>0.507538</td>\n",
              "      <td>00:00</td>\n",
              "    </tr>\n",
              "    <tr>\n",
              "      <td>6</td>\n",
              "      <td>0.466237</td>\n",
              "      <td>0.243655</td>\n",
              "      <td>0.771357</td>\n",
              "      <td>00:00</td>\n",
              "    </tr>\n",
              "    <tr>\n",
              "      <td>7</td>\n",
              "      <td>0.190158</td>\n",
              "      <td>0.176044</td>\n",
              "      <td>0.847236</td>\n",
              "      <td>00:00</td>\n",
              "    </tr>\n",
              "    <tr>\n",
              "      <td>8</td>\n",
              "      <td>0.082813</td>\n",
              "      <td>0.091794</td>\n",
              "      <td>0.925126</td>\n",
              "      <td>00:00</td>\n",
              "    </tr>\n",
              "    <tr>\n",
              "      <td>9</td>\n",
              "      <td>0.039933</td>\n",
              "      <td>0.059807</td>\n",
              "      <td>0.955779</td>\n",
              "      <td>00:00</td>\n",
              "    </tr>\n",
              "  </tbody>\n",
              "</table>"
            ],
            "text/plain": [
              "<IPython.core.display.HTML object>"
            ]
          },
          "metadata": {
            "tags": []
          }
        }
      ]
    },
    {
      "cell_type": "code",
      "metadata": {
        "id": "4EtMfL35zilU"
      },
      "source": [
        "def simple_net(xb): \n",
        "    res = xb@w1 + b1\n",
        "    res = res.max(tensor(0.0))\n",
        "    res = res@w2 + b2\n",
        "    return res"
      ],
      "execution_count": 260,
      "outputs": []
    },
    {
      "cell_type": "code",
      "metadata": {
        "id": "vL5LuVs0zu1x"
      },
      "source": [
        "w1 = init_params((28*28,30)) #very important what you pass as w1 and w2 -weights\n",
        "b1 = init_params(30)\n",
        "w2 = init_params((30,1))\n",
        "b2 = init_params(1)"
      ],
      "execution_count": 261,
      "outputs": []
    },
    {
      "cell_type": "code",
      "metadata": {
        "colab": {
          "base_uri": "https://localhost:8080/",
          "height": 265
        },
        "id": "NxpgqjSxz5Iv",
        "outputId": "40000862-fdea-4fe0-fdf3-37bb9a6f56bd"
      },
      "source": [
        "plot_function(F.relu) # rectified linear unit = ReLU = res.max(tensor(0.0)) = replace every negative number with a zero."
      ],
      "execution_count": 262,
      "outputs": [
        {
          "output_type": "display_data",
          "data": {
            "image/png": "[encoded data removed]",
            "text/plain": [
              "<Figure size 432x288 with 1 Axes>"
            ]
          },
          "metadata": {
            "tags": [],
            "needs_background": "light"
          }
        }
      ]
    },
    {
      "cell_type": "code",
      "metadata": {
        "id": "teUCyjF-0-2j"
      },
      "source": [
        "simple_net = nn.Sequential(\n",
        "    nn.Linear(28*28,30),\n",
        "    nn.ReLU(),\n",
        "    nn.Linear(30,1)\n",
        ")"
      ],
      "execution_count": 263,
      "outputs": []
    },
    {
      "cell_type": "code",
      "metadata": {
        "colab": {
          "base_uri": "https://localhost:8080/",
          "height": 1000
        },
        "id": "GmvoHgS_1kJS",
        "outputId": "2fcf5aa6-f78f-47cf-afb2-61503d5e211f"
      },
      "source": [
        "learn.fit(40, 0.1)"
      ],
      "execution_count": 264,
      "outputs": [
        {
          "output_type": "display_data",
          "data": {
            "text/html": [
              "<table border=\"1\" class=\"dataframe\">\n",
              "  <thead>\n",
              "    <tr style=\"text-align: left;\">\n",
              "      <th>epoch</th>\n",
              "      <th>train_loss</th>\n",
              "      <th>valid_loss</th>\n",
              "      <th>batch_accuracy</th>\n",
              "      <th>time</th>\n",
              "    </tr>\n",
              "  </thead>\n",
              "  <tbody>\n",
              "    <tr>\n",
              "      <td>0</td>\n",
              "      <td>0.029887</td>\n",
              "      <td>0.020629</td>\n",
              "      <td>0.987940</td>\n",
              "      <td>00:00</td>\n",
              "    </tr>\n",
              "    <tr>\n",
              "      <td>1</td>\n",
              "      <td>0.023904</td>\n",
              "      <td>0.016186</td>\n",
              "      <td>0.991457</td>\n",
              "      <td>00:00</td>\n",
              "    </tr>\n",
              "    <tr>\n",
              "      <td>2</td>\n",
              "      <td>0.021546</td>\n",
              "      <td>0.014862</td>\n",
              "      <td>0.991960</td>\n",
              "      <td>00:00</td>\n",
              "    </tr>\n",
              "    <tr>\n",
              "      <td>3</td>\n",
              "      <td>0.020384</td>\n",
              "      <td>0.014197</td>\n",
              "      <td>0.992462</td>\n",
              "      <td>00:00</td>\n",
              "    </tr>\n",
              "    <tr>\n",
              "      <td>4</td>\n",
              "      <td>0.019672</td>\n",
              "      <td>0.013737</td>\n",
              "      <td>0.992965</td>\n",
              "      <td>00:00</td>\n",
              "    </tr>\n",
              "    <tr>\n",
              "      <td>5</td>\n",
              "      <td>0.019147</td>\n",
              "      <td>0.013364</td>\n",
              "      <td>0.992965</td>\n",
              "      <td>00:00</td>\n",
              "    </tr>\n",
              "    <tr>\n",
              "      <td>6</td>\n",
              "      <td>0.018710</td>\n",
              "      <td>0.013038</td>\n",
              "      <td>0.993467</td>\n",
              "      <td>00:00</td>\n",
              "    </tr>\n",
              "    <tr>\n",
              "      <td>7</td>\n",
              "      <td>0.018323</td>\n",
              "      <td>0.012743</td>\n",
              "      <td>0.993467</td>\n",
              "      <td>00:00</td>\n",
              "    </tr>\n",
              "    <tr>\n",
              "      <td>8</td>\n",
              "      <td>0.017969</td>\n",
              "      <td>0.012473</td>\n",
              "      <td>0.993467</td>\n",
              "      <td>00:00</td>\n",
              "    </tr>\n",
              "    <tr>\n",
              "      <td>9</td>\n",
              "      <td>0.017641</td>\n",
              "      <td>0.012223</td>\n",
              "      <td>0.993467</td>\n",
              "      <td>00:00</td>\n",
              "    </tr>\n",
              "    <tr>\n",
              "      <td>10</td>\n",
              "      <td>0.017334</td>\n",
              "      <td>0.011991</td>\n",
              "      <td>0.993467</td>\n",
              "      <td>00:00</td>\n",
              "    </tr>\n",
              "    <tr>\n",
              "      <td>11</td>\n",
              "      <td>0.017047</td>\n",
              "      <td>0.011774</td>\n",
              "      <td>0.993467</td>\n",
              "      <td>00:00</td>\n",
              "    </tr>\n",
              "    <tr>\n",
              "      <td>12</td>\n",
              "      <td>0.016777</td>\n",
              "      <td>0.011572</td>\n",
              "      <td>0.993467</td>\n",
              "      <td>00:00</td>\n",
              "    </tr>\n",
              "    <tr>\n",
              "      <td>13</td>\n",
              "      <td>0.016522</td>\n",
              "      <td>0.011382</td>\n",
              "      <td>0.993467</td>\n",
              "      <td>00:00</td>\n",
              "    </tr>\n",
              "    <tr>\n",
              "      <td>14</td>\n",
              "      <td>0.016281</td>\n",
              "      <td>0.011204</td>\n",
              "      <td>0.993467</td>\n",
              "      <td>00:00</td>\n",
              "    </tr>\n",
              "    <tr>\n",
              "      <td>15</td>\n",
              "      <td>0.016053</td>\n",
              "      <td>0.011036</td>\n",
              "      <td>0.993467</td>\n",
              "      <td>00:00</td>\n",
              "    </tr>\n",
              "    <tr>\n",
              "      <td>16</td>\n",
              "      <td>0.015836</td>\n",
              "      <td>0.010878</td>\n",
              "      <td>0.993970</td>\n",
              "      <td>00:00</td>\n",
              "    </tr>\n",
              "    <tr>\n",
              "      <td>17</td>\n",
              "      <td>0.015630</td>\n",
              "      <td>0.010728</td>\n",
              "      <td>0.993970</td>\n",
              "      <td>00:00</td>\n",
              "    </tr>\n",
              "    <tr>\n",
              "      <td>18</td>\n",
              "      <td>0.015434</td>\n",
              "      <td>0.010586</td>\n",
              "      <td>0.993970</td>\n",
              "      <td>00:00</td>\n",
              "    </tr>\n",
              "    <tr>\n",
              "      <td>19</td>\n",
              "      <td>0.015247</td>\n",
              "      <td>0.010451</td>\n",
              "      <td>0.993970</td>\n",
              "      <td>00:00</td>\n",
              "    </tr>\n",
              "    <tr>\n",
              "      <td>20</td>\n",
              "      <td>0.015068</td>\n",
              "      <td>0.010322</td>\n",
              "      <td>0.993970</td>\n",
              "      <td>00:00</td>\n",
              "    </tr>\n",
              "    <tr>\n",
              "      <td>21</td>\n",
              "      <td>0.014898</td>\n",
              "      <td>0.010200</td>\n",
              "      <td>0.993970</td>\n",
              "      <td>00:00</td>\n",
              "    </tr>\n",
              "    <tr>\n",
              "      <td>22</td>\n",
              "      <td>0.014734</td>\n",
              "      <td>0.010084</td>\n",
              "      <td>0.993970</td>\n",
              "      <td>00:00</td>\n",
              "    </tr>\n",
              "    <tr>\n",
              "      <td>23</td>\n",
              "      <td>0.014577</td>\n",
              "      <td>0.009972</td>\n",
              "      <td>0.993970</td>\n",
              "      <td>00:00</td>\n",
              "    </tr>\n",
              "    <tr>\n",
              "      <td>24</td>\n",
              "      <td>0.014427</td>\n",
              "      <td>0.009866</td>\n",
              "      <td>0.993970</td>\n",
              "      <td>00:00</td>\n",
              "    </tr>\n",
              "    <tr>\n",
              "      <td>25</td>\n",
              "      <td>0.014282</td>\n",
              "      <td>0.009764</td>\n",
              "      <td>0.993970</td>\n",
              "      <td>00:00</td>\n",
              "    </tr>\n",
              "    <tr>\n",
              "      <td>26</td>\n",
              "      <td>0.014143</td>\n",
              "      <td>0.009666</td>\n",
              "      <td>0.993970</td>\n",
              "      <td>00:00</td>\n",
              "    </tr>\n",
              "    <tr>\n",
              "      <td>27</td>\n",
              "      <td>0.014009</td>\n",
              "      <td>0.009572</td>\n",
              "      <td>0.993970</td>\n",
              "      <td>00:00</td>\n",
              "    </tr>\n",
              "    <tr>\n",
              "      <td>28</td>\n",
              "      <td>0.013880</td>\n",
              "      <td>0.009481</td>\n",
              "      <td>0.993970</td>\n",
              "      <td>00:00</td>\n",
              "    </tr>\n",
              "    <tr>\n",
              "      <td>29</td>\n",
              "      <td>0.013756</td>\n",
              "      <td>0.009394</td>\n",
              "      <td>0.993970</td>\n",
              "      <td>00:00</td>\n",
              "    </tr>\n",
              "    <tr>\n",
              "      <td>30</td>\n",
              "      <td>0.013636</td>\n",
              "      <td>0.009310</td>\n",
              "      <td>0.993970</td>\n",
              "      <td>00:00</td>\n",
              "    </tr>\n",
              "    <tr>\n",
              "      <td>31</td>\n",
              "      <td>0.013519</td>\n",
              "      <td>0.009229</td>\n",
              "      <td>0.993970</td>\n",
              "      <td>00:00</td>\n",
              "    </tr>\n",
              "    <tr>\n",
              "      <td>32</td>\n",
              "      <td>0.013407</td>\n",
              "      <td>0.009151</td>\n",
              "      <td>0.994975</td>\n",
              "      <td>00:00</td>\n",
              "    </tr>\n",
              "    <tr>\n",
              "      <td>33</td>\n",
              "      <td>0.013299</td>\n",
              "      <td>0.009076</td>\n",
              "      <td>0.994975</td>\n",
              "      <td>00:00</td>\n",
              "    </tr>\n",
              "    <tr>\n",
              "      <td>34</td>\n",
              "      <td>0.013194</td>\n",
              "      <td>0.009003</td>\n",
              "      <td>0.994975</td>\n",
              "      <td>00:00</td>\n",
              "    </tr>\n",
              "    <tr>\n",
              "      <td>35</td>\n",
              "      <td>0.013092</td>\n",
              "      <td>0.008932</td>\n",
              "      <td>0.994975</td>\n",
              "      <td>00:00</td>\n",
              "    </tr>\n",
              "    <tr>\n",
              "      <td>36</td>\n",
              "      <td>0.012993</td>\n",
              "      <td>0.008864</td>\n",
              "      <td>0.994975</td>\n",
              "      <td>00:00</td>\n",
              "    </tr>\n",
              "    <tr>\n",
              "      <td>37</td>\n",
              "      <td>0.012897</td>\n",
              "      <td>0.008798</td>\n",
              "      <td>0.994975</td>\n",
              "      <td>00:00</td>\n",
              "    </tr>\n",
              "    <tr>\n",
              "      <td>38</td>\n",
              "      <td>0.012804</td>\n",
              "      <td>0.008734</td>\n",
              "      <td>0.994975</td>\n",
              "      <td>00:00</td>\n",
              "    </tr>\n",
              "    <tr>\n",
              "      <td>39</td>\n",
              "      <td>0.012714</td>\n",
              "      <td>0.008671</td>\n",
              "      <td>0.994975</td>\n",
              "      <td>00:00</td>\n",
              "    </tr>\n",
              "  </tbody>\n",
              "</table>"
            ],
            "text/plain": [
              "<IPython.core.display.HTML object>"
            ]
          },
          "metadata": {
            "tags": []
          }
        }
      ]
    },
    {
      "cell_type": "code",
      "metadata": {
        "colab": {
          "base_uri": "https://localhost:8080/",
          "height": 265
        },
        "id": "amfNUZve11pM",
        "outputId": "c82a5e16-b797-4565-b0c0-7755840ffa64"
      },
      "source": [
        "plt.plot(L(learn.recorder.values).itemgot(2));"
      ],
      "execution_count": 265,
      "outputs": [
        {
          "output_type": "display_data",
          "data": {
            "image/png": "[encoded data removed]",
            "text/plain": [
              "<Figure size 432x288 with 1 Axes>"
            ]
          },
          "metadata": {
            "tags": [],
            "needs_background": "light"
          }
        }
      ]
    },
    {
      "cell_type": "code",
      "metadata": {
        "colab": {
          "base_uri": "https://localhost:8080/"
        },
        "id": "7mVTE8sB16T8",
        "outputId": "66e72370-1dc7-4ed7-ef0c-96924779b169"
      },
      "source": [
        "learn.recorder.values[-1][2] #view the final accuracy:"
      ],
      "execution_count": 266,
      "outputs": [
        {
          "output_type": "execute_result",
          "data": {
            "text/plain": [
              "0.9949748516082764"
            ]
          },
          "metadata": {
            "tags": []
          },
          "execution_count": 266
        }
      ]
    },
    {
      "cell_type": "code",
      "metadata": {
        "id": "orxgmAsg2gui",
        "colab": {
          "base_uri": "https://localhost:8080/",
          "height": 514
        },
        "outputId": "31e3b47a-69ac-4b66-d2a7-0bd54ba5b8ab"
      },
      "source": [
        "dls = ImageDataLoaders.from_folder(path,train='training',valid='testing')\n",
        "learn = cnn_learner(dls, resnet18, metrics=error_rate)\n",
        "learn.fit_one_cycle(15,1e-3)"
      ],
      "execution_count": 267,
      "outputs": [
        {
          "output_type": "display_data",
          "data": {
            "text/html": [
              "<table border=\"1\" class=\"dataframe\">\n",
              "  <thead>\n",
              "    <tr style=\"text-align: left;\">\n",
              "      <th>epoch</th>\n",
              "      <th>train_loss</th>\n",
              "      <th>valid_loss</th>\n",
              "      <th>error_rate</th>\n",
              "      <th>time</th>\n",
              "    </tr>\n",
              "  </thead>\n",
              "  <tbody>\n",
              "    <tr>\n",
              "      <td>0</td>\n",
              "      <td>0.977861</td>\n",
              "      <td>0.584303</td>\n",
              "      <td>0.179600</td>\n",
              "      <td>01:16</td>\n",
              "    </tr>\n",
              "    <tr>\n",
              "      <td>1</td>\n",
              "      <td>0.294682</td>\n",
              "      <td>0.158848</td>\n",
              "      <td>0.049900</td>\n",
              "      <td>01:16</td>\n",
              "    </tr>\n",
              "    <tr>\n",
              "      <td>2</td>\n",
              "      <td>0.148055</td>\n",
              "      <td>0.078763</td>\n",
              "      <td>0.025400</td>\n",
              "      <td>01:15</td>\n",
              "    </tr>\n",
              "    <tr>\n",
              "      <td>3</td>\n",
              "      <td>0.090491</td>\n",
              "      <td>0.051016</td>\n",
              "      <td>0.016000</td>\n",
              "      <td>01:13</td>\n",
              "    </tr>\n",
              "    <tr>\n",
              "      <td>4</td>\n",
              "      <td>0.081714</td>\n",
              "      <td>0.047864</td>\n",
              "      <td>0.015600</td>\n",
              "      <td>01:11</td>\n",
              "    </tr>\n",
              "    <tr>\n",
              "      <td>5</td>\n",
              "      <td>0.066280</td>\n",
              "      <td>0.038665</td>\n",
              "      <td>0.013300</td>\n",
              "      <td>01:12</td>\n",
              "    </tr>\n",
              "    <tr>\n",
              "      <td>6</td>\n",
              "      <td>0.056121</td>\n",
              "      <td>0.035661</td>\n",
              "      <td>0.012200</td>\n",
              "      <td>01:12</td>\n",
              "    </tr>\n",
              "    <tr>\n",
              "      <td>7</td>\n",
              "      <td>0.060280</td>\n",
              "      <td>0.034486</td>\n",
              "      <td>0.011900</td>\n",
              "      <td>01:17</td>\n",
              "    </tr>\n",
              "    <tr>\n",
              "      <td>8</td>\n",
              "      <td>0.051747</td>\n",
              "      <td>0.029372</td>\n",
              "      <td>0.010200</td>\n",
              "      <td>01:15</td>\n",
              "    </tr>\n",
              "    <tr>\n",
              "      <td>9</td>\n",
              "      <td>0.040597</td>\n",
              "      <td>0.032471</td>\n",
              "      <td>0.011600</td>\n",
              "      <td>01:15</td>\n",
              "    </tr>\n",
              "    <tr>\n",
              "      <td>10</td>\n",
              "      <td>0.036257</td>\n",
              "      <td>0.031228</td>\n",
              "      <td>0.010600</td>\n",
              "      <td>01:15</td>\n",
              "    </tr>\n",
              "    <tr>\n",
              "      <td>11</td>\n",
              "      <td>0.032417</td>\n",
              "      <td>0.031487</td>\n",
              "      <td>0.011000</td>\n",
              "      <td>01:15</td>\n",
              "    </tr>\n",
              "    <tr>\n",
              "      <td>12</td>\n",
              "      <td>0.025255</td>\n",
              "      <td>0.029583</td>\n",
              "      <td>0.010200</td>\n",
              "      <td>01:15</td>\n",
              "    </tr>\n",
              "    <tr>\n",
              "      <td>13</td>\n",
              "      <td>0.014956</td>\n",
              "      <td>0.030576</td>\n",
              "      <td>0.010000</td>\n",
              "      <td>01:15</td>\n",
              "    </tr>\n",
              "    <tr>\n",
              "      <td>14</td>\n",
              "      <td>0.023682</td>\n",
              "      <td>0.031104</td>\n",
              "      <td>0.010700</td>\n",
              "      <td>01:15</td>\n",
              "    </tr>\n",
              "  </tbody>\n",
              "</table>"
            ],
            "text/plain": [
              "<IPython.core.display.HTML object>"
            ]
          },
          "metadata": {
            "tags": []
          }
        }
      ]
    },
    {
      "cell_type": "code",
      "metadata": {
        "id": "na4N1wSZO-J4",
        "colab": {
          "base_uri": "https://localhost:8080/",
          "height": 551
        },
        "outputId": "8b60751c-1598-40b0-89b1-befcf76f508b"
      },
      "source": [
        "learn.show_results()"
      ],
      "execution_count": 273,
      "outputs": [
        {
          "output_type": "display_data",
          "data": {
            "text/html": [
              ""
            ],
            "text/plain": [
              "<IPython.core.display.HTML object>"
            ]
          },
          "metadata": {
            "tags": []
          }
        },
        {
          "output_type": "display_data",
          "data": {
            "image/png": "[encoded data removed]",
            "text/plain": [
              "<Figure size 648x648 with 9 Axes>"
            ]
          },
          "metadata": {
            "tags": [],
            "needs_background": "light"
          }
        }
      ]
    },
    {
      "cell_type": "code",
      "metadata": {
        "id": "mdlFJrA7azqM"
      },
      "source": [
        "learn.export()"
      ],
      "execution_count": 269,
      "outputs": []
    },
    {
      "cell_type": "code",
      "metadata": {
        "colab": {
          "base_uri": "https://localhost:8080/"
        },
        "id": "QfX3ThZhkBzQ",
        "outputId": "38b7789c-408d-490e-ddc5-ca9306461434"
      },
      "source": [
        "path = Path()\n",
        "path.ls(file_exts='.pkl')"
      ],
      "execution_count": 272,
      "outputs": [
        {
          "output_type": "execute_result",
          "data": {
            "text/plain": [
              "(#1) [Path('export.pkl')]"
            ]
          },
          "metadata": {
            "tags": []
          },
          "execution_count": 272
        }
      ]
    }
  ]
}